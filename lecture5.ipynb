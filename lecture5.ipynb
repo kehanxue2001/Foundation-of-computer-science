{
 "cells": [
  {
   "cell_type": "code",
   "execution_count": 1,
   "id": "c8e0b72e-005e-4b16-81d0-22e9bf5516af",
   "metadata": {},
   "outputs": [
    {
     "data": {
      "text/plain": [
       "11111111"
      ]
     },
     "execution_count": 1,
     "metadata": {},
     "output_type": "execute_result"
    }
   ],
   "source": [
    "int('11111111')"
   ]
  },
  {
   "cell_type": "code",
   "execution_count": 2,
   "id": "8bdceb5d-a6cd-443c-9111-d46a250745b2",
   "metadata": {},
   "outputs": [
    {
     "data": {
      "text/plain": [
       "255"
      ]
     },
     "execution_count": 2,
     "metadata": {},
     "output_type": "execute_result"
    }
   ],
   "source": [
    "int('11111111',2)"
   ]
  },
  {
   "cell_type": "code",
   "execution_count": 3,
   "id": "149df1fd-e3b9-494c-8e94-fb094b9a5644",
   "metadata": {},
   "outputs": [
    {
     "ename": "SyntaxError",
     "evalue": "invalid digit '2' in binary literal (654737982.py, line 1)",
     "output_type": "error",
     "traceback": [
      "\u001b[1;36m  Cell \u001b[1;32mIn[3], line 1\u001b[1;36m\u001b[0m\n\u001b[1;33m    0b236\u001b[0m\n\u001b[1;37m      ^\u001b[0m\n\u001b[1;31mSyntaxError\u001b[0m\u001b[1;31m:\u001b[0m invalid digit '2' in binary literal\n"
     ]
    }
   ],
   "source": [
    "0b236"
   ]
  },
  {
   "cell_type": "code",
   "execution_count": 4,
   "id": "a520c0ff-20ae-4c3f-aa09-709901940879",
   "metadata": {},
   "outputs": [
    {
     "data": {
      "text/plain": [
       "18"
      ]
     },
     "execution_count": 4,
     "metadata": {},
     "output_type": "execute_result"
    }
   ],
   "source": [
    "0b10010"
   ]
  },
  {
   "cell_type": "code",
   "execution_count": 5,
   "id": "0d5d6216-b15f-4934-8c00-0bd8e181f0cc",
   "metadata": {},
   "outputs": [
    {
     "data": {
      "text/plain": [
       "63"
      ]
     },
     "execution_count": 5,
     "metadata": {},
     "output_type": "execute_result"
    }
   ],
   "source": [
    "0o77"
   ]
  },
  {
   "cell_type": "code",
   "execution_count": 6,
   "id": "b9cd3da0-e2e6-4743-b430-6d799e001476",
   "metadata": {},
   "outputs": [
    {
     "data": {
      "text/plain": [
       "63"
      ]
     },
     "execution_count": 6,
     "metadata": {},
     "output_type": "execute_result"
    }
   ],
   "source": [
    "7+7*8"
   ]
  },
  {
   "cell_type": "code",
   "execution_count": 7,
   "id": "cce493c2-86ac-4996-88e1-d20842671eb6",
   "metadata": {},
   "outputs": [
    {
     "data": {
      "text/plain": [
       "708"
      ]
     },
     "execution_count": 7,
     "metadata": {},
     "output_type": "execute_result"
    }
   ],
   "source": [
    "0x2c4"
   ]
  },
  {
   "cell_type": "code",
   "execution_count": 9,
   "id": "2e99ea03-023f-44b7-ad64-0ab6050e3186",
   "metadata": {},
   "outputs": [
    {
     "data": {
      "text/plain": [
       "708"
      ]
     },
     "execution_count": 9,
     "metadata": {},
     "output_type": "execute_result"
    }
   ],
   "source": [
    "4+12*16+2*16**2"
   ]
  },
  {
   "cell_type": "code",
   "execution_count": 10,
   "id": "b667465b-902e-46f4-85ab-3fbb3b53e5e2",
   "metadata": {},
   "outputs": [
    {
     "data": {
      "text/plain": [
       "18"
      ]
     },
     "execution_count": 10,
     "metadata": {},
     "output_type": "execute_result"
    }
   ],
   "source": [
    "int('10010',2)"
   ]
  },
  {
   "cell_type": "code",
   "execution_count": 11,
   "id": "2007eb9f-e722-49d8-96b2-54fdde9ee635",
   "metadata": {},
   "outputs": [
    {
     "data": {
      "text/plain": [
       "63"
      ]
     },
     "execution_count": 11,
     "metadata": {},
     "output_type": "execute_result"
    }
   ],
   "source": [
    "int('77',8)"
   ]
  },
  {
   "cell_type": "code",
   "execution_count": 12,
   "id": "0c8f9e69-6db6-43e7-8e76-dce2921817d1",
   "metadata": {},
   "outputs": [
    {
     "data": {
      "text/plain": [
       "708"
      ]
     },
     "execution_count": 12,
     "metadata": {},
     "output_type": "execute_result"
    }
   ],
   "source": [
    "int('2c4',16)"
   ]
  },
  {
   "cell_type": "code",
   "execution_count": 13,
   "id": "f565843d-363e-4e86-a522-92c76b1a7b48",
   "metadata": {},
   "outputs": [
    {
     "data": {
      "text/plain": [
       "'90'"
      ]
     },
     "execution_count": 13,
     "metadata": {},
     "output_type": "execute_result"
    }
   ],
   "source": [
    " f'{90}'"
   ]
  },
  {
   "cell_type": "code",
   "execution_count": 14,
   "id": "3c44b47c-fe5d-449c-b356-78d100830a17",
   "metadata": {},
   "outputs": [
    {
     "data": {
      "text/plain": [
       "'1011010'"
      ]
     },
     "execution_count": 14,
     "metadata": {},
     "output_type": "execute_result"
    }
   ],
   "source": [
    " f'{90:b}'"
   ]
  },
  {
   "cell_type": "code",
   "execution_count": 15,
   "id": "d47a3ac7-4843-43e1-9618-eb8ac5755f13",
   "metadata": {},
   "outputs": [
    {
     "data": {
      "text/plain": [
       "'2c4'"
      ]
     },
     "execution_count": 15,
     "metadata": {},
     "output_type": "execute_result"
    }
   ],
   "source": [
    " f'{708:x}'"
   ]
  },
  {
   "cell_type": "code",
   "execution_count": 16,
   "id": "13fa986c-0d5f-4821-af58-8d5fcbc08de6",
   "metadata": {},
   "outputs": [
    {
     "data": {
      "text/plain": [
       "'77'"
      ]
     },
     "execution_count": 16,
     "metadata": {},
     "output_type": "execute_result"
    }
   ],
   "source": [
    "f'{63:o}'"
   ]
  },
  {
   "cell_type": "code",
   "execution_count": 18,
   "id": "083d972f-0718-424d-bedc-c252e6af5ad3",
   "metadata": {},
   "outputs": [
    {
     "data": {
      "text/plain": [
       "'63'"
      ]
     },
     "execution_count": 18,
     "metadata": {},
     "output_type": "execute_result"
    }
   ],
   "source": [
    "f'{63:.0f}'"
   ]
  },
  {
   "cell_type": "code",
   "execution_count": 19,
   "id": "bee1bdfe-a150-49a9-b285-6d91fe013911",
   "metadata": {},
   "outputs": [
    {
     "data": {
      "text/plain": [
       "' 1011010'"
      ]
     },
     "execution_count": 19,
     "metadata": {},
     "output_type": "execute_result"
    }
   ],
   "source": [
    "f'{90:8b}'"
   ]
  },
  {
   "cell_type": "code",
   "execution_count": 20,
   "id": "24f9b558-0ac4-4514-b11d-6efc36598f53",
   "metadata": {},
   "outputs": [
    {
     "data": {
      "text/plain": [
       "'01011010'"
      ]
     },
     "execution_count": 20,
     "metadata": {},
     "output_type": "execute_result"
    }
   ],
   "source": [
    "f'{90:08b}'"
   ]
  },
  {
   "cell_type": "code",
   "execution_count": 21,
   "id": "87d29092-f041-4da5-9bcd-3659f6bbdc57",
   "metadata": {},
   "outputs": [
    {
     "data": {
      "text/plain": [
       "[0, 1, 0, 1, 1, 0, 1, 0]"
      ]
     },
     "execution_count": 21,
     "metadata": {},
     "output_type": "execute_result"
    }
   ],
   "source": [
    "[0,1,0,1,1,0,1,0]"
   ]
  },
  {
   "cell_type": "code",
   "execution_count": 23,
   "id": "0f02782b-e26c-472a-83e9-95b01ca4cca9",
   "metadata": {},
   "outputs": [],
   "source": [
    "rule_nb = 90"
   ]
  },
  {
   "cell_type": "code",
   "execution_count": 24,
   "id": "52f8f799-cf3d-454c-9fff-57d120672e7b",
   "metadata": {},
   "outputs": [
    {
     "data": {
      "text/plain": [
       "'01011010'"
      ]
     },
     "execution_count": 24,
     "metadata": {},
     "output_type": "execute_result"
    }
   ],
   "source": [
    "f'{rule_nb:08b}'"
   ]
  },
  {
   "cell_type": "code",
   "execution_count": 25,
   "id": "0e531880-c70e-459d-995e-d1901073635b",
   "metadata": {},
   "outputs": [
    {
     "data": {
      "text/plain": [
       "['0', '1', '0', '1', '1', '0', '1', '0']"
      ]
     },
     "execution_count": 25,
     "metadata": {},
     "output_type": "execute_result"
    }
   ],
   "source": [
    "[e for e in f'{rule_nb:08b}']"
   ]
  },
  {
   "cell_type": "code",
   "execution_count": 26,
   "id": "99a02f70-e936-4e04-898b-b90f7dced708",
   "metadata": {},
   "outputs": [
    {
     "data": {
      "text/plain": [
       "[0, 1, 0, 1, 1, 0, 1, 0]"
      ]
     },
     "execution_count": 26,
     "metadata": {},
     "output_type": "execute_result"
    }
   ],
   "source": [
    "[int(e) for e in f'{rule_nb:08b}']"
   ]
  },
  {
   "cell_type": "code",
   "execution_count": 29,
   "id": "ab45cc5c-9346-4b46-aa10-0cfaafb4318a",
   "metadata": {},
   "outputs": [
    {
     "name": "stdout",
     "output_type": "stream",
     "text": [
      "000\n",
      "001\n",
      "010\n",
      "011\n",
      "100\n",
      "101\n",
      "110\n",
      "111\n"
     ]
    }
   ],
   "source": [
    "for i in range(8):\n",
    "    f'{i:03b}'"
   ]
  },
  {
   "cell_type": "code",
   "execution_count": 33,
   "id": "59696c69-26ce-4cd9-b24f-312e86acd2f2",
   "metadata": {},
   "outputs": [
    {
     "name": "stdout",
     "output_type": "stream",
     "text": [
      "[0, 0, 0]\n",
      "[0, 0, 1]\n",
      "[0, 1, 0]\n",
      "[0, 1, 1]\n",
      "[1, 0, 0]\n",
      "[1, 0, 1]\n",
      "[1, 1, 0]\n",
      "[1, 1, 1]\n"
     ]
    }
   ],
   "source": [
    "for i in range(8):\n",
    "    print([int(b) for b in f'{i:03b}'])"
   ]
  },
  {
   "cell_type": "code",
   "execution_count": 34,
   "id": "b102af44-260f-4d5f-8664-abbeaea6d7cf",
   "metadata": {},
   "outputs": [
    {
     "name": "stdout",
     "output_type": "stream",
     "text": [
      "(0, 0, 0)\n",
      "(0, 0, 1)\n",
      "(0, 1, 0)\n",
      "(0, 1, 1)\n",
      "(1, 0, 0)\n",
      "(1, 0, 1)\n",
      "(1, 1, 0)\n",
      "(1, 1, 1)\n"
     ]
    }
   ],
   "source": [
    "for i in range(8):\n",
    "    print(tuple(int(b) for b in f'{i:03b}'))"
   ]
  },
  {
   "cell_type": "code",
   "execution_count": 37,
   "id": "810081df-5c0d-45a8-9c5e-6281ecfda377",
   "metadata": {},
   "outputs": [
    {
     "data": {
      "text/plain": [
       "[0, 1, 0, 1, 1, 0, 1, 0]"
      ]
     },
     "execution_count": 37,
     "metadata": {},
     "output_type": "execute_result"
    }
   ],
   "source": [
    "rule_values = [int(e) for e in f'{rule_nb:08b}']\n",
    "rule_values"
   ]
  },
  {
   "cell_type": "code",
   "execution_count": 38,
   "id": "96c7ce4b-3232-432c-aebe-89040509e6b5",
   "metadata": {},
   "outputs": [],
   "source": [
    "rules = {tuple(int(b) for b in f'{i:03b}'):rule_values[7-i] for i in range(8)}"
   ]
  },
  {
   "cell_type": "code",
   "execution_count": 39,
   "id": "4398f3b1-2b7b-4b11-a7fc-2eb40e97ec26",
   "metadata": {},
   "outputs": [
    {
     "data": {
      "text/plain": [
       "{(0, 0, 0): 0,\n",
       " (0, 0, 1): 1,\n",
       " (0, 1, 0): 0,\n",
       " (0, 1, 1): 1,\n",
       " (1, 0, 0): 1,\n",
       " (1, 0, 1): 0,\n",
       " (1, 1, 0): 1,\n",
       " (1, 1, 1): 0}"
      ]
     },
     "execution_count": 39,
     "metadata": {},
     "output_type": "execute_result"
    }
   ],
   "source": [
    "rules"
   ]
  },
  {
   "cell_type": "code",
   "execution_count": 41,
   "id": "bae9a6eb-c6bb-4444-b7e3-040d5eec84f3",
   "metadata": {},
   "outputs": [
    {
     "data": {
      "text/plain": [
       "'100111'"
      ]
     },
     "execution_count": 41,
     "metadata": {},
     "output_type": "execute_result"
    }
   ],
   "source": [
    "f'{39:b}'"
   ]
  },
  {
   "cell_type": "code",
   "execution_count": 42,
   "id": "f17f4ea9-6fc1-4008-b970-1a8f43d68e01",
   "metadata": {},
   "outputs": [
    {
     "data": {
      "text/plain": [
       "(19, 1)"
      ]
     },
     "execution_count": 42,
     "metadata": {},
     "output_type": "execute_result"
    }
   ],
   "source": [
    "39//2,39%2"
   ]
  },
  {
   "cell_type": "code",
   "execution_count": 43,
   "id": "a2aaead6-a9fa-4c39-b3b5-ee4d02efd11e",
   "metadata": {},
   "outputs": [
    {
     "data": {
      "text/plain": [
       "'10011'"
      ]
     },
     "execution_count": 43,
     "metadata": {},
     "output_type": "execute_result"
    }
   ],
   "source": [
    "f'{19:b}'"
   ]
  },
  {
   "cell_type": "code",
   "execution_count": 4,
   "id": "5db3b47f-8af1-4545-98c4-ed65087d921f",
   "metadata": {},
   "outputs": [
    {
     "name": "stdout",
     "output_type": "stream",
     "text": [
      "<generator object <genexpr> at 0x00000295B4DE77C0>\n"
     ]
    }
   ],
   "source": [
    "print(e for e in range(3))"
   ]
  },
  {
   "cell_type": "code",
   "execution_count": 45,
   "id": "83ba0120-e564-442e-843a-42e5da809eb8",
   "metadata": {},
   "outputs": [
    {
     "data": {
      "text/plain": [
       "(9, 3)"
      ]
     },
     "execution_count": 45,
     "metadata": {},
     "output_type": "execute_result"
    }
   ],
   "source": [
    "39//2**2,39%2**2"
   ]
  },
  {
   "cell_type": "code",
   "execution_count": 7,
   "id": "cf9355ee-1c3b-46c9-b2cf-e5fc00eff8c3",
   "metadata": {},
   "outputs": [
    {
     "name": "stdout",
     "output_type": "stream",
     "text": [
      "111110022222212120\n"
     ]
    }
   ],
   "source": [
    "n=193090137\n",
    "result = \"\"\n",
    "while n > 0:\n",
    "    result = str(n % 3) + result\n",
    "    n //= 3\n",
    "print(result)"
   ]
  },
  {
   "cell_type": "code",
   "execution_count": 46,
   "id": "9ef38336-0ed3-471d-a77e-a5570a38f30b",
   "metadata": {},
   "outputs": [
    {
     "data": {
      "text/plain": [
       "'1001'"
      ]
     },
     "execution_count": 46,
     "metadata": {},
     "output_type": "execute_result"
    }
   ],
   "source": [
    "f'{9:b}'"
   ]
  },
  {
   "cell_type": "code",
   "execution_count": 47,
   "id": "12936b0f-b6cd-4b0f-8943-8a416efef50b",
   "metadata": {},
   "outputs": [
    {
     "data": {
      "text/plain": [
       "'101'"
      ]
     },
     "execution_count": 47,
     "metadata": {},
     "output_type": "execute_result"
    }
   ],
   "source": [
    "f'{5:b}'"
   ]
  },
  {
   "cell_type": "code",
   "execution_count": 48,
   "id": "e8ac2e03-bbc0-47f4-bc87-f1a1452753ab",
   "metadata": {},
   "outputs": [
    {
     "data": {
      "text/plain": [
       "(1, 0, 1)"
      ]
     },
     "execution_count": 48,
     "metadata": {},
     "output_type": "execute_result"
    }
   ],
   "source": [
    "5//4,5//2%2,5%2"
   ]
  },
  {
   "cell_type": "code",
   "execution_count": 49,
   "id": "bcd043af-8357-4885-afc9-2ad9a5a4bbc2",
   "metadata": {},
   "outputs": [
    {
     "data": {
      "text/plain": [
       "(1, 0, 1)"
      ]
     },
     "execution_count": 49,
     "metadata": {},
     "output_type": "execute_result"
    }
   ],
   "source": [
    "5//4,5%4//2,5%2"
   ]
  },
  {
   "cell_type": "code",
   "execution_count": 52,
   "id": "e0fde10f-aa84-45dd-9180-6a8904769c1f",
   "metadata": {},
   "outputs": [
    {
     "name": "stdout",
     "output_type": "stream",
     "text": [
      "(0, 0, 0)\n",
      "(0, 0, 1)\n",
      "(0, 1, 0)\n",
      "(0, 1, 1)\n",
      "(1, 0, 0)\n",
      "(1, 0, 1)\n",
      "(1, 1, 0)\n",
      "(1, 1, 1)\n"
     ]
    }
   ],
   "source": [
    "for i in range(8):\n",
    "    print((i//4,i//2%2,i%2))"
   ]
  },
  {
   "cell_type": "code",
   "execution_count": 53,
   "id": "f0443cc6-3b91-4c7d-bdf5-84127f5a193f",
   "metadata": {},
   "outputs": [
    {
     "data": {
      "text/plain": [
       "{(0, 0, 0): 0,\n",
       " (0, 0, 1): 1,\n",
       " (0, 1, 0): 0,\n",
       " (0, 1, 1): 1,\n",
       " (1, 0, 0): 1,\n",
       " (1, 0, 1): 0,\n",
       " (1, 1, 0): 1,\n",
       " (1, 1, 1): 0}"
      ]
     },
     "execution_count": 53,
     "metadata": {},
     "output_type": "execute_result"
    }
   ],
   "source": [
    " {(i//4,i//2%2,i%2):rule_values[7-i] for i in range(8)}"
   ]
  },
  {
   "cell_type": "code",
   "execution_count": 59,
   "id": "3808a64e-0e3f-4b65-97f4-05263593361f",
   "metadata": {},
   "outputs": [
    {
     "name": "stdout",
     "output_type": "stream",
     "text": [
      "1 0 0 1 1\n"
     ]
    }
   ],
   "source": [
    "L = [1,0,0,1,1]\n",
    "def display_line(L):\n",
    "    print(' '.join(str(e) for e in L))\n",
    "display_line(L)"
   ]
  },
  {
   "cell_type": "code",
   "execution_count": 60,
   "id": "fb2988ec-ae55-4d01-ae4c-537c25bcdde0",
   "metadata": {},
   "outputs": [
    {
     "name": "stdout",
     "output_type": "stream",
     "text": [
      "1 0 0 1 1\n"
     ]
    }
   ],
   "source": [
    "L = [1,0,0,1,1]\n",
    "def display_line(L):\n",
    "    print(*L)\n",
    "display_line(L)"
   ]
  },
  {
   "cell_type": "code",
   "execution_count": 61,
   "id": "5c445812-86ba-431f-9810-0b8cbbb5b2ea",
   "metadata": {},
   "outputs": [
    {
     "data": {
      "text/plain": [
       "65"
      ]
     },
     "execution_count": 61,
     "metadata": {},
     "output_type": "execute_result"
    }
   ],
   "source": [
    "ord('A')"
   ]
  },
  {
   "cell_type": "code",
   "execution_count": 12,
   "id": "f66f92cb-de70-43c3-a9d3-062004bb031a",
   "metadata": {},
   "outputs": [
    {
     "name": "stdout",
     "output_type": "stream",
     "text": [
      "q\n",
      "w\n",
      "r\n",
      "q\n",
      "d\n",
      "q\n",
      "w\n",
      "d\n",
      "q\n",
      "w\n"
     ]
    }
   ],
   "source": [
    "a='qwrqdqwdqw'\n",
    "type(a)\n",
    "for i in a:\n",
    "    print(i)"
   ]
  },
  {
   "cell_type": "code",
   "execution_count": 69,
   "id": "a2ada778-39bd-43d2-8861-15f3652a212d",
   "metadata": {},
   "outputs": [
    {
     "data": {
      "text/plain": [
       "'L'"
      ]
     },
     "execution_count": 69,
     "metadata": {},
     "output_type": "execute_result"
    }
   ],
   "source": [
    "chr(76)"
   ]
  },
  {
   "cell_type": "code",
   "execution_count": 70,
   "id": "8551826b-df85-42f2-8caf-b5da0db4a9e6",
   "metadata": {},
   "outputs": [
    {
     "ename": "SyntaxError",
     "evalue": "invalid decimal literal (2866128201.py, line 1)",
     "output_type": "error",
     "traceback": [
      "\u001b[1;36m  Cell \u001b[1;32mIn[70], line 1\u001b[1;36m\u001b[0m\n\u001b[1;33m    U+2B1B\u001b[0m\n\u001b[1;37m      ^\u001b[0m\n\u001b[1;31mSyntaxError\u001b[0m\u001b[1;31m:\u001b[0m invalid decimal literal\n"
     ]
    }
   ],
   "source": [
    "U+2B1B"
   ]
  },
  {
   "cell_type": "code",
   "execution_count": 71,
   "id": "12116828-5921-4bf5-9e29-e17cd9f4a291",
   "metadata": {},
   "outputs": [
    {
     "data": {
      "text/plain": [
       "'0x2b1b'"
      ]
     },
     "execution_count": 71,
     "metadata": {},
     "output_type": "execute_result"
    }
   ],
   "source": [
    "hex(0x2b1b)"
   ]
  },
  {
   "cell_type": "code",
   "execution_count": 72,
   "id": "6169ac7b-c43d-41f2-a88a-d3d84e6be983",
   "metadata": {},
   "outputs": [
    {
     "data": {
      "text/plain": [
       "11035"
      ]
     },
     "execution_count": 72,
     "metadata": {},
     "output_type": "execute_result"
    }
   ],
   "source": [
    "0x2b1b"
   ]
  },
  {
   "cell_type": "code",
   "execution_count": 73,
   "id": "2e1890e8-00d8-41d2-b776-b8f4c57669ff",
   "metadata": {},
   "outputs": [
    {
     "data": {
      "text/plain": [
       "'0b1000'"
      ]
     },
     "execution_count": 73,
     "metadata": {},
     "output_type": "execute_result"
    }
   ],
   "source": [
    "bin(8)"
   ]
  },
  {
   "cell_type": "code",
   "execution_count": 74,
   "id": "7f1399a5-2304-4f3e-aaa7-34cf908bc914",
   "metadata": {},
   "outputs": [
    {
     "data": {
      "text/plain": [
       "'0x2b1b'"
      ]
     },
     "execution_count": 74,
     "metadata": {},
     "output_type": "execute_result"
    }
   ],
   "source": [
    "hex(11035)"
   ]
  },
  {
   "cell_type": "code",
   "execution_count": 75,
   "id": "f442a47f-9637-4276-98c2-c49612b250b4",
   "metadata": {},
   "outputs": [
    {
     "data": {
      "text/plain": [
       "'⬛'"
      ]
     },
     "execution_count": 75,
     "metadata": {},
     "output_type": "execute_result"
    }
   ],
   "source": [
    "chr(11035)"
   ]
  },
  {
   "cell_type": "code",
   "execution_count": 76,
   "id": "42ec17f6-d1e1-4003-9083-57bfe7d952dc",
   "metadata": {},
   "outputs": [
    {
     "data": {
      "text/plain": [
       "'⬛'"
      ]
     },
     "execution_count": 76,
     "metadata": {},
     "output_type": "execute_result"
    }
   ],
   "source": [
    "chr(0x2b1b)"
   ]
  },
  {
   "cell_type": "code",
   "execution_count": 77,
   "id": "ae86bca3-9f59-4745-b740-a96574ba5f1a",
   "metadata": {},
   "outputs": [
    {
     "data": {
      "text/plain": [
       "'⬛'"
      ]
     },
     "execution_count": 77,
     "metadata": {},
     "output_type": "execute_result"
    }
   ],
   "source": [
    "'\\U00002b1b'"
   ]
  },
  {
   "cell_type": "code",
   "execution_count": 78,
   "id": "7742b879-a491-4be6-9267-f8190353963c",
   "metadata": {},
   "outputs": [
    {
     "data": {
      "text/plain": [
       "'⬛'"
      ]
     },
     "execution_count": 78,
     "metadata": {},
     "output_type": "execute_result"
    }
   ],
   "source": [
    "'\\u2b1b'"
   ]
  },
  {
   "cell_type": "code",
   "execution_count": 79,
   "id": "2262e271-e0fb-4e9d-aab9-667db2241af3",
   "metadata": {},
   "outputs": [
    {
     "data": {
      "text/plain": [
       "'⬛'"
      ]
     },
     "execution_count": 79,
     "metadata": {},
     "output_type": "execute_result"
    }
   ],
   "source": [
    "'\\N{black large square}'"
   ]
  },
  {
   "cell_type": "code",
   "execution_count": 80,
   "id": "5913d764-b2b8-435b-92a8-4dd8a466c15e",
   "metadata": {},
   "outputs": [
    {
     "data": {
      "text/plain": [
       "'⬛'"
      ]
     },
     "execution_count": 80,
     "metadata": {},
     "output_type": "execute_result"
    }
   ],
   "source": [
    "'⬛'"
   ]
  },
  {
   "cell_type": "code",
   "execution_count": null,
   "id": "a25215ee-c699-4885-8c71-1ba1decd3e02",
   "metadata": {},
   "outputs": [],
   "source": []
  },
  {
   "cell_type": "code",
   "execution_count": 82,
   "id": "01f90d28-37ce-4e5b-8a4c-705b21841cf0",
   "metadata": {},
   "outputs": [
    {
     "data": {
      "text/plain": [
       "'⬜'"
      ]
     },
     "execution_count": 82,
     "metadata": {},
     "output_type": "execute_result"
    }
   ],
   "source": [
    "'\\N{white large square}'"
   ]
  },
  {
   "cell_type": "code",
   "execution_count": 85,
   "id": "ea4af5f9-bf1d-47a6-90f7-0e94df4b5944",
   "metadata": {},
   "outputs": [
    {
     "name": "stdout",
     "output_type": "stream",
     "text": [
      "⬛⬜⬜⬛⬛\n"
     ]
    }
   ],
   "source": [
    "squares = {0:'⬜',1:'⬛'}\n",
    "L = [1,0,0,1,1]\n",
    "def display_line(L):\n",
    "    print(''.join(squares[e] for e in L))\n",
    "display_line(L)"
   ]
  },
  {
   "cell_type": "code",
   "execution_count": 90,
   "id": "7068908e-105a-4d68-b496-e332f28e7408",
   "metadata": {},
   "outputs": [],
   "source": [
    "def display_line(within_code,bit_outside,repetition):\n",
    "    print(squares[bit_outside]*repetition,\n",
    "          ''.join(squares[e] for e in within_code),\n",
    "          squares[bit_outside]*repetition,sep='')"
   ]
  },
  {
   "cell_type": "code",
   "execution_count": 91,
   "id": "b076ac1f-ab63-4ba1-bb7d-41e6bc323cff",
   "metadata": {},
   "outputs": [
    {
     "name": "stdout",
     "output_type": "stream",
     "text": [
      "⬜⬜⬜⬜⬛⬜⬜⬜⬜\n"
     ]
    }
   ],
   "source": [
    "display_line([1],0,4)"
   ]
  },
  {
   "cell_type": "code",
   "execution_count": 93,
   "id": "619f9ca6-9c27-4fd4-b6f1-ac26cbfb2b5d",
   "metadata": {},
   "outputs": [
    {
     "data": {
      "text/plain": [
       "{(0, 0, 0): 0,\n",
       " (0, 0, 1): 1,\n",
       " (0, 1, 0): 0,\n",
       " (0, 1, 1): 1,\n",
       " (1, 0, 0): 1,\n",
       " (1, 0, 1): 0,\n",
       " (1, 1, 0): 1,\n",
       " (1, 1, 1): 0}"
      ]
     },
     "execution_count": 93,
     "metadata": {},
     "output_type": "execute_result"
    }
   ],
   "source": [
    "rule_nb=90\n",
    "rule_values = [int(e) for e in f'{rule_nb:08b}']\n",
    "game = {(i//4,i//2%2,i%2):rule_values[7-i] for i in range(8)}\n",
    "rule_values\n",
    "game"
   ]
  },
  {
   "cell_type": "code",
   "execution_count": 96,
   "id": "adfb733f-c0f5-44be-84dd-7071ba306c6b",
   "metadata": {},
   "outputs": [
    {
     "ename": "IndexError",
     "evalue": "list index out of range",
     "output_type": "error",
     "traceback": [
      "\u001b[1;31m---------------------------------------------------------------------------\u001b[0m",
      "\u001b[1;31mIndexError\u001b[0m                                Traceback (most recent call last)",
      "Cell \u001b[1;32mIn[96], line 4\u001b[0m\n\u001b[0;32m      2\u001b[0m bit_outside \u001b[38;5;241m=\u001b[39m \u001b[38;5;241m0\u001b[39m\n\u001b[0;32m      3\u001b[0m extened_current_line \u001b[38;5;241m=\u001b[39m [bit_outside]\u001b[38;5;241m*\u001b[39m\u001b[38;5;241m2\u001b[39m\u001b[38;5;241m+\u001b[39mcurrent_line\u001b[38;5;241m+\u001b[39m[bit_outside]\u001b[38;5;241m*\u001b[39m\u001b[38;5;241m2\u001b[39m\n\u001b[1;32m----> 4\u001b[0m [game[current_line[i],current_line[i\u001b[38;5;241m+\u001b[39m\u001b[38;5;241m1\u001b[39m],current_line[i\u001b[38;5;241m+\u001b[39m\u001b[38;5;241m2\u001b[39m]] \u001b[38;5;28;01mfor\u001b[39;00m i \u001b[38;5;129;01min\u001b[39;00m \u001b[38;5;28mrange\u001b[39m(\u001b[38;5;28mlen\u001b[39m(extened_current_line)\u001b[38;5;241m-\u001b[39m\u001b[38;5;241m2\u001b[39m)]\n",
      "\u001b[1;31mIndexError\u001b[0m: list index out of range"
     ]
    }
   ],
   "source": [
    "current_line=[1]\n",
    "bit_outside = 0\n",
    "extened_current_line = [bit_outside]*2+current_line+[bit_outside]*2\n",
    "[game[current_line[i],current_line[i+1],current_line[i+2]] for i in range(len(extened_current_line)-2)]"
   ]
  },
  {
   "cell_type": "code",
   "execution_count": 103,
   "id": "cd9fbfbf-aee5-4863-8ee2-df1587a82313",
   "metadata": {},
   "outputs": [
    {
     "name": "stdout",
     "output_type": "stream",
     "text": [
      "[1]\n",
      "[0, 0, 1, 0, 0]\n",
      "[1, 0, 1]\n",
      "[0, 0, 1, 0, 1, 0, 0]\n",
      "[1, 0, 0, 0, 1]\n"
     ]
    }
   ],
   "source": [
    "current_line=[1]\n",
    "print(current_line)\n",
    "bit_outside = 0\n",
    "extened_current_line = [bit_outside]*2+current_line+[bit_outside]*2\n",
    "print(extened_current_line)\n",
    "current_line = [game[extened_current_line[i],extened_current_line[i+1],extened_current_line[i+2]]\n",
    " for i in range(len(extened_current_line)-2)\n",
    "                ]\n",
    "print(current_line)\n",
    "extened_current_line = [bit_outside]*2+current_line+[bit_outside]*2\n",
    "print(extened_current_line)\n",
    "current_line = [game[extened_current_line[i],extened_current_line[i+1],extened_current_line[i+2]]\n",
    " for i in range(len(extened_current_line)-2)\n",
    "                ]\n",
    "print(current_line)"
   ]
  },
  {
   "cell_type": "code",
   "execution_count": 104,
   "id": "3f1580d1-f4a6-4355-a683-a93558fea3f5",
   "metadata": {},
   "outputs": [],
   "source": [
    "def display_game(height):\n",
    "    current_line=[1]\n",
    "    bit_outside = 0\n",
    "    display_line(current_line,bit_outside,height)\n",
    "    for i in range(height):\n",
    "        extened_current_line = [bit_outside]*2+current_line+[bit_outside]*2\n",
    "        current_line = [game[extened_current_line[i],extened_current_line[i+1],extened_current_line[i+2]]\n",
    "                         for i in range(len(extened_current_line)-2)\n",
    "                        ]\n",
    "        bit_outside= game[bit_outside,bit_outside,bit_outside]\n",
    "        display_line(current_line,bit_outside,height-i-1)"
   ]
  },
  {
   "cell_type": "code",
   "execution_count": 105,
   "id": "ce42f101-852f-456f-8530-eb0544e221cd",
   "metadata": {},
   "outputs": [
    {
     "name": "stdout",
     "output_type": "stream",
     "text": [
      "⬜⬜⬜⬜⬜⬜⬜⬜⬜⬜⬜⬜⬜⬜⬜⬜⬜⬜⬜⬜⬛⬜⬜⬜⬜⬜⬜⬜⬜⬜⬜⬜⬜⬜⬜⬜⬜⬜⬜⬜⬜\n",
      "⬜⬜⬜⬜⬜⬜⬜⬜⬜⬜⬜⬜⬜⬜⬜⬜⬜⬜⬜⬛⬜⬛⬜⬜⬜⬜⬜⬜⬜⬜⬜⬜⬜⬜⬜⬜⬜⬜⬜⬜⬜\n",
      "⬜⬜⬜⬜⬜⬜⬜⬜⬜⬜⬜⬜⬜⬜⬜⬜⬜⬜⬛⬜⬜⬜⬛⬜⬜⬜⬜⬜⬜⬜⬜⬜⬜⬜⬜⬜⬜⬜⬜⬜⬜\n",
      "⬜⬜⬜⬜⬜⬜⬜⬜⬜⬜⬜⬜⬜⬜⬜⬜⬜⬛⬜⬛⬜⬛⬜⬛⬜⬜⬜⬜⬜⬜⬜⬜⬜⬜⬜⬜⬜⬜⬜⬜⬜\n",
      "⬜⬜⬜⬜⬜⬜⬜⬜⬜⬜⬜⬜⬜⬜⬜⬜⬛⬜⬜⬜⬜⬜⬜⬜⬛⬜⬜⬜⬜⬜⬜⬜⬜⬜⬜⬜⬜⬜⬜⬜⬜\n",
      "⬜⬜⬜⬜⬜⬜⬜⬜⬜⬜⬜⬜⬜⬜⬜⬛⬜⬛⬜⬜⬜⬜⬜⬛⬜⬛⬜⬜⬜⬜⬜⬜⬜⬜⬜⬜⬜⬜⬜⬜⬜\n",
      "⬜⬜⬜⬜⬜⬜⬜⬜⬜⬜⬜⬜⬜⬜⬛⬜⬜⬜⬛⬜⬜⬜⬛⬜⬜⬜⬛⬜⬜⬜⬜⬜⬜⬜⬜⬜⬜⬜⬜⬜⬜\n",
      "⬜⬜⬜⬜⬜⬜⬜⬜⬜⬜⬜⬜⬜⬛⬜⬛⬜⬛⬜⬛⬜⬛⬜⬛⬜⬛⬜⬛⬜⬜⬜⬜⬜⬜⬜⬜⬜⬜⬜⬜⬜\n",
      "⬜⬜⬜⬜⬜⬜⬜⬜⬜⬜⬜⬜⬛⬜⬜⬜⬜⬜⬜⬜⬜⬜⬜⬜⬜⬜⬜⬜⬛⬜⬜⬜⬜⬜⬜⬜⬜⬜⬜⬜⬜\n",
      "⬜⬜⬜⬜⬜⬜⬜⬜⬜⬜⬜⬛⬜⬛⬜⬜⬜⬜⬜⬜⬜⬜⬜⬜⬜⬜⬜⬛⬜⬛⬜⬜⬜⬜⬜⬜⬜⬜⬜⬜⬜\n",
      "⬜⬜⬜⬜⬜⬜⬜⬜⬜⬜⬛⬜⬜⬜⬛⬜⬜⬜⬜⬜⬜⬜⬜⬜⬜⬜⬛⬜⬜⬜⬛⬜⬜⬜⬜⬜⬜⬜⬜⬜⬜\n",
      "⬜⬜⬜⬜⬜⬜⬜⬜⬜⬛⬜⬛⬜⬛⬜⬛⬜⬜⬜⬜⬜⬜⬜⬜⬜⬛⬜⬛⬜⬛⬜⬛⬜⬜⬜⬜⬜⬜⬜⬜⬜\n",
      "⬜⬜⬜⬜⬜⬜⬜⬜⬛⬜⬜⬜⬜⬜⬜⬜⬛⬜⬜⬜⬜⬜⬜⬜⬛⬜⬜⬜⬜⬜⬜⬜⬛⬜⬜⬜⬜⬜⬜⬜⬜\n",
      "⬜⬜⬜⬜⬜⬜⬜⬛⬜⬛⬜⬜⬜⬜⬜⬛⬜⬛⬜⬜⬜⬜⬜⬛⬜⬛⬜⬜⬜⬜⬜⬛⬜⬛⬜⬜⬜⬜⬜⬜⬜\n",
      "⬜⬜⬜⬜⬜⬜⬛⬜⬜⬜⬛⬜⬜⬜⬛⬜⬜⬜⬛⬜⬜⬜⬛⬜⬜⬜⬛⬜⬜⬜⬛⬜⬜⬜⬛⬜⬜⬜⬜⬜⬜\n",
      "⬜⬜⬜⬜⬜⬛⬜⬛⬜⬛⬜⬛⬜⬛⬜⬛⬜⬛⬜⬛⬜⬛⬜⬛⬜⬛⬜⬛⬜⬛⬜⬛⬜⬛⬜⬛⬜⬜⬜⬜⬜\n",
      "⬜⬜⬜⬜⬛⬜⬜⬜⬜⬜⬜⬜⬜⬜⬜⬜⬜⬜⬜⬜⬜⬜⬜⬜⬜⬜⬜⬜⬜⬜⬜⬜⬜⬜⬜⬜⬛⬜⬜⬜⬜\n",
      "⬜⬜⬜⬛⬜⬛⬜⬜⬜⬜⬜⬜⬜⬜⬜⬜⬜⬜⬜⬜⬜⬜⬜⬜⬜⬜⬜⬜⬜⬜⬜⬜⬜⬜⬜⬛⬜⬛⬜⬜⬜\n",
      "⬜⬜⬛⬜⬜⬜⬛⬜⬜⬜⬜⬜⬜⬜⬜⬜⬜⬜⬜⬜⬜⬜⬜⬜⬜⬜⬜⬜⬜⬜⬜⬜⬜⬜⬛⬜⬜⬜⬛⬜⬜\n",
      "⬜⬛⬜⬛⬜⬛⬜⬛⬜⬜⬜⬜⬜⬜⬜⬜⬜⬜⬜⬜⬜⬜⬜⬜⬜⬜⬜⬜⬜⬜⬜⬜⬜⬛⬜⬛⬜⬛⬜⬛⬜\n",
      "⬛⬜⬜⬜⬜⬜⬜⬜⬛⬜⬜⬜⬜⬜⬜⬜⬜⬜⬜⬜⬜⬜⬜⬜⬜⬜⬜⬜⬜⬜⬜⬜⬛⬜⬜⬜⬜⬜⬜⬜⬛\n"
     ]
    }
   ],
   "source": [
    "display_game(20)"
   ]
  },
  {
   "cell_type": "code",
   "execution_count": 2,
   "id": "c6327fca-c458-42ab-86e9-d0fa81544e25",
   "metadata": {},
   "outputs": [
    {
     "name": "stdout",
     "output_type": "stream",
     "text": [
      "0\n",
      "1\n",
      "2\n"
     ]
    }
   ],
   "source": [
    "for i in range(3):\n",
    "    print(i)"
   ]
  },
  {
   "cell_type": "code",
   "execution_count": 3,
   "id": "78ec8b28-d1b7-49f5-b7bf-95e3fc57979c",
   "metadata": {},
   "outputs": [
    {
     "name": "stdout",
     "output_type": "stream",
     "text": [
      "24\n"
     ]
    }
   ],
   "source": [
    "a=220\n",
    "print(int(str(a),3))"
   ]
  },
  {
   "cell_type": "code",
   "execution_count": 6,
   "id": "cab8a0da-4a91-41f1-a3a3-583e1144f2f4",
   "metadata": {},
   "outputs": [
    {
     "name": "stdout",
     "output_type": "stream",
     "text": [
      "24\n"
     ]
    }
   ],
   "source": [
    "print(int(str(220),3))"
   ]
  },
  {
   "cell_type": "code",
   "execution_count": 17,
   "id": "89d88600-3389-4171-8c59-c01790733638",
   "metadata": {},
   "outputs": [
    {
     "name": "stdin",
     "output_type": "stream",
     "text": [
      "Enter an integer:  13\n"
     ]
    },
    {
     "ename": "ValueError",
     "evalue": "invalid literal for int() with base 2: '220'",
     "output_type": "error",
     "traceback": [
      "\u001b[1;31m---------------------------------------------------------------------------\u001b[0m",
      "\u001b[1;31mValueError\u001b[0m                                Traceback (most recent call last)",
      "Cell \u001b[1;32mIn[17], line 2\u001b[0m\n\u001b[0;32m      1\u001b[0m n \u001b[38;5;241m=\u001b[39m \u001b[38;5;28mint\u001b[39m(\u001b[38;5;28minput\u001b[39m(\u001b[38;5;124m'\u001b[39m\u001b[38;5;124mEnter an integer: \u001b[39m\u001b[38;5;124m'\u001b[39m))\n\u001b[1;32m----> 2\u001b[0m n\u001b[38;5;241m==\u001b[39m\u001b[38;5;28mint\u001b[39m(\u001b[38;5;28mstr\u001b[39m(a),\u001b[38;5;241m2\u001b[39m)\n\u001b[0;32m      3\u001b[0m \u001b[38;5;28mprint\u001b[39m(a)\n",
      "\u001b[1;31mValueError\u001b[0m: invalid literal for int() with base 2: '220'"
     ]
    }
   ],
   "source": [
    "n = int(input('Enter an integer: '))\n",
    "n==int(str(a),2)\n",
    "print(a)"
   ]
  },
  {
   "cell_type": "code",
   "execution_count": 22,
   "id": "7bd6be59-7d7c-4e5e-88b8-68b24fead242",
   "metadata": {},
   "outputs": [
    {
     "name": "stdout",
     "output_type": "stream",
     "text": [
      "[[3, 2], [1, 1], [0, 1], [0, 2], [0, 0], [3, 3]]\n"
     ]
    },
    {
     "data": {
      "text/plain": [
       "[[3, 2], [1, 1], [0, 1], [0, 2], [0, 0], [3, 3]]"
      ]
     },
     "execution_count": 22,
     "metadata": {},
     "output_type": "execute_result"
    }
   ],
   "source": [
    "digits=[[3, 3], [0, 0], [0, 2], [0, 1], [1, 1], [3, 2]]\n",
    "print(list(reversed(digits)))\n",
    "digits[::-1]\n"
   ]
  },
  {
   "cell_type": "code",
   "execution_count": 25,
   "id": "6f1f6c08-4f48-49a7-aab0-c0b47ec2eb1c",
   "metadata": {},
   "outputs": [
    {
     "name": "stdout",
     "output_type": "stream",
     "text": [
      "[[0, 0], [0, 1], [1, 1], [0, 2], [3, 2], [3, 3]]\n"
     ]
    }
   ],
   "source": [
    "L = [[3, 3], [0, 0], [0, 2], [0, 1], [1, 1], [3, 2]]\n",
    "fields = [2,1]\n",
    "for i in reversed(fields):\n",
    "    L = sorted(L , key=lambda x: x[i-1])\n",
    "print(L)"
   ]
  },
  {
   "cell_type": "code",
   "execution_count": 27,
   "id": "24610002-d9a0-4af0-a09a-bac7da7bb53b",
   "metadata": {},
   "outputs": [
    {
     "name": "stdout",
     "output_type": "stream",
     "text": [
      "[[0, 0], [0, 1], [0, 2], [1, 1], [3, 2], [3, 3]]\n"
     ]
    }
   ],
   "source": [
    "L = [[3, 3], [0, 0], [0, 2], [0, 1], [1, 1], [3, 2]]\n",
    "fields = [2,1]\n",
    "for i in fields:\n",
    "    L = sorted(L , key=lambda x: x[i-1])\n",
    "print(L)"
   ]
  },
  {
   "cell_type": "code",
   "execution_count": 29,
   "id": "4eb084d4-c1ce-403b-828e-2e57dcfd149d",
   "metadata": {},
   "outputs": [
    {
     "name": "stdout",
     "output_type": "stream",
     "text": [
      "[[0, 0], [0, 2], [0, 1], [1, 1], [3, 3], [3, 2]]\n",
      "[[0, 0], [0, 1], [1, 1], [0, 2], [3, 2], [3, 3]]\n"
     ]
    }
   ],
   "source": [
    "L = [[3, 3], [0, 0], [0, 2], [0, 1], [1, 1], [3, 2]]\n",
    "fields = [2,1]\n",
    "L = sorted(L , key=lambda x: x[0])\n",
    "print(L)\n",
    "L = sorted(L , key=lambda x: x[1])\n",
    "print(L)"
   ]
  },
  {
   "cell_type": "code",
   "execution_count": 30,
   "id": "bc5437df-e398-4295-9532-eeb90442d0eb",
   "metadata": {},
   "outputs": [
    {
     "name": "stdout",
     "output_type": "stream",
     "text": [
      "[[0, 0], [0, 1], [1, 1], [0, 2], [3, 2], [3, 3]]\n",
      "[[0, 0], [0, 1], [0, 2], [1, 1], [3, 2], [3, 3]]\n"
     ]
    }
   ],
   "source": [
    "L = [[3, 3], [0, 0], [0, 2], [0, 1], [1, 1], [3, 2]]\n",
    "fields = [2,1]\n",
    "L = sorted(L , key=lambda x: x[1])\n",
    "print(L)\n",
    "L = sorted(L , key=lambda x: x[0])\n",
    "print(L)"
   ]
  },
  {
   "cell_type": "code",
   "execution_count": 31,
   "id": "cf20aedb-cef0-4a9b-a0fb-c606e8832b02",
   "metadata": {},
   "outputs": [
    {
     "name": "stdout",
     "output_type": "stream",
     "text": [
      "[[4, 1, 3], [3, 2, 2], [2, 2, 4], [1, 3, 2], [2, 3, 2], [1, 3, 4], [3, 3, 4], [2, 4, 3]]\n"
     ]
    }
   ],
   "source": [
    "L = [[2, 3, 2], [2, 4, 3], [2, 2, 4], [3, 3, 4], [1, 3, 4], [1, 3, 2], [4, 1, 3], [3, 2, 2]]\n",
    "fields = [2,3,1]\n",
    "for i in reversed(fields):\n",
    "    L = sorted(L , key=lambda x: x[i-1])\n",
    "print(L)"
   ]
  },
  {
   "cell_type": "code",
   "execution_count": 32,
   "id": "3221de78-613c-491a-8972-bd719db9c106",
   "metadata": {},
   "outputs": [
    {
     "name": "stdout",
     "output_type": "stream",
     "text": [
      "[[1, 3, 2], [1, 3, 4], [2, 3, 2], [2, 4, 3], [2, 2, 4], [3, 2, 2], [3, 3, 4], [4, 1, 3]]\n"
     ]
    }
   ],
   "source": [
    "L = [[2, 3, 2], [2, 4, 3], [2, 2, 4], [3, 3, 4], [1, 3, 4], [1, 3, 2], [4, 1, 3], [3, 2, 2]]\n",
    "fields = [2,3,1]\n",
    "for i in fields:\n",
    "    L = sorted(L , key=lambda x: x[i-1])\n",
    "print(L)"
   ]
  },
  {
   "cell_type": "code",
   "execution_count": 33,
   "id": "67899095-bf93-4ab6-b760-45c238b0c593",
   "metadata": {},
   "outputs": [
    {
     "name": "stdout",
     "output_type": "stream",
     "text": [
      "[[4, 1, 3], [2, 2, 4], [3, 2, 2], [2, 3, 2], [3, 3, 4], [1, 3, 4], [1, 3, 2], [2, 4, 3]]\n",
      "[[3, 2, 2], [2, 3, 2], [1, 3, 2], [4, 1, 3], [2, 4, 3], [2, 2, 4], [3, 3, 4], [1, 3, 4]]\n",
      "[[1, 3, 2], [1, 3, 4], [2, 3, 2], [2, 4, 3], [2, 2, 4], [3, 2, 2], [3, 3, 4], [4, 1, 3]]\n"
     ]
    }
   ],
   "source": [
    "L = [[2, 3, 2], [2, 4, 3], [2, 2, 4], [3, 3, 4], [1, 3, 4], [1, 3, 2], [4, 1, 3], [3, 2, 2]]\n",
    "fields = [2,3,1]\n",
    "L = sorted(L , key=lambda x: x[1])\n",
    "print(L)\n",
    "L = sorted(L , key=lambda x: x[2])\n",
    "print(L)\n",
    "L = sorted(L , key=lambda x: x[0])\n",
    "print(L)"
   ]
  },
  {
   "cell_type": "code",
   "execution_count": 34,
   "id": "a4f8723f-15da-46b2-a772-7bf295690c5a",
   "metadata": {},
   "outputs": [
    {
     "name": "stdout",
     "output_type": "stream",
     "text": [
      "[[1, 3, 4], [1, 3, 2], [2, 3, 2], [2, 4, 3], [2, 2, 4], [3, 3, 4], [3, 2, 2], [4, 1, 3]]\n",
      "[[1, 3, 2], [2, 3, 2], [3, 2, 2], [2, 4, 3], [4, 1, 3], [1, 3, 4], [2, 2, 4], [3, 3, 4]]\n",
      "[[4, 1, 3], [3, 2, 2], [2, 2, 4], [1, 3, 2], [2, 3, 2], [1, 3, 4], [3, 3, 4], [2, 4, 3]]\n"
     ]
    }
   ],
   "source": [
    "L = [[2, 3, 2], [2, 4, 3], [2, 2, 4], [3, 3, 4], [1, 3, 4], [1, 3, 2], [4, 1, 3], [3, 2, 2]]\n",
    "fields = [2,3,1]\n",
    "L = sorted(L , key=lambda x: x[0])\n",
    "print(L)\n",
    "L = sorted(L , key=lambda x: x[2])\n",
    "print(L)\n",
    "L = sorted(L , key=lambda x: x[1])\n",
    "print(L)"
   ]
  },
  {
   "cell_type": "code",
   "execution_count": null,
   "id": "8df0995b-35b7-41de-a999-dcb18803f16b",
   "metadata": {},
   "outputs": [],
   "source": []
  }
 ],
 "metadata": {
  "kernelspec": {
   "display_name": "Python 3 (ipykernel)",
   "language": "python",
   "name": "python3"
  },
  "language_info": {
   "codemirror_mode": {
    "name": "ipython",
    "version": 3
   },
   "file_extension": ".py",
   "mimetype": "text/x-python",
   "name": "python",
   "nbconvert_exporter": "python",
   "pygments_lexer": "ipython3",
   "version": "3.12.7"
  }
 },
 "nbformat": 4,
 "nbformat_minor": 5
}
