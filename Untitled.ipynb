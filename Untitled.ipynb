{
 "cells": [
  {
   "cell_type": "code",
   "execution_count": 2,
   "id": "8ba47293-8966-4eb4-9fe2-7730f7136858",
   "metadata": {},
   "outputs": [
    {
     "name": "stdout",
     "output_type": "stream",
     "text": [
      "Overwriting quiz_3.py\n"
     ]
    }
   ],
   "source": [
    "%%writefile quiz_3.py\n",
    "import sys\n",
    "\n",
    "try:\n",
    "    n = int(input('Enter an integer: '))\n",
    "    if not n:\n",
    "        raise ValueError\n",
    "except ValueError:\n",
    "    print('Incorrect input, giving up.')\n",
    "    sys.exit()"
   ]
  },
  {
   "cell_type": "code",
   "execution_count": null,
   "id": "95bf6168-c5a3-4697-8781-f561ca9ff7d4",
   "metadata": {},
   "outputs": [],
   "source": []
  }
 ],
 "metadata": {
  "kernelspec": {
   "display_name": "Python 3 (ipykernel)",
   "language": "python",
   "name": "python3"
  },
  "language_info": {
   "codemirror_mode": {
    "name": "ipython",
    "version": 3
   },
   "file_extension": ".py",
   "mimetype": "text/x-python",
   "name": "python",
   "nbconvert_exporter": "python",
   "pygments_lexer": "ipython3",
   "version": "3.12.7"
  }
 },
 "nbformat": 4,
 "nbformat_minor": 5
}
