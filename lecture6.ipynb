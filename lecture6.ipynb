{
 "cells": [
  {
   "cell_type": "code",
   "execution_count": 1,
   "id": "b7b1f71b-1412-4e98-b456-4056a4a26640",
   "metadata": {},
   "outputs": [],
   "source": [
    "from random import randrange"
   ]
  },
  {
   "cell_type": "code",
   "execution_count": 20,
   "id": "e83aa1bb-78da-40ae-904e-2f8562b6ea04",
   "metadata": {},
   "outputs": [],
   "source": [
    "L=[randrange(-100,101) for _ in range(10)]"
   ]
  },
  {
   "cell_type": "code",
   "execution_count": 21,
   "id": "7aa2ca45-d37d-4969-800a-64f4e072ab9a",
   "metadata": {},
   "outputs": [
    {
     "data": {
      "text/plain": [
       "[3, 32, 59, 21, -16, 56, 8, 36, 20, -89]"
      ]
     },
     "execution_count": 21,
     "metadata": {},
     "output_type": "execute_result"
    }
   ],
   "source": [
    "L"
   ]
  },
  {
   "cell_type": "code",
   "execution_count": 5,
   "id": "f2e3745b-e851-464e-afa8-8467a501d9cc",
   "metadata": {},
   "outputs": [
    {
     "data": {
      "text/plain": [
       "[-93, -89, 28, 39, 44, 49, 83, 88, 88, 91]"
      ]
     },
     "execution_count": 5,
     "metadata": {},
     "output_type": "execute_result"
    }
   ],
   "source": [
    "sorted(L)"
   ]
  },
  {
   "cell_type": "code",
   "execution_count": 6,
   "id": "683e62da-5968-46aa-8e24-873e1e54f89a",
   "metadata": {},
   "outputs": [
    {
     "data": {
      "text/plain": [
       "{-93, -89, 28, 39, 44, 49, 83, 88, 91}"
      ]
     },
     "execution_count": 6,
     "metadata": {},
     "output_type": "execute_result"
    }
   ],
   "source": [
    "S=set(L)\n",
    "S"
   ]
  },
  {
   "cell_type": "code",
   "execution_count": 7,
   "id": "1478e3bd-96fc-47ca-adbf-942157031a39",
   "metadata": {},
   "outputs": [
    {
     "data": {
      "text/plain": [
       "[-93, -89, 28, 39, 44, 49, 83, 88, 88, 91]"
      ]
     },
     "execution_count": 7,
     "metadata": {},
     "output_type": "execute_result"
    }
   ],
   "source": [
    "sorted(L)"
   ]
  },
  {
   "cell_type": "code",
   "execution_count": 8,
   "id": "477fd638-1495-44bb-8888-ce9a6643d95c",
   "metadata": {},
   "outputs": [
    {
     "data": {
      "text/plain": [
       "['8', 'a', 'c', 'g', 'h', 'i', 'i', 'o', 's', 'w', 'y']"
      ]
     },
     "execution_count": 8,
     "metadata": {},
     "output_type": "execute_result"
    }
   ],
   "source": [
    "sorted('asoicihw8yg')"
   ]
  },
  {
   "cell_type": "code",
   "execution_count": 12,
   "id": "e1375a88-d75c-452d-8d2f-1fc04141a6b4",
   "metadata": {},
   "outputs": [
    {
     "data": {
      "text/plain": [
       "[(0, 2, 3), (3, 2, 2), (0, 1, 2), (2, 2, 2), (1, 2, 3), (0, 1, 1)]"
      ]
     },
     "execution_count": 12,
     "metadata": {},
     "output_type": "execute_result"
    }
   ],
   "source": [
    "L= [tuple(randrange(4) for _ in range(3)) for _ in range(6)]\n",
    "L"
   ]
  },
  {
   "cell_type": "code",
   "execution_count": 13,
   "id": "a1bfa13d-f2aa-44fd-9362-9ce7dfbc306c",
   "metadata": {},
   "outputs": [
    {
     "data": {
      "text/plain": [
       "[(0, 1, 1), (0, 1, 2), (0, 2, 3), (1, 2, 3), (2, 2, 2), (3, 2, 2)]"
      ]
     },
     "execution_count": 13,
     "metadata": {},
     "output_type": "execute_result"
    }
   ],
   "source": [
    "sorted(L)"
   ]
  },
  {
   "cell_type": "code",
   "execution_count": 14,
   "id": "0554999c-accd-4134-9428-2e3d2f1fc4fd",
   "metadata": {},
   "outputs": [
    {
     "data": {
      "text/plain": [
       "[0, 1, 2]"
      ]
     },
     "execution_count": 14,
     "metadata": {},
     "output_type": "execute_result"
    }
   ],
   "source": [
    "sorted({1:10,2:20,0:100})"
   ]
  },
  {
   "cell_type": "code",
   "execution_count": 16,
   "id": "ceeffd32-da77-4410-b151-9ffc75b7f453",
   "metadata": {},
   "outputs": [
    {
     "data": {
      "text/plain": [
       "[-93, -89, 28, 39, 44, 49, 83, 88, 88, 91]"
      ]
     },
     "execution_count": 16,
     "metadata": {},
     "output_type": "execute_result"
    }
   ],
   "source": [
    "L=[-89, 49, 88, 83, 39, -93, 28, 44, 88, 91]\n",
    "sorted(L)\n"
   ]
  },
  {
   "cell_type": "code",
   "execution_count": 17,
   "id": "a8657b1c-aa20-4cf2-9c1a-a0eb29c9de9b",
   "metadata": {},
   "outputs": [
    {
     "data": {
      "text/plain": [
       "[28, 39, 44, 49, 83, 88, 88, -89, 91, -93]"
      ]
     },
     "execution_count": 17,
     "metadata": {},
     "output_type": "execute_result"
    }
   ],
   "source": [
    "L = [-89, 49, 88, 83, 39, -93, 28, 44, 88, 91]\n",
    "sorted(L,key=abs)"
   ]
  },
  {
   "cell_type": "code",
   "execution_count": 18,
   "id": "7c6a173d-6b6f-4954-9d26-33ab9ced2e1a",
   "metadata": {},
   "outputs": [
    {
     "data": {
      "text/plain": [
       "0"
      ]
     },
     "execution_count": 18,
     "metadata": {},
     "output_type": "execute_result"
    }
   ],
   "source": [
    "L\n",
    "def odd(x):\n",
    "    return x%2\n",
    "odd(4)"
   ]
  },
  {
   "cell_type": "code",
   "execution_count": 22,
   "id": "c5402b48-12eb-4e35-8ca3-2ec283ca6084",
   "metadata": {},
   "outputs": [
    {
     "data": {
      "text/plain": [
       "[32, -16, 56, 8, 36, 20, 3, 59, 21, -89]"
      ]
     },
     "execution_count": 22,
     "metadata": {},
     "output_type": "execute_result"
    }
   ],
   "source": [
    "sorted(L,key=odd)"
   ]
  },
  {
   "cell_type": "code",
   "execution_count": 23,
   "id": "6dcdfeea-5109-4176-915d-44675e3b1c77",
   "metadata": {},
   "outputs": [
    {
     "data": {
      "text/plain": [
       "<function __main__.<lambda>()>"
      ]
     },
     "execution_count": 23,
     "metadata": {},
     "output_type": "execute_result"
    }
   ],
   "source": [
    "lambda: 'hi'"
   ]
  },
  {
   "cell_type": "code",
   "execution_count": 24,
   "id": "6c181657-8ca6-43ed-93b6-c3e3a7b78b0d",
   "metadata": {},
   "outputs": [
    {
     "data": {
      "text/plain": [
       "'hi'"
      ]
     },
     "execution_count": 24,
     "metadata": {},
     "output_type": "execute_result"
    }
   ],
   "source": [
    "(lambda:'hi')()"
   ]
  },
  {
   "cell_type": "code",
   "execution_count": 25,
   "id": "4e789d63-f645-4009-8caa-2fa602809554",
   "metadata": {},
   "outputs": [
    {
     "data": {
      "text/plain": [
       "22"
      ]
     },
     "execution_count": 25,
     "metadata": {},
     "output_type": "execute_result"
    }
   ],
   "source": [
    "(lambda x: 2*x)(11)\n",
    "F = lambda x:2*x\n",
    "F(11)"
   ]
  },
  {
   "cell_type": "code",
   "execution_count": 26,
   "id": "598077f5-1d02-45f4-ab83-ddb0f529d77b",
   "metadata": {},
   "outputs": [
    {
     "data": {
      "text/plain": [
       "22"
      ]
     },
     "execution_count": 26,
     "metadata": {},
     "output_type": "execute_result"
    }
   ],
   "source": [
    "(lambda x: 2*x)(11)"
   ]
  },
  {
   "cell_type": "code",
   "execution_count": 27,
   "id": "9f07ae79-87db-4304-9645-38d355def40a",
   "metadata": {},
   "outputs": [
    {
     "data": {
      "text/plain": [
       "[3, 32, 59, 21, -16, 56, 8, 36, 20, -89]"
      ]
     },
     "execution_count": 27,
     "metadata": {},
     "output_type": "execute_result"
    }
   ],
   "source": [
    "L"
   ]
  },
  {
   "cell_type": "code",
   "execution_count": 28,
   "id": "66ee36eb-91f5-4880-9833-3974468cc13d",
   "metadata": {},
   "outputs": [
    {
     "data": {
      "text/plain": [
       "[32, -16, 56, 8, 36, 20, 3, 59, 21, -89]"
      ]
     },
     "execution_count": 28,
     "metadata": {},
     "output_type": "execute_result"
    }
   ],
   "source": [
    "sorted(L,key=lambda x:x%2)"
   ]
  },
  {
   "cell_type": "code",
   "execution_count": 29,
   "id": "a80f77c5-524c-4cf1-a342-8903a72ccb38",
   "metadata": {},
   "outputs": [
    {
     "data": {
      "text/plain": [
       "[-16, -89, 3, 32, 59, 21, 56, 8, 36, 20]"
      ]
     },
     "execution_count": 29,
     "metadata": {},
     "output_type": "execute_result"
    }
   ],
   "source": [
    "sorted(L,key=lambda x: x>=0)"
   ]
  },
  {
   "cell_type": "code",
   "execution_count": 30,
   "id": "32c1aa69-e38a-419c-adff-e9d2d388c8a4",
   "metadata": {},
   "outputs": [
    {
     "data": {
      "text/plain": [
       "[3, 32, 59, 21, 56, 8, 36, 20, -16, -89]"
      ]
     },
     "execution_count": 30,
     "metadata": {},
     "output_type": "execute_result"
    }
   ],
   "source": [
    "sorted(L,key=lambda x: x<0)"
   ]
  },
  {
   "cell_type": "code",
   "execution_count": 31,
   "id": "8bf791cd-9911-4e1c-a431-a4b4efa46fb1",
   "metadata": {},
   "outputs": [
    {
     "data": {
      "text/plain": [
       "[3, 8, 20, 21, 32, 36, 56, 59, -89, -16]"
      ]
     },
     "execution_count": 31,
     "metadata": {},
     "output_type": "execute_result"
    }
   ],
   "source": [
    "sorted(L,key=lambda x: (x<0,x))"
   ]
  },
  {
   "cell_type": "code",
   "execution_count": 32,
   "id": "293c69ec-6830-4fad-8f8b-57195065dd14",
   "metadata": {},
   "outputs": [],
   "source": [
    "rule_nb=110"
   ]
  },
  {
   "cell_type": "code",
   "execution_count": 33,
   "id": "241638e4-e872-4c84-9704-6731f13164cd",
   "metadata": {},
   "outputs": [
    {
     "data": {
      "text/plain": [
       "'01101110'"
      ]
     },
     "execution_count": 33,
     "metadata": {},
     "output_type": "execute_result"
    }
   ],
   "source": [
    "f'{rule_nb:08b}'"
   ]
  },
  {
   "cell_type": "code",
   "execution_count": 35,
   "id": "d1ac9d8e-2d82-4bd0-b108-7ebc8dfce474",
   "metadata": {},
   "outputs": [
    {
     "name": "stdout",
     "output_type": "stream",
     "text": [
      "000\n",
      "001\n",
      "010\n",
      "011\n",
      "100\n",
      "101\n",
      "110\n",
      "111\n"
     ]
    }
   ],
   "source": [
    "for i in range(8):\n",
    "    print(f'{i:03b}')"
   ]
  },
  {
   "cell_type": "code",
   "execution_count": 37,
   "id": "b94e79f3-9757-4539-aa9e-31810312d93d",
   "metadata": {},
   "outputs": [
    {
     "name": "stdout",
     "output_type": "stream",
     "text": [
      "(0, 0, 0)\n",
      "(1, 0, 0)\n",
      "(0, 1, 0)\n",
      "(1, 1, 0)\n",
      "(0, 0, 1)\n",
      "(1, 0, 1)\n",
      "(0, 1, 1)\n",
      "(1, 1, 1)\n"
     ]
    }
   ],
   "source": [
    "for i in range(8):\n",
    "    print((i % 2,i//2%2,i//4))"
   ]
  },
  {
   "cell_type": "code",
   "execution_count": 40,
   "id": "a51f859e-6dd0-480c-8ca1-b807ed90e2a6",
   "metadata": {},
   "outputs": [],
   "source": [
    "for i in range(8):\n",
    "    str(i % 2),str(i//2%2),str(i//4)"
   ]
  },
  {
   "cell_type": "code",
   "execution_count": 43,
   "id": "60378c63-0f16-4fdc-9819-f80b1c9597ad",
   "metadata": {},
   "outputs": [
    {
     "name": "stdout",
     "output_type": "stream",
     "text": [
      "000\n",
      "100\n",
      "010\n",
      "110\n",
      "001\n",
      "101\n",
      "011\n",
      "111\n"
     ]
    }
   ],
   "source": [
    "for i in range(8):\n",
    "    print(''.join((str(i % 2),str(i//2%2),str(i//4))))"
   ]
  },
  {
   "cell_type": "code",
   "execution_count": 44,
   "id": "9be46e4c-5a7f-4bd3-8d7b-000c5cf9b8d6",
   "metadata": {},
   "outputs": [
    {
     "name": "stdout",
     "output_type": "stream",
     "text": [
      "0\n",
      "100\n",
      "10\n",
      "110\n",
      "1\n",
      "101\n",
      "11\n",
      "111\n"
     ]
    }
   ],
   "source": [
    "for i in range(8):\n",
    "    print(int(''.join((str(i % 2),str(i//2%2),str(i//4)))))"
   ]
  },
  {
   "cell_type": "code",
   "execution_count": 46,
   "id": "77865228-322f-4e3a-a4f6-585d66f1c6a0",
   "metadata": {},
   "outputs": [
    {
     "data": {
      "text/plain": [
       "'01111100'"
      ]
     },
     "execution_count": 46,
     "metadata": {},
     "output_type": "execute_result"
    }
   ],
   "source": [
    "''.join(f'{rule_nb:08b}'[int(''.join((str(i % 2),str(i//2%2),str(i//4))),2)]\n",
    "        for i in range(8))"
   ]
  },
  {
   "cell_type": "code",
   "execution_count": 47,
   "id": "d86a46ca-07dd-48ca-9cb4-6b94a7008f0c",
   "metadata": {},
   "outputs": [
    {
     "data": {
      "text/plain": [
       "' 24'"
      ]
     },
     "execution_count": 47,
     "metadata": {},
     "output_type": "execute_result"
    }
   ],
   "source": [
    "f'{24:3}'"
   ]
  },
  {
   "cell_type": "code",
   "execution_count": null,
   "id": "80949cbc-36ce-4a42-b0dd-cb9771de6f29",
   "metadata": {},
   "outputs": [],
   "source": []
  },
  {
   "cell_type": "code",
   "execution_count": null,
   "id": "5aa60e6a-a3d6-4e67-92a2-c7d325ca5d54",
   "metadata": {},
   "outputs": [],
   "source": [
    "24\n",
    "220"
   ]
  },
  {
   "cell_type": "code",
   "execution_count": 61,
   "id": "2d190459-1d4f-4fc7-9c59-ebceb5545eb5",
   "metadata": {},
   "outputs": [],
   "source": [
    "i=24"
   ]
  },
  {
   "cell_type": "code",
   "execution_count": 70,
   "id": "c675aa01-70b9-43df-8919-ee65cbc6e01f",
   "metadata": {},
   "outputs": [
    {
     "data": {
      "text/plain": [
       "[2,\n",
       " 3,\n",
       " 5,\n",
       " 7,\n",
       " 11,\n",
       " 13,\n",
       " 17,\n",
       " 19,\n",
       " 23,\n",
       " 29,\n",
       " 31,\n",
       " 37,\n",
       " 41,\n",
       " 43,\n",
       " 47,\n",
       " 53,\n",
       " 59,\n",
       " 61,\n",
       " 67,\n",
       " 71,\n",
       " 73,\n",
       " 79,\n",
       " 83,\n",
       " 89,\n",
       " 97]"
      ]
     },
     "execution_count": 70,
     "metadata": {},
     "output_type": "execute_result"
    }
   ],
   "source": [
    "[i for i  in range(2,101) if all(i%k for k in range(2,i))]"
   ]
  },
  {
   "cell_type": "code",
   "execution_count": 1,
   "id": "4e66d7ed-aa3f-4b1e-83fd-95ea501d951a",
   "metadata": {},
   "outputs": [],
   "source": [
    "L = [3, 32, 59, 21, -16, 56, 8, 36, 20, -89]"
   ]
  },
  {
   "cell_type": "code",
   "execution_count": 2,
   "id": "65423b1c-5aab-4fff-8460-9d3bfc9a5b48",
   "metadata": {},
   "outputs": [
    {
     "data": {
      "text/plain": [
       "[3, 59, 21, -89, 32, -16, 56, 8, 36, 20]"
      ]
     },
     "execution_count": 2,
     "metadata": {},
     "output_type": "execute_result"
    }
   ],
   "source": [
    "sorted(L,key=lambda x:(x+1)%2)"
   ]
  },
  {
   "cell_type": "code",
   "execution_count": null,
   "id": "0453e156-31ac-4b6a-b8ae-d4d34f9050f8",
   "metadata": {},
   "outputs": [],
   "source": []
  }
 ],
 "metadata": {
  "kernelspec": {
   "display_name": "Python 3 (ipykernel)",
   "language": "python",
   "name": "python3"
  },
  "language_info": {
   "codemirror_mode": {
    "name": "ipython",
    "version": 3
   },
   "file_extension": ".py",
   "mimetype": "text/x-python",
   "name": "python",
   "nbconvert_exporter": "python",
   "pygments_lexer": "ipython3",
   "version": "3.12.7"
  }
 },
 "nbformat": 4,
 "nbformat_minor": 5
}
