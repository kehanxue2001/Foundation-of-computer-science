{
 "cells": [
  {
   "cell_type": "code",
   "execution_count": 1,
   "id": "147cfe54",
   "metadata": {},
   "outputs": [],
   "source": [
    "load_ext run_and_test"
   ]
  },
  {
   "attachments": {},
   "cell_type": "markdown",
   "id": "855209be",
   "metadata": {},
   "source": [
    "# Exercise 1"
   ]
  },
  {
   "attachments": {},
   "cell_type": "markdown",
   "id": "5c0fb395",
   "metadata": {},
   "source": [
    "## Templates"
   ]
  },
  {
   "cell_type": "code",
   "execution_count": 2,
   "id": "3895f636",
   "metadata": {},
   "outputs": [
    {
     "data": {
      "text/plain": [
       "\u001b[1;31m# Assume that the arguments m and n are integers at least equal to 0.\u001b[0m\u001b[1;33m\n",
       "\u001b[0m\u001b[1;33m\n",
       "\u001b[0m\u001b[1;32mdef\u001b[0m \u001b[0mf1\u001b[0m\u001b[1;33m(\u001b[0m\u001b[0mm\u001b[0m\u001b[1;33m,\u001b[0m \u001b[0mn\u001b[0m\u001b[1;33m)\u001b[0m\u001b[1;33m:\u001b[0m\u001b[1;33m\n",
       "\u001b[0m    \u001b[1;32mreturn\u001b[0m \u001b[1;34m''\u001b[0m\u001b[1;33m\n",
       "\u001b[0m    \u001b[1;31m# REPLACE THE RETURN STATEMENT ABOVE WITH YOUR CODE\u001b[0m\u001b[1;33m\u001b[0m\u001b[1;33m\u001b[0m\u001b[0m\n"
      ]
     },
     "metadata": {},
     "output_type": "display_data"
    }
   ],
   "source": [
    "%pycat exercise_1_1_template.py"
   ]
  },
  {
   "cell_type": "code",
   "execution_count": 13,
   "id": "84454b67",
   "metadata": {},
   "outputs": [
    {
     "name": "stdout",
     "output_type": "stream",
     "text": [
      "Overwriting exercise_1_1.py\n"
     ]
    }
   ],
   "source": [
    "%%writefile exercise_1_1.py\n",
    "# Assume that the arguments m and n are integers at least equal to 0.\n",
    "\n",
    "def f1(m, n):\n",
    "    return ('|'+'_'*n+'|')*m\n",
    "    # REPLACE THE RETURN STATEMENT ABOVE WITH YOUR CODE"
   ]
  },
  {
   "attachments": {},
   "cell_type": "markdown",
   "id": "c08f3d34",
   "metadata": {},
   "source": [
    "## Tests"
   ]
  },
  {
   "cell_type": "code",
   "execution_count": 15,
   "id": "8337989b",
   "metadata": {},
   "outputs": [
    {
     "name": "stdout",
     "output_type": "stream",
     "text": [
      "\u001b[1mPASSED\u001b[0m\n",
      "\n",
      "\u001b[30m  \n",
      "\u001b[0m"
     ]
    }
   ],
   "source": [
    "%%run_and_test python3 -c \"from exercise_1_1 import f1; print(f1(0, 0))\"\n",
    "\n",
    "'\\n'"
   ]
  },
  {
   "cell_type": "code",
   "execution_count": 16,
   "id": "5ea7103c",
   "metadata": {},
   "outputs": [
    {
     "name": "stdout",
     "output_type": "stream",
     "text": [
      "\u001b[1mPASSED\u001b[0m\n",
      "\n",
      "\u001b[30m  \n",
      "\u001b[0m"
     ]
    }
   ],
   "source": [
    "%%run_and_test python3 -c \"from exercise_1_1 import f1; print(f1(0, 1))\"\n",
    "\n",
    "'\\n'"
   ]
  },
  {
   "cell_type": "code",
   "execution_count": 17,
   "id": "72b4233c",
   "metadata": {},
   "outputs": [
    {
     "name": "stdout",
     "output_type": "stream",
     "text": [
      "\u001b[1mPASSED\u001b[0m\n",
      "\n",
      "\u001b[30m  ||\n",
      "\u001b[0m"
     ]
    }
   ],
   "source": [
    "%%run_and_test python3 -c \"from exercise_1_1 import f1; print(f1(1, 0))\"\n",
    "\n",
    "'||\\n'"
   ]
  },
  {
   "cell_type": "code",
   "execution_count": 18,
   "id": "882b32b8",
   "metadata": {},
   "outputs": [
    {
     "name": "stdout",
     "output_type": "stream",
     "text": [
      "\u001b[1mPASSED\u001b[0m\n",
      "\n",
      "\u001b[30m  |_|\n",
      "\u001b[0m"
     ]
    }
   ],
   "source": [
    "%%run_and_test python3 -c \"from exercise_1_1 import f1; print(f1(1, 1))\"\n",
    "\n",
    "'|_|\\n'"
   ]
  },
  {
   "cell_type": "code",
   "execution_count": 19,
   "id": "7cdff202",
   "metadata": {},
   "outputs": [
    {
     "name": "stdout",
     "output_type": "stream",
     "text": [
      "\u001b[1mPASSED\u001b[0m\n",
      "\n",
      "\u001b[30m  |__||__|\n",
      "\u001b[0m"
     ]
    }
   ],
   "source": [
    "%%run_and_test python3 -c \"from exercise_1_1 import f1; print(f1(2, 2))\"\n",
    "\n",
    "'|__||__|\\n'"
   ]
  },
  {
   "cell_type": "code",
   "execution_count": 20,
   "id": "7e6fd7cc",
   "metadata": {},
   "outputs": [
    {
     "name": "stdout",
     "output_type": "stream",
     "text": [
      "\u001b[1mPASSED\u001b[0m\n",
      "\n",
      "\u001b[30m  |__||__||__|\n",
      "\u001b[0m"
     ]
    }
   ],
   "source": [
    "%%run_and_test python3 -c \"from exercise_1_1 import f1; print(f1(3, 2))\"\n",
    "\n",
    "'|__||__||__|\\n'"
   ]
  },
  {
   "cell_type": "code",
   "execution_count": 21,
   "id": "606fce0b",
   "metadata": {},
   "outputs": [
    {
     "name": "stdout",
     "output_type": "stream",
     "text": [
      "\u001b[1mPASSED\u001b[0m\n",
      "\n",
      "\u001b[30m  |___||___|\n",
      "\u001b[0m"
     ]
    }
   ],
   "source": [
    "%%run_and_test python3 -c \"from exercise_1_1 import f1; print(f1(2, 3))\"\n",
    "\n",
    "'|___||___|\\n'"
   ]
  },
  {
   "cell_type": "code",
   "execution_count": 22,
   "id": "d30cca1c",
   "metadata": {},
   "outputs": [
    {
     "name": "stdout",
     "output_type": "stream",
     "text": [
      "\u001b[1mPASSED\u001b[0m\n",
      "\n",
      "\u001b[30m  |____||____||____||____||____||____||____|\n",
      "\u001b[0m"
     ]
    }
   ],
   "source": [
    "%%run_and_test python3 -c \"from exercise_1_1 import f1; print(f1(7, 4))\"\n",
    "\n",
    "'|____||____||____||____||____||____||____|\\n'"
   ]
  },
  {
   "cell_type": "code",
   "execution_count": 23,
   "id": "7ed73a08",
   "metadata": {},
   "outputs": [
    {
     "name": "stdout",
     "output_type": "stream",
     "text": [
      "\u001b[1mPASSED\u001b[0m\n",
      "\n",
      "\u001b[30m  |_______||_______||_______||_______|\n",
      "\u001b[0m"
     ]
    }
   ],
   "source": [
    "%%run_and_test python3 -c \"from exercise_1_1 import f1; print(f1(4, 7))\"\n",
    "\n",
    "'|_______||_______||_______||_______|\\n'"
   ]
  },
  {
   "attachments": {},
   "cell_type": "markdown",
   "id": "98cbff99",
   "metadata": {},
   "source": [
    "# Exercise 2"
   ]
  },
  {
   "attachments": {},
   "cell_type": "markdown",
   "id": "a8a338d6",
   "metadata": {},
   "source": [
    "## Templates"
   ]
  },
  {
   "cell_type": "code",
   "execution_count": 58,
   "id": "b0d82a38",
   "metadata": {},
   "outputs": [
    {
     "data": {
      "text/plain": [
       "\u001b[0;31m# Assume that the argument n is an integer at least equal to 0.\u001b[0m\u001b[0;34m\u001b[0m\n",
       "\u001b[0;34m\u001b[0m\u001b[0;34m\u001b[0m\n",
       "\u001b[0;34m\u001b[0m\u001b[0;32mdef\u001b[0m \u001b[0mf2\u001b[0m\u001b[0;34m(\u001b[0m\u001b[0mn\u001b[0m\u001b[0;34m)\u001b[0m\u001b[0;34m:\u001b[0m\u001b[0;34m\u001b[0m\n",
       "\u001b[0;34m\u001b[0m    \u001b[0;32mreturn\u001b[0m \u001b[0;34m''\u001b[0m\u001b[0;34m\u001b[0m\n",
       "\u001b[0;34m\u001b[0m    \u001b[0;31m# REPLACE THE RETURN STATEMENT ABOVE WITH YOUR CODE\u001b[0m\u001b[0;34m\u001b[0m\u001b[0;34m\u001b[0m\u001b[0m\n"
      ]
     },
     "execution_count": 58,
     "metadata": {},
     "output_type": "execute_result"
    }
   ],
   "source": [
    "%pycat exercise_1_2_template.py"
   ]
  },
  {
   "cell_type": "code",
   "execution_count": 30,
   "id": "236ec545",
   "metadata": {},
   "outputs": [
    {
     "name": "stdout",
     "output_type": "stream",
     "text": [
      "Overwriting exercise_1_2.py\n"
     ]
    }
   ],
   "source": [
    "%%writefile exercise_1_2.py\n",
    "# Assume that the argument n is an integer at least equal to 0.\n",
    "\n",
    "def f2(n):\n",
    "    return (n*str(n)+'\\n')*n\n",
    "    # REPLACE THE RETURN STATEMENT ABOVE WITH YOUR CODE"
   ]
  },
  {
   "attachments": {},
   "cell_type": "markdown",
   "id": "acd63465",
   "metadata": {},
   "source": [
    "## Tests"
   ]
  },
  {
   "cell_type": "code",
   "execution_count": 31,
   "id": "35f1538d",
   "metadata": {},
   "outputs": [
    {
     "name": "stdout",
     "output_type": "stream",
     "text": [
      "\u001b[1mPASSED\u001b[0m\n",
      "\n",
      "\u001b[30m  \n",
      "\u001b[0m"
     ]
    }
   ],
   "source": [
    "%%run_and_test python3 -c \"from exercise_1_2 import f2; print(f2(0))\"\n",
    "\n",
    "'\\n'"
   ]
  },
  {
   "cell_type": "code",
   "execution_count": 32,
   "id": "c29ffdf0",
   "metadata": {},
   "outputs": [
    {
     "name": "stdout",
     "output_type": "stream",
     "text": [
      "\u001b[1mPASSED\u001b[0m\n",
      "\n",
      "\u001b[30m  1\n",
      "\u001b[0m\u001b[30m  \n",
      "\u001b[0m"
     ]
    }
   ],
   "source": [
    "%%run_and_test python3 -c \"from exercise_1_2 import f2; print(f2(1))\"\n",
    "\n",
    "'1\\n\\n'"
   ]
  },
  {
   "cell_type": "code",
   "execution_count": 33,
   "id": "7e9d6f44",
   "metadata": {},
   "outputs": [
    {
     "name": "stdout",
     "output_type": "stream",
     "text": [
      "\u001b[1mPASSED\u001b[0m\n",
      "\n",
      "\u001b[30m  22\n",
      "\u001b[0m\u001b[30m  22\n",
      "\u001b[0m\u001b[30m  \n",
      "\u001b[0m"
     ]
    }
   ],
   "source": [
    "%%run_and_test python3 -c \"from exercise_1_2 import f2; print(f2(2))\"\n",
    "\n",
    "'''\n",
    "22\\n\n",
    "22\\n\\n\n",
    "'''"
   ]
  },
  {
   "cell_type": "code",
   "execution_count": 34,
   "id": "16f345c1",
   "metadata": {},
   "outputs": [
    {
     "name": "stdout",
     "output_type": "stream",
     "text": [
      "\u001b[1mPASSED\u001b[0m\n",
      "\n",
      "\u001b[30m  333\n",
      "\u001b[0m\u001b[30m  333\n",
      "\u001b[0m\u001b[30m  333\n",
      "\u001b[0m\u001b[30m  \n",
      "\u001b[0m"
     ]
    }
   ],
   "source": [
    "%%run_and_test python3 -c \"from exercise_1_2 import f2; print(f2(3))\"\n",
    "\n",
    "'''\n",
    "333\\n\n",
    "333\\n\n",
    "333\\n\\n\n",
    "'''"
   ]
  },
  {
   "cell_type": "code",
   "execution_count": 35,
   "id": "e8ce6b99",
   "metadata": {},
   "outputs": [
    {
     "name": "stdout",
     "output_type": "stream",
     "text": [
      "\u001b[1mPASSED\u001b[0m\n",
      "\n",
      "\u001b[30m  999999999\n",
      "\u001b[0m\u001b[30m  999999999\n",
      "\u001b[0m\u001b[30m  999999999\n",
      "\u001b[0m\u001b[30m  999999999\n",
      "\u001b[0m\u001b[30m  999999999\n",
      "\u001b[0m\u001b[30m  999999999\n",
      "\u001b[0m\u001b[30m  999999999\n",
      "\u001b[0m\u001b[30m  999999999\n",
      "\u001b[0m\u001b[30m  999999999\n",
      "\u001b[0m\u001b[30m  \n",
      "\u001b[0m"
     ]
    }
   ],
   "source": [
    "%%run_and_test python3 -c \"from exercise_1_2 import f2; print(f2(9))\"\n",
    "\n",
    "'''\n",
    "999999999\\n\n",
    "999999999\\n\n",
    "999999999\\n\n",
    "999999999\\n\n",
    "999999999\\n\n",
    "999999999\\n\n",
    "999999999\\n\n",
    "999999999\\n\n",
    "999999999\\n\\n\n",
    "'''"
   ]
  },
  {
   "cell_type": "code",
   "execution_count": 36,
   "id": "9631960c",
   "metadata": {},
   "outputs": [
    {
     "name": "stdout",
     "output_type": "stream",
     "text": [
      "\u001b[1mPASSED\u001b[0m\n",
      "\n",
      "\u001b[30m  121212121212121212121212\n",
      "\u001b[0m\u001b[30m  121212121212121212121212\n",
      "\u001b[0m\u001b[30m  121212121212121212121212\n",
      "\u001b[0m\u001b[30m  121212121212121212121212\n",
      "\u001b[0m\u001b[30m  121212121212121212121212\n",
      "\u001b[0m\u001b[30m  121212121212121212121212\n",
      "\u001b[0m\u001b[30m  121212121212121212121212\n",
      "\u001b[0m\u001b[30m  121212121212121212121212\n",
      "\u001b[0m\u001b[30m  121212121212121212121212\n",
      "\u001b[0m\u001b[30m  121212121212121212121212\n",
      "\u001b[0m\u001b[30m  121212121212121212121212\n",
      "\u001b[0m\u001b[30m  121212121212121212121212\n",
      "\u001b[0m\u001b[30m  \n",
      "\u001b[0m"
     ]
    }
   ],
   "source": [
    "%%run_and_test python3 -c \"from exercise_1_2 import f2; print(f2(12))\"\n",
    "\n",
    "'''\n",
    "121212121212121212121212\\n\n",
    "121212121212121212121212\\n\n",
    "121212121212121212121212\\n\n",
    "121212121212121212121212\\n\n",
    "121212121212121212121212\\n\n",
    "121212121212121212121212\\n\n",
    "121212121212121212121212\\n\n",
    "121212121212121212121212\\n\n",
    "121212121212121212121212\\n\n",
    "121212121212121212121212\\n\n",
    "121212121212121212121212\\n\n",
    "121212121212121212121212\\n\\n\n",
    "'''"
   ]
  },
  {
   "attachments": {},
   "cell_type": "markdown",
   "id": "6467a34e",
   "metadata": {},
   "source": [
    "# Exercise 3"
   ]
  },
  {
   "attachments": {},
   "cell_type": "markdown",
   "id": "7aab0a28",
   "metadata": {},
   "source": [
    "## Templates"
   ]
  },
  {
   "cell_type": "code",
   "execution_count": 3,
   "id": "82c7ba46",
   "metadata": {},
   "outputs": [
    {
     "data": {
      "text/plain": [
       "\u001b[0;31m# Assume that the argument L is a list of integers.\u001b[0m\u001b[0;34m\u001b[0m\n",
       "\u001b[0;34m\u001b[0m\u001b[0;31m#\u001b[0m\u001b[0;34m\u001b[0m\n",
       "\u001b[0;34m\u001b[0m\u001b[0;31m# Removes from L all integers x such that L is of the form\u001b[0m\u001b[0;34m\u001b[0m\n",
       "\u001b[0;34m\u001b[0m\u001b[0;31m# [..., x, x_1, ..., x_n, e]\u001b[0m\u001b[0;34m\u001b[0m\n",
       "\u001b[0;34m\u001b[0m\u001b[0;31m# with n >= 0 and x, x_1, ..., x_n all strictly smaller than e.\u001b[0m\u001b[0;34m\u001b[0m\n",
       "\u001b[0;34m\u001b[0m\u001b[0;31m#\u001b[0m\u001b[0;34m\u001b[0m\n",
       "\u001b[0;34m\u001b[0m\u001b[0;31m# Use only one loop.\u001b[0m\u001b[0;34m\u001b[0m\n",
       "\u001b[0;34m\u001b[0m\u001b[0;31m#\u001b[0m\u001b[0;34m\u001b[0m\n",
       "\u001b[0;34m\u001b[0m\u001b[0;31m# The output is printed out, not returned.\u001b[0m\u001b[0;34m\u001b[0m\n",
       "\u001b[0;34m\u001b[0m\u001b[0;34m\u001b[0m\n",
       "\u001b[0;34m\u001b[0m\u001b[0;32mdef\u001b[0m \u001b[0mf3\u001b[0m\u001b[0;34m(\u001b[0m\u001b[0mL\u001b[0m\u001b[0;34m)\u001b[0m\u001b[0;34m:\u001b[0m\u001b[0;34m\u001b[0m\n",
       "\u001b[0;34m\u001b[0m    \u001b[0;32mpass\u001b[0m\u001b[0;34m\u001b[0m\n",
       "\u001b[0;34m\u001b[0m    \u001b[0;31m# REPLACE THE PASS STATEMENT ABOVE WITH YOUR CODE\u001b[0m\u001b[0;34m\u001b[0m\u001b[0;34m\u001b[0m\u001b[0m\n"
      ]
     },
     "execution_count": 3,
     "metadata": {},
     "output_type": "execute_result"
    }
   ],
   "source": [
    "%pycat exercise_1_3_template.py"
   ]
  },
  {
   "cell_type": "code",
   "execution_count": 51,
   "id": "e6adc237",
   "metadata": {},
   "outputs": [
    {
     "name": "stdout",
     "output_type": "stream",
     "text": [
      "Overwriting exercise_1_3.py\n"
     ]
    }
   ],
   "source": [
    "%%writefile exercise_1_3.py\n",
    "# Assume that the argument L is a list of integers.\n",
    "#\n",
    "# Removes from L all integers x such that L is of the form\n",
    "# [..., x, x_1, ..., x_n, e]\n",
    "# with n >= 0 and x, x_1, ..., x_n all strictly smaller than e.\n",
    "#\n",
    "# Use only one loop.\n",
    "#\n",
    "# The output is printed out, not returned.\n",
    "\n",
    "def f3(L):\n",
    "    while len(L)>1 and L[-2]<L[-1]:\n",
    "        L.remove(L[-2])\n",
    "    print(L)\n",
    "    # REPLACE THE PASS STATEMENT ABOVE WITH YOUR CODE"
   ]
  },
  {
   "attachments": {},
   "cell_type": "markdown",
   "id": "4405fbfd",
   "metadata": {},
   "source": [
    "## Tests"
   ]
  },
  {
   "cell_type": "code",
   "execution_count": 52,
   "id": "58c285f5",
   "metadata": {},
   "outputs": [
    {
     "name": "stdout",
     "output_type": "stream",
     "text": [
      "\u001b[1mPASSED\u001b[0m\n",
      "\n",
      "\u001b[30m  []\n",
      "\u001b[0m"
     ]
    }
   ],
   "source": [
    "%%run_and_test python3 -c \"from exercise_1_3 import f3; f3([])\"\n",
    "\n",
    "'[]\\n'"
   ]
  },
  {
   "cell_type": "code",
   "execution_count": 53,
   "id": "f89b378c",
   "metadata": {},
   "outputs": [
    {
     "name": "stdout",
     "output_type": "stream",
     "text": [
      "\u001b[1mPASSED\u001b[0m\n",
      "\n",
      "\u001b[30m  [0]\n",
      "\u001b[0m"
     ]
    }
   ],
   "source": [
    "%%run_and_test python3 -c \"from exercise_1_3 import f3; f3([0])\"\n",
    "\n",
    "'[0]\\n'"
   ]
  },
  {
   "cell_type": "code",
   "execution_count": 54,
   "id": "8239020c",
   "metadata": {},
   "outputs": [
    {
     "name": "stdout",
     "output_type": "stream",
     "text": [
      "\u001b[1mPASSED\u001b[0m\n",
      "\n",
      "\u001b[30m  [0, 0]\n",
      "\u001b[0m"
     ]
    }
   ],
   "source": [
    "%%run_and_test python3 -c \"from exercise_1_3 import f3; f3([0, 0])\"\n",
    "\n",
    "'[0, 0]\\n'"
   ]
  },
  {
   "cell_type": "code",
   "execution_count": 55,
   "id": "b21bcce3",
   "metadata": {},
   "outputs": [
    {
     "name": "stdout",
     "output_type": "stream",
     "text": [
      "\u001b[1mPASSED\u001b[0m\n",
      "\n",
      "\u001b[30m  [1]\n",
      "\u001b[0m"
     ]
    }
   ],
   "source": [
    "%%run_and_test python3 -c \"from exercise_1_3 import f3; f3([0, 1])\"\n",
    "\n",
    "'[1]\\n'"
   ]
  },
  {
   "cell_type": "code",
   "execution_count": 56,
   "id": "f2bae23b",
   "metadata": {},
   "outputs": [
    {
     "name": "stdout",
     "output_type": "stream",
     "text": [
      "\u001b[1mPASSED\u001b[0m\n",
      "\n",
      "\u001b[30m  [1, 1]\n",
      "\u001b[0m"
     ]
    }
   ],
   "source": [
    "%%run_and_test python3 -c \"from exercise_1_3 import f3; f3([0, 1, 0, 0, 1])\"\n",
    "\n",
    "'[1, 1]\\n'"
   ]
  },
  {
   "cell_type": "code",
   "execution_count": 57,
   "id": "8e6ac4f8",
   "metadata": {},
   "outputs": [
    {
     "name": "stdout",
     "output_type": "stream",
     "text": [
      "\u001b[1mPASSED\u001b[0m\n",
      "\n",
      "\u001b[30m  [3, 3]\n",
      "\u001b[0m"
     ]
    }
   ],
   "source": [
    "%%run_and_test python3 -c \"from exercise_1_3 import f3; f3([3, 2, 1, 0, 1, 2, 3])\"\n",
    "\n",
    "'[3, 3]\\n'"
   ]
  },
  {
   "cell_type": "code",
   "execution_count": 58,
   "id": "2fe5feaf",
   "metadata": {},
   "outputs": [
    {
     "name": "stdout",
     "output_type": "stream",
     "text": [
      "\u001b[1mPASSED\u001b[0m\n",
      "\n",
      "\u001b[30m  [6, -5, 3, -2, 5, 1]\n",
      "\u001b[0m"
     ]
    }
   ],
   "source": [
    "%%run_and_test python3 -c \"from exercise_1_3 import f3; f3([-9, 6, -7, -5, 3, -9, -2, 5, -7, -9, 1])\"\n",
    "\n",
    "'[6, -5, 3, -2, 5, 1]\\n'"
   ]
  },
  {
   "cell_type": "code",
   "execution_count": 59,
   "id": "618661fa",
   "metadata": {},
   "outputs": [
    {
     "name": "stdout",
     "output_type": "stream",
     "text": [
      "\u001b[1mPASSED\u001b[0m\n",
      "\n",
      "\u001b[30m  [4, 9, 6, 8, 5, 8, 7]\n",
      "\u001b[0m"
     ]
    }
   ],
   "source": [
    "%%run_and_test python3 -c \"from exercise_1_3 import f3; f3([2, 4, 1, 9, 6, 1, 3, 8, 2, 5, 3, 8, 3, 2, 2, 1, 7])\"\n",
    "\n",
    "'[4, 9, 6, 8, 5, 8, 7]\\n'"
   ]
  },
  {
   "cell_type": "code",
   "execution_count": 60,
   "id": "60148c95",
   "metadata": {},
   "outputs": [
    {
     "name": "stdout",
     "output_type": "stream",
     "text": [
      "\u001b[1mPASSED\u001b[0m\n",
      "\n",
      "\u001b[30m  [0, 8, 3, 6, 7, 5, 3, 7, 6]\n",
      "\u001b[0m"
     ]
    }
   ],
   "source": [
    "%%run_and_test python3 -c \"from exercise_1_3 import f3; f3([2, 0, 4, 8, 4, 3, 6, 7, 5, 3, 7, 4, 2, 6])\"\n",
    "\n",
    "'[0, 8, 3, 6, 7, 5, 3, 7, 6]\\n'"
   ]
  },
  {
   "attachments": {},
   "cell_type": "markdown",
   "id": "19c7d14d",
   "metadata": {},
   "source": [
    "# Exercise 4"
   ]
  },
  {
   "attachments": {},
   "cell_type": "markdown",
   "id": "7e5f5165",
   "metadata": {},
   "source": [
    "## Templates"
   ]
  },
  {
   "cell_type": "code",
   "execution_count": 32,
   "id": "19e08a26",
   "metadata": {},
   "outputs": [
    {
     "data": {
      "text/plain": [
       "\u001b[0;31m# Assume that the argument D is a dictionary whose keys and values\u001b[0m\u001b[0;34m\u001b[0m\n",
       "\u001b[0;34m\u001b[0m\u001b[0;31m# are all integers. Assume that the argument n is an integer.\u001b[0m\u001b[0;34m\u001b[0m\n",
       "\u001b[0;34m\u001b[0m\u001b[0;31m#\u001b[0m\u001b[0;34m\u001b[0m\n",
       "\u001b[0;34m\u001b[0m\u001b[0;31m# Returns the longest strictly increasing list of integers\u001b[0m\u001b[0;34m\u001b[0m\n",
       "\u001b[0;34m\u001b[0m\u001b[0;31m# of the form [n, D[n], D[D[n]], D[D[D[n]]], ...]\u001b[0m\u001b[0;34m\u001b[0m\n",
       "\u001b[0;34m\u001b[0m\u001b[0;31m# provided n is one of D's keys.\u001b[0m\u001b[0;34m\u001b[0m\n",
       "\u001b[0;34m\u001b[0m\u001b[0;34m\u001b[0m\n",
       "\u001b[0;34m\u001b[0m\u001b[0;32mdef\u001b[0m \u001b[0mf4\u001b[0m\u001b[0;34m(\u001b[0m\u001b[0mD\u001b[0m\u001b[0;34m,\u001b[0m \u001b[0mn\u001b[0m\u001b[0;34m)\u001b[0m\u001b[0;34m:\u001b[0m\u001b[0;34m\u001b[0m\n",
       "\u001b[0;34m\u001b[0m    \u001b[0;32mreturn\u001b[0m \u001b[0;34m[\u001b[0m\u001b[0;34m]\u001b[0m\u001b[0;34m\u001b[0m\n",
       "\u001b[0;34m\u001b[0m    \u001b[0;31m# REPLACE THE RETURN STATEMENT ABOVE WITH YOUR CODE\u001b[0m\u001b[0;34m\u001b[0m\u001b[0;34m\u001b[0m\u001b[0m\n"
      ]
     },
     "execution_count": 32,
     "metadata": {},
     "output_type": "execute_result"
    }
   ],
   "source": [
    "%pycat exercise_1_4_template.py"
   ]
  },
  {
   "cell_type": "code",
   "execution_count": 145,
   "id": "3f2e07da",
   "metadata": {},
   "outputs": [
    {
     "name": "stdout",
     "output_type": "stream",
     "text": [
      "Overwriting exercise_1_4.py\n"
     ]
    }
   ],
   "source": [
    "%%writefile exercise_1_4.py\n",
    "# Assume that the argument D is a dictionary whose keys and values\n",
    "# are all integers. Assume that the argument n is an integer.\n",
    "#\n",
    "# Returns the longest strictly increasing list of integers\n",
    "# of the form [n, D[n], D[D[n]], D[D[D[n]]], ...]\n",
    "# provided n is one of D's keys.\n",
    "\n",
    "def f4(D, n):\n",
    "    if n not in D:\n",
    "        return []\n",
    "    else:\n",
    "        L=[n]\n",
    "    while n in D and n<D[n]:\n",
    "        L.append(D[n])\n",
    "        n=D[n]\n",
    "    return L\n",
    "    # REPLACE THE RETURN STATEMENT ABOVE WITH YOUR CODE"
   ]
  },
  {
   "attachments": {},
   "cell_type": "markdown",
   "id": "52dde0b5",
   "metadata": {},
   "source": [
    "## Tests"
   ]
  },
  {
   "cell_type": "code",
   "execution_count": 146,
   "id": "fb6cb992",
   "metadata": {},
   "outputs": [],
   "source": [
    "statements = 'D = {}; from exercise_1_4 import f4; print(f4(D, 0))'"
   ]
  },
  {
   "cell_type": "code",
   "execution_count": 147,
   "id": "8dd9976f",
   "metadata": {},
   "outputs": [
    {
     "name": "stdout",
     "output_type": "stream",
     "text": [
      "\u001b[1mPASSED\u001b[0m\n",
      "\n",
      "\u001b[30m  []\n",
      "\u001b[0m"
     ]
    }
   ],
   "source": [
    "%%run_and_test python3 -c \"$statements\"\n",
    "\n",
    "'[]\\n'"
   ]
  },
  {
   "cell_type": "code",
   "execution_count": 148,
   "id": "0b26f89f",
   "metadata": {},
   "outputs": [],
   "source": [
    "statements = 'D = {0: 0}; from exercise_1_4 import f4; print(f4(D, 0))'"
   ]
  },
  {
   "cell_type": "code",
   "execution_count": 149,
   "id": "e1872489",
   "metadata": {},
   "outputs": [
    {
     "name": "stdout",
     "output_type": "stream",
     "text": [
      "\u001b[1mPASSED\u001b[0m\n",
      "\n",
      "\u001b[30m  [0]\n",
      "\u001b[0m"
     ]
    }
   ],
   "source": [
    "%%run_and_test python3 -c \"$statements\"\n",
    "\n",
    "'[0]\\n'"
   ]
  },
  {
   "cell_type": "code",
   "execution_count": 150,
   "id": "a23a9b32",
   "metadata": {},
   "outputs": [],
   "source": [
    "statements = 'D = {0: 1}; from exercise_1_4 import f4; print(f4(D, 1))'"
   ]
  },
  {
   "cell_type": "code",
   "execution_count": 151,
   "id": "84b00cc6",
   "metadata": {},
   "outputs": [
    {
     "name": "stdout",
     "output_type": "stream",
     "text": [
      "\u001b[1mPASSED\u001b[0m\n",
      "\n",
      "\u001b[30m  []\n",
      "\u001b[0m"
     ]
    }
   ],
   "source": [
    "%%run_and_test python3 -c \"$statements\"\n",
    "\n",
    "'[]\\n'"
   ]
  },
  {
   "cell_type": "code",
   "execution_count": 152,
   "id": "f9d26edd",
   "metadata": {},
   "outputs": [],
   "source": [
    "statements = 'D = {0: 1}; from exercise_1_4 import f4; print(f4(D, 0))'"
   ]
  },
  {
   "cell_type": "code",
   "execution_count": 153,
   "id": "a053d57a",
   "metadata": {},
   "outputs": [
    {
     "name": "stdout",
     "output_type": "stream",
     "text": [
      "\u001b[1mPASSED\u001b[0m\n",
      "\n",
      "\u001b[30m  [0, 1]\n",
      "\u001b[0m"
     ]
    }
   ],
   "source": [
    "%%run_and_test python3 -c \"$statements\"\n",
    "\n",
    "'[0, 1]\\n'"
   ]
  },
  {
   "cell_type": "code",
   "execution_count": 154,
   "id": "2396e8dc",
   "metadata": {},
   "outputs": [],
   "source": [
    "statements = 'D = {0: 1, 5: 6, 1: 5}; '\\\n",
    "             'from exercise_1_4 import f4; print(f4(D, 0))'"
   ]
  },
  {
   "cell_type": "code",
   "execution_count": 155,
   "id": "1aabf471",
   "metadata": {},
   "outputs": [
    {
     "name": "stdout",
     "output_type": "stream",
     "text": [
      "\u001b[1mPASSED\u001b[0m\n",
      "\n",
      "\u001b[30m  [0, 1, 5, 6]\n",
      "\u001b[0m"
     ]
    }
   ],
   "source": [
    "%%run_and_test python3 -c \"$statements\"\n",
    "\n",
    "'[0, 1, 5, 6]\\n'"
   ]
  },
  {
   "cell_type": "code",
   "execution_count": 156,
   "id": "be8a6918",
   "metadata": {},
   "outputs": [],
   "source": [
    "statements = 'D = {12: 6, 7: 11, 3: 7, 11: 12, 0: 3}; '\\\n",
    "             'from exercise_1_4 import f4; print(f4(D, 3))'"
   ]
  },
  {
   "cell_type": "code",
   "execution_count": 157,
   "id": "0563e49c",
   "metadata": {},
   "outputs": [
    {
     "name": "stdout",
     "output_type": "stream",
     "text": [
      "\u001b[1mPASSED\u001b[0m\n",
      "\n",
      "\u001b[30m  [3, 7, 11, 12]\n",
      "\u001b[0m"
     ]
    }
   ],
   "source": [
    "%%run_and_test python3 -c \"$statements\"\n",
    "\n",
    "'[3, 7, 11, 12]\\n'"
   ]
  },
  {
   "cell_type": "code",
   "execution_count": 158,
   "id": "7b12001f",
   "metadata": {},
   "outputs": [],
   "source": [
    "\n",
    "statements = 'D = {1: 4, 8: 9, 9: 10, 5: 6, 4: 5, 6: 7, 7: 8, 0: 1}; '\\\n",
    "             'from exercise_1_4 import f4; print(f4(D, 4))'"
   ]
  },
  {
   "cell_type": "code",
   "execution_count": 159,
   "id": "46daf499",
   "metadata": {},
   "outputs": [
    {
     "name": "stdout",
     "output_type": "stream",
     "text": [
      "\u001b[1mPASSED\u001b[0m\n",
      "\n",
      "\u001b[30m  [4, 5, 6, 7, 8, 9, 10]\n",
      "\u001b[0m"
     ]
    }
   ],
   "source": [
    "%%run_and_test python3 -c \"$statements\"\n",
    "\n",
    "'[4, 5, 6, 7, 8, 9, 10]\\n'"
   ]
  },
  {
   "attachments": {},
   "cell_type": "markdown",
   "id": "7ea55a5b",
   "metadata": {},
   "source": [
    "# Exercise 5"
   ]
  },
  {
   "attachments": {},
   "cell_type": "markdown",
   "id": "a2651cdf",
   "metadata": {},
   "source": [
    "## Templates"
   ]
  },
  {
   "cell_type": "code",
   "execution_count": 2,
   "id": "da57ec25",
   "metadata": {},
   "outputs": [
    {
     "data": {
      "text/plain": [
       "\u001b[1;31m# Assume that the argument filename is the name of a text file\u001b[0m\u001b[1;33m\n",
       "\u001b[0m\u001b[1;31m# that exists in the working directory, and\u001b[0m\u001b[1;33m\n",
       "\u001b[0m\u001b[1;31m# that the file consists of lines of the form\u001b[0m\u001b[1;33m\n",
       "\u001b[0m\u001b[1;31m# first_name,count_in_thousands\u001b[0m\u001b[1;33m\n",
       "\u001b[0m\u001b[1;31m#\u001b[0m\u001b[1;33m\n",
       "\u001b[0m\u001b[1;31m# The output is printed out, not returned.\u001b[0m\u001b[1;33m\n",
       "\u001b[0m\u001b[1;33m\n",
       "\u001b[0m\u001b[1;32mdef\u001b[0m \u001b[0mf5\u001b[0m\u001b[1;33m(\u001b[0m\u001b[0mfilename\u001b[0m\u001b[1;33m)\u001b[0m\u001b[1;33m:\u001b[0m\u001b[1;33m\n",
       "\u001b[0m    \u001b[1;32mpass\u001b[0m\u001b[1;33m\n",
       "\u001b[0m    \u001b[1;31m# REPLACE THE PASS STATEMENT ABOVE WITH YOUR CODE\u001b[0m\u001b[1;33m\u001b[0m\u001b[1;33m\u001b[0m\u001b[0m\n"
      ]
     },
     "metadata": {},
     "output_type": "display_data"
    }
   ],
   "source": [
    "%pycat exercise_1_5_template.py"
   ]
  },
  {
   "cell_type": "code",
   "execution_count": 18,
   "id": "f14b7aed",
   "metadata": {},
   "outputs": [
    {
     "name": "stdout",
     "output_type": "stream",
     "text": [
      "Overwriting exercise_1_5.py\n"
     ]
    }
   ],
   "source": [
    "%%writefile exercise_1_5.py\n",
    "# Assume that the argument filename is the name of a text file\n",
    "# that exists in the working directory, and\n",
    "# that the file consists of lines of the form\n",
    "# first_name,count_in_thousands\n",
    "#\n",
    "# The output is printed out, not returned.\n",
    "\n",
    "def f5(filename):\n",
    "    with open(filename) as file:\n",
    "        for line in file:\n",
    "            name, count=line.split(',')\n",
    "            print(int(count)*1000,'people named',name)\n",
    "    # REPLACE THE PASS STATEMENT ABOVE WITH YOUR CODE"
   ]
  },
  {
   "attachments": {},
   "cell_type": "markdown",
   "id": "e67cfd5c",
   "metadata": {},
   "source": [
    "## Tests"
   ]
  },
  {
   "cell_type": "code",
   "execution_count": 19,
   "id": "6f1a30d2",
   "metadata": {},
   "outputs": [
    {
     "data": {
      "text/plain": [
       "\u001b[1;33m\u001b[0m\u001b[0m\n"
      ]
     },
     "metadata": {},
     "output_type": "display_data"
    }
   ],
   "source": [
    "%pycat exercise_1_5_1.txt"
   ]
  },
  {
   "cell_type": "code",
   "execution_count": 20,
   "id": "493f59b2",
   "metadata": {},
   "outputs": [
    {
     "name": "stdout",
     "output_type": "stream",
     "text": [
      "\u001b[1mPASSED\u001b[0m\n",
      "\n"
     ]
    }
   ],
   "source": [
    "%%run_and_test python3 -c \"from exercise_1_5 import f5; f5('exercise_1_5_1.txt')\"\n",
    "\n",
    "''"
   ]
  },
  {
   "cell_type": "code",
   "execution_count": 21,
   "id": "cb46fce9",
   "metadata": {},
   "outputs": [
    {
     "data": {
      "text/plain": [
       "\u001b[0mNaiomi\u001b[0m\u001b[1;33m,\u001b[0m\u001b[1;36m72\u001b[0m\u001b[1;33m\u001b[0m\u001b[1;33m\u001b[0m\u001b[0m\n"
      ]
     },
     "metadata": {},
     "output_type": "display_data"
    }
   ],
   "source": [
    "%pycat exercise_1_5_2.txt"
   ]
  },
  {
   "cell_type": "code",
   "execution_count": 22,
   "id": "2718664b",
   "metadata": {},
   "outputs": [
    {
     "name": "stdout",
     "output_type": "stream",
     "text": [
      "\u001b[1mPASSED\u001b[0m\n",
      "\n",
      "\u001b[30m  72000 people named Naiomi\n",
      "\u001b[0m"
     ]
    }
   ],
   "source": [
    "%%run_and_test python3 -c \"from exercise_1_5 import f5; f5('exercise_1_5_2.txt')\"\n",
    "\n",
    "'72000 people named Naiomi\\n'"
   ]
  },
  {
   "cell_type": "code",
   "execution_count": 23,
   "id": "b695eba9",
   "metadata": {},
   "outputs": [
    {
     "data": {
      "text/plain": [
       "\u001b[0mYaslyn\u001b[0m\u001b[1;33m,\u001b[0m\u001b[1;36m13\u001b[0m\u001b[1;33m\n",
       "\u001b[0m\u001b[0mLeena\u001b[0m\u001b[1;33m,\u001b[0m\u001b[1;36m202\u001b[0m\u001b[1;33m\n",
       "\u001b[0m\u001b[0mCalan\u001b[0m\u001b[1;33m,\u001b[0m\u001b[1;36m47\u001b[0m\u001b[1;33m\n",
       "\u001b[0m\u001b[0mJeronimo\u001b[0m\u001b[1;33m,\u001b[0m\u001b[1;36m58\u001b[0m\u001b[1;33m\n",
       "\u001b[0m\u001b[0mRyker\u001b[0m\u001b[1;33m,\u001b[0m\u001b[1;36m49\u001b[0m\u001b[1;33m\n",
       "\u001b[0m\u001b[0mDelvin\u001b[0m\u001b[1;33m,\u001b[0m\u001b[1;36m5\u001b[0m\u001b[1;33m\u001b[0m\u001b[1;33m\u001b[0m\u001b[0m\n"
      ]
     },
     "metadata": {},
     "output_type": "display_data"
    }
   ],
   "source": [
    "%pycat exercise_1_5_3.txt"
   ]
  },
  {
   "cell_type": "code",
   "execution_count": 24,
   "id": "45c94322",
   "metadata": {},
   "outputs": [
    {
     "name": "stdout",
     "output_type": "stream",
     "text": [
      "\u001b[1mPASSED\u001b[0m\n",
      "\n",
      "\u001b[30m  13000 people named Yaslyn\n",
      "\u001b[0m\u001b[30m  202000 people named Leena\n",
      "\u001b[0m\u001b[30m  47000 people named Calan\n",
      "\u001b[0m\u001b[30m  58000 people named Jeronimo\n",
      "\u001b[0m\u001b[30m  49000 people named Ryker\n",
      "\u001b[0m\u001b[30m  5000 people named Delvin\n",
      "\u001b[0m"
     ]
    }
   ],
   "source": [
    "%%run_and_test python3 -c \"from exercise_1_5 import f5; f5('exercise_1_5_3.txt')\"\n",
    "\n",
    "'''\n",
    "13000 people named Yaslyn\\n\n",
    "202000 people named Leena\\n\n",
    "47000 people named Calan\\n\n",
    "58000 people named Jeronimo\\n\n",
    "49000 people named Ryker\\n\n",
    "5000 people named Delvin\\n\n",
    "'''"
   ]
  },
  {
   "cell_type": "code",
   "execution_count": 25,
   "id": "9227a63f",
   "metadata": {},
   "outputs": [
    {
     "data": {
      "text/plain": [
       "\u001b[0mLoch\u001b[0m\u001b[1;33m,\u001b[0m\u001b[1;36m9\u001b[0m\u001b[1;33m\n",
       "\u001b[0m\u001b[0mJelanie\u001b[0m\u001b[1;33m,\u001b[0m\u001b[1;36m5\u001b[0m\u001b[1;33m\n",
       "\u001b[0m\u001b[0mMilena\u001b[0m\u001b[1;33m,\u001b[0m\u001b[1;36m368\u001b[0m\u001b[1;33m\n",
       "\u001b[0m\u001b[0mRaycen\u001b[0m\u001b[1;33m,\u001b[0m\u001b[1;36m5\u001b[0m\u001b[1;33m\n",
       "\u001b[0m\u001b[0mIlia\u001b[0m\u001b[1;33m,\u001b[0m\u001b[1;36m11\u001b[0m\u001b[1;33m\n",
       "\u001b[0m\u001b[0mAela\u001b[0m\u001b[1;33m,\u001b[0m\u001b[1;36m52\u001b[0m\u001b[1;33m\n",
       "\u001b[0m\u001b[0mTimber\u001b[0m\u001b[1;33m,\u001b[0m\u001b[1;36m61\u001b[0m\u001b[1;33m\n",
       "\u001b[0m\u001b[0mNoah\u001b[0m\u001b[1;33m,\u001b[0m\u001b[1;36m477\u001b[0m\u001b[1;33m\n",
       "\u001b[0m\u001b[0mGeorges\u001b[0m\u001b[1;33m,\u001b[0m\u001b[1;36m16\u001b[0m\u001b[1;33m\n",
       "\u001b[0m\u001b[0mHappy\u001b[0m\u001b[1;33m,\u001b[0m\u001b[1;36m7\u001b[0m\u001b[1;33m\n",
       "\u001b[0m\u001b[0mMaella\u001b[0m\u001b[1;33m,\u001b[0m\u001b[1;36m8\u001b[0m\u001b[1;33m\n",
       "\u001b[0m\u001b[0mAnavia\u001b[0m\u001b[1;33m,\u001b[0m\u001b[1;36m8\u001b[0m\u001b[1;33m\n",
       "\u001b[0m\u001b[0mEmett\u001b[0m\u001b[1;33m,\u001b[0m\u001b[1;36m15\u001b[0m\u001b[1;33m\u001b[0m\u001b[1;33m\u001b[0m\u001b[0m\n"
      ]
     },
     "metadata": {},
     "output_type": "display_data"
    }
   ],
   "source": [
    "%pycat exercise_1_5_4.txt"
   ]
  },
  {
   "cell_type": "code",
   "execution_count": 26,
   "id": "2020f34b",
   "metadata": {},
   "outputs": [
    {
     "name": "stdout",
     "output_type": "stream",
     "text": [
      "\u001b[1mPASSED\u001b[0m\n",
      "\n",
      "\u001b[30m  9000 people named Loch\n",
      "\u001b[0m\u001b[30m  5000 people named Jelanie\n",
      "\u001b[0m\u001b[30m  368000 people named Milena\n",
      "\u001b[0m\u001b[30m  5000 people named Raycen\n",
      "\u001b[0m\u001b[30m  11000 people named Ilia\n",
      "\u001b[0m\u001b[30m  52000 people named Aela\n",
      "\u001b[0m\u001b[30m  61000 people named Timber\n",
      "\u001b[0m\u001b[30m  477000 people named Noah\n",
      "\u001b[0m\u001b[30m  16000 people named Georges\n",
      "\u001b[0m\u001b[30m  7000 people named Happy\n",
      "\u001b[0m\u001b[30m  8000 people named Maella\n",
      "\u001b[0m\u001b[30m  8000 people named Anavia\n",
      "\u001b[0m\u001b[30m  15000 people named Emett\n",
      "\u001b[0m"
     ]
    }
   ],
   "source": [
    "%%run_and_test python3 -c \"from exercise_1_5 import f5; f5('exercise_1_5_4.txt')\"\n",
    "\n",
    "'''\n",
    "9000 people named Loch\\n\n",
    "5000 people named Jelanie\\n\n",
    "368000 people named Milena\\n\n",
    "5000 people named Raycen\\n\n",
    "11000 people named Ilia\\n\n",
    "52000 people named Aela\\n\n",
    "61000 people named Timber\\n\n",
    "477000 people named Noah\\n\n",
    "16000 people named Georges\\n\n",
    "7000 people named Happy\\n\n",
    "8000 people named Maella\\n\n",
    "8000 people named Anavia\\n\n",
    "15000 people named Emett\\n\n",
    "'''"
   ]
  },
  {
   "attachments": {},
   "cell_type": "markdown",
   "id": "47c775ee",
   "metadata": {},
   "source": [
    "# Exercise 6"
   ]
  },
  {
   "attachments": {},
   "cell_type": "markdown",
   "id": "559a8bf3",
   "metadata": {},
   "source": [
    "## Templates"
   ]
  },
  {
   "cell_type": "code",
   "execution_count": 58,
   "id": "0b543ae1",
   "metadata": {},
   "outputs": [],
   "source": [
    "%pycat exercise_1_6_template.py"
   ]
  },
  {
   "cell_type": "code",
   "execution_count": 27,
   "id": "cb45ad00",
   "metadata": {},
   "outputs": [
    {
     "name": "stdout",
     "output_type": "stream",
     "text": [
      "Overwriting exercise_1_6.py\n"
     ]
    }
   ],
   "source": [
    "%%writefile exercise_1_6.py\n",
    "# Assume that the argument filename is the name of a text file\n",
    "# that exists in the working directory, and\n",
    "# that the file consists of lines that are either blank\n",
    "# or of the form\n",
    "#         count symbol\n",
    "# with count an integer at least equal to 1,\n",
    "# with at least one space between count and symbol,\n",
    "# and with possibly spaces before count and after symbol.\n",
    "#\n",
    "# The output is printed out, not returned.\n",
    "\n",
    "def f6(filename):\n",
    "    with open(filename) as file:\n",
    "        for line in file:\n",
    "            if not line.isspace():\n",
    "                count,symbol=file.split()\n",
    "                print(int(count)*symbol,'\\n')\n",
    "                \n",
    "                \n",
    "    # REPLACE THE PASS STATEMENT ABOVE WITH YOUR CODE"
   ]
  },
  {
   "attachments": {},
   "cell_type": "markdown",
   "id": "7895ee65",
   "metadata": {},
   "source": [
    "## Tests"
   ]
  },
  {
   "cell_type": "code",
   "execution_count": 28,
   "id": "37a68fee",
   "metadata": {},
   "outputs": [
    {
     "data": {
      "text/plain": [
       "\u001b[1;33m\u001b[0m\u001b[0m\n"
      ]
     },
     "metadata": {},
     "output_type": "display_data"
    }
   ],
   "source": [
    "%pycat exercise_1_6_1.txt"
   ]
  },
  {
   "cell_type": "code",
   "execution_count": 29,
   "id": "6d5de92f",
   "metadata": {},
   "outputs": [
    {
     "name": "stdout",
     "output_type": "stream",
     "text": [
      "\u001b[1mPASSED\u001b[0m\n",
      "\n"
     ]
    }
   ],
   "source": [
    "%%run_and_test python3 -c \"from exercise_1_6 import f6; f6('exercise_1_6_1.txt')\"\n",
    "\n",
    "''"
   ]
  },
  {
   "cell_type": "code",
   "execution_count": 30,
   "id": "f563f01b",
   "metadata": {},
   "outputs": [
    {
     "data": {
      "text/plain": [
       "\u001b[1;33m\n",
       "\u001b[0m\u001b[1;36m8\u001b[0m \u001b[1;33m|\u001b[0m\u001b[1;33m\u001b[0m\u001b[1;33m\u001b[0m\u001b[0m\n"
      ]
     },
     "metadata": {},
     "output_type": "display_data"
    }
   ],
   "source": [
    "%pycat exercise_1_6_2.txt"
   ]
  },
  {
   "cell_type": "code",
   "execution_count": 31,
   "id": "311a3491",
   "metadata": {},
   "outputs": [
    {
     "name": "stderr",
     "output_type": "stream",
     "text": [
      "Exception in thread Thread-30 (_readerthread):\n",
      "Traceback (most recent call last):\n",
      "  File \"D:\\anaconda3\\Lib\\threading.py\", line 1075, in _bootstrap_inner\n",
      "    self.run()\n",
      "  File \"D:\\anaconda3\\Lib\\threading.py\", line 1012, in run\n",
      "    self._target(*self._args, **self._kwargs)\n",
      "  File \"D:\\anaconda3\\Lib\\subprocess.py\", line 1599, in _readerthread\n",
      "    buffer.append(fh.read())\n",
      "                  ^^^^^^^^^\n",
      "  File \"<frozen codecs>\", line 322, in decode\n",
      "UnicodeDecodeError: 'utf-8' codec can't decode byte 0xbf in position 95: invalid start byte\n"
     ]
    },
    {
     "ename": "AttributeError",
     "evalue": "'NoneType' object has no attribute 'rindex'",
     "output_type": "error",
     "traceback": [
      "\u001b[1;31m---------------------------------------------------------------------------\u001b[0m",
      "\u001b[1;31mAttributeError\u001b[0m                            Traceback (most recent call last)",
      "Cell \u001b[1;32mIn[31], line 1\u001b[0m\n\u001b[1;32m----> 1\u001b[0m get_ipython()\u001b[38;5;241m.\u001b[39mrun_cell_magic(\u001b[38;5;124m'\u001b[39m\u001b[38;5;124mrun_and_test\u001b[39m\u001b[38;5;124m'\u001b[39m, \u001b[38;5;124m'\u001b[39m\u001b[38;5;124mpython3 -c \u001b[39m\u001b[38;5;124m\"\u001b[39m\u001b[38;5;124mfrom exercise_1_6 import f6; f6(\u001b[39m\u001b[38;5;130;01m\\'\u001b[39;00m\u001b[38;5;124mexercise_1_6_2.txt\u001b[39m\u001b[38;5;130;01m\\'\u001b[39;00m\u001b[38;5;124m)\u001b[39m\u001b[38;5;124m\"\u001b[39m\u001b[38;5;124m'\u001b[39m, \u001b[38;5;124m\"\u001b[39m\u001b[38;5;130;01m\\n\u001b[39;00m\u001b[38;5;124m'\u001b[39m\u001b[38;5;124m||||||||\u001b[39m\u001b[38;5;130;01m\\\\\u001b[39;00m\u001b[38;5;124mn\u001b[39m\u001b[38;5;124m'\u001b[39m\u001b[38;5;130;01m\\n\u001b[39;00m\u001b[38;5;124m\"\u001b[39m)\n",
      "File \u001b[1;32mD:\\anaconda3\\Lib\\site-packages\\IPython\\core\\interactiveshell.py:2541\u001b[0m, in \u001b[0;36mInteractiveShell.run_cell_magic\u001b[1;34m(self, magic_name, line, cell)\u001b[0m\n\u001b[0;32m   2539\u001b[0m \u001b[38;5;28;01mwith\u001b[39;00m \u001b[38;5;28mself\u001b[39m\u001b[38;5;241m.\u001b[39mbuiltin_trap:\n\u001b[0;32m   2540\u001b[0m     args \u001b[38;5;241m=\u001b[39m (magic_arg_s, cell)\n\u001b[1;32m-> 2541\u001b[0m     result \u001b[38;5;241m=\u001b[39m fn(\u001b[38;5;241m*\u001b[39margs, \u001b[38;5;241m*\u001b[39m\u001b[38;5;241m*\u001b[39mkwargs)\n\u001b[0;32m   2543\u001b[0m \u001b[38;5;66;03m# The code below prevents the output from being displayed\u001b[39;00m\n\u001b[0;32m   2544\u001b[0m \u001b[38;5;66;03m# when using magics with decorator @output_can_be_silenced\u001b[39;00m\n\u001b[0;32m   2545\u001b[0m \u001b[38;5;66;03m# when the last Python token in the expression is a ';'.\u001b[39;00m\n\u001b[0;32m   2546\u001b[0m \u001b[38;5;28;01mif\u001b[39;00m \u001b[38;5;28mgetattr\u001b[39m(fn, magic\u001b[38;5;241m.\u001b[39mMAGIC_OUTPUT_CAN_BE_SILENCED, \u001b[38;5;28;01mFalse\u001b[39;00m):\n",
      "File \u001b[1;32m~\\AppData\\Roaming\\Python\\Python312\\site-packages\\run_and_test.py:169\u001b[0m, in \u001b[0;36mrun_and_test\u001b[1;34m(magic_arguments, outputs_inputs)\u001b[0m\n\u001b[0;32m    167\u001b[0m start, end \u001b[38;5;241m=\u001b[39m options\u001b[38;5;241m.\u001b[39mget(\u001b[38;5;124m'\u001b[39m\u001b[38;5;124m-r\u001b[39m\u001b[38;5;124m'\u001b[39m, (\u001b[38;5;28;01mNone\u001b[39;00m, \u001b[38;5;28;01mNone\u001b[39;00m))\n\u001b[0;32m    168\u001b[0m \u001b[38;5;28;01mtry\u001b[39;00m:\n\u001b[1;32m--> 169\u001b[0m     error \u001b[38;5;241m=\u001b[39m p\u001b[38;5;241m.\u001b[39mstderr[p\u001b[38;5;241m.\u001b[39mstderr\u001b[38;5;241m.\u001b[39mrindex(\u001b[38;5;124m'\u001b[39m\u001b[38;5;130;01m\\n\u001b[39;00m\u001b[38;5;124m'\u001b[39m, \u001b[38;5;241m0\u001b[39m, \u001b[38;5;241m-\u001b[39m\u001b[38;5;241m1\u001b[39m) \u001b[38;5;241m+\u001b[39m \u001b[38;5;241m1\u001b[39m :]\n\u001b[0;32m    170\u001b[0m \u001b[38;5;28;01mexcept\u001b[39;00m \u001b[38;5;167;01mValueError\u001b[39;00m:\n\u001b[0;32m    171\u001b[0m     error \u001b[38;5;241m=\u001b[39m \u001b[38;5;124m'\u001b[39m\u001b[38;5;124m'\u001b[39m\n",
      "\u001b[1;31mAttributeError\u001b[0m: 'NoneType' object has no attribute 'rindex'"
     ]
    }
   ],
   "source": [
    "%%run_and_test python3 -c \"from exercise_1_6 import f6; f6('exercise_1_6_2.txt')\"\n",
    "\n",
    "'||||||||\\n'"
   ]
  },
  {
   "cell_type": "code",
   "execution_count": 64,
   "id": "6f8ad1f4",
   "metadata": {},
   "outputs": [
    {
     "name": "stdout",
     "output_type": "stream",
     "text": [
      "\r\n",
      " 2 &\r\n",
      "  12   *   \r\n",
      "\r\n",
      "\r\n",
      "7  +   \r\n",
      "  \r\n"
     ]
    }
   ],
   "source": [
    "%pycat exercise_1_6_3.txt"
   ]
  },
  {
   "cell_type": "code",
   "execution_count": 65,
   "id": "8cb4ff64",
   "metadata": {},
   "outputs": [
    {
     "name": "stdout",
     "output_type": "stream",
     "text": [
      "\u001b[1mFAILED\u001b[0m\n",
      "\n",
      "\u001b[32m+ &&\n",
      "\u001b[0m\u001b[32m+ ************\n",
      "\u001b[0m\u001b[32m+ +++++++\n",
      "\u001b[0m"
     ]
    }
   ],
   "source": [
    "%%run_and_test python3 -c \"from exercise_1_6 import f6; f6('exercise_1_6_3.txt')\"\n",
    "\n",
    "'''\n",
    "&&\\n\n",
    "************\\n\n",
    "+++++++\\n\n",
    "'''"
   ]
  },
  {
   "cell_type": "code",
   "execution_count": 66,
   "id": "dda591e0",
   "metadata": {},
   "outputs": [
    {
     "name": "stdout",
     "output_type": "stream",
     "text": [
      "\r\n",
      "    8  (   \r\n",
      "\r\n",
      "  7   {\r\n",
      "\r\n",
      "    12    =    \r\n",
      "   1    )\r\n",
      "6   ^   \r\n",
      "\r\n",
      "    13        #\r\n"
     ]
    }
   ],
   "source": [
    "%pycat exercise_1_6_4.txt"
   ]
  },
  {
   "cell_type": "code",
   "execution_count": 67,
   "id": "ffe94f0c",
   "metadata": {},
   "outputs": [
    {
     "name": "stdout",
     "output_type": "stream",
     "text": [
      "\u001b[1mFAILED\u001b[0m\n",
      "\n",
      "\u001b[32m+ ((((((((\n",
      "\u001b[0m\u001b[32m+ {{{{{{{\n",
      "\u001b[0m\u001b[32m+ ============\n",
      "\u001b[0m\u001b[32m+ )\n",
      "\u001b[0m\u001b[32m+ ^^^^^^\n",
      "\u001b[0m\u001b[32m+ #############\n",
      "\u001b[0m"
     ]
    }
   ],
   "source": [
    "%%run_and_test python3 -c \"from exercise_1_6 import f6; f6('exercise_1_6_4.txt')\"\n",
    "\n",
    "'''\n",
    "((((((((\\n\n",
    "{{{{{{{\\n\n",
    "============\\n\n",
    ")\\n\n",
    "^^^^^^\\n\n",
    "#############\\n\n",
    "'''"
   ]
  }
 ],
 "metadata": {
  "kernelspec": {
   "display_name": "Python 3 (ipykernel)",
   "language": "python",
   "name": "python3"
  },
  "language_info": {
   "codemirror_mode": {
    "name": "ipython",
    "version": 3
   },
   "file_extension": ".py",
   "mimetype": "text/x-python",
   "name": "python",
   "nbconvert_exporter": "python",
   "pygments_lexer": "ipython3",
   "version": "3.12.7"
  }
 },
 "nbformat": 4,
 "nbformat_minor": 5
}
