{
    "metadata": {
        "kernelspec": {
            "name": "python3",
            "display_name": "Python 3 (ipykernel)",
            "language": "python"
        }
    },
    "nbformat": 4,
    "nbformat_minor": 5,
    "cells": [
        {
            "cell_type": "code",
            "execution_count": 1,
            "metadata": {},
            "outputs": [],
            "source": [
                "load_ext run_and_test"
            ]
        },
        {
            "attachments": {},
            "cell_type": "markdown",
            "metadata": {},
            "source": [
                "# Exercise 1"
            ]
        },
        {
            "attachments": {},
            "cell_type": "markdown",
            "metadata": {},
            "source": [
                "## Templates"
            ]
        },
        {
            "cell_type": "code",
            "execution_count": 2,
            "metadata": {},
            "outputs": [
                {
                    "data": {
                        "text/plain": "\u001b[0;31m# Assume that the arguments m and n are integers at least equal to 0.\u001b[0m\u001b[0;34m\u001b[0m\n\u001b[0;34m\u001b[0m\u001b[0;34m\u001b[0m\n\u001b[0;34m\u001b[0m\u001b[0;32mdef\u001b[0m \u001b[0mf1\u001b[0m\u001b[0;34m(\u001b[0m\u001b[0mm\u001b[0m\u001b[0;34m,\u001b[0m \u001b[0mn\u001b[0m\u001b[0;34m)\u001b[0m\u001b[0;34m:\u001b[0m\u001b[0;34m\u001b[0m\n\u001b[0;34m\u001b[0m    \u001b[0;32mreturn\u001b[0m \u001b[0;34m''\u001b[0m\u001b[0;34m\u001b[0m\n\u001b[0;34m\u001b[0m    \u001b[0;31m# REPLACE THE RETURN STATEMENT ABOVE WITH YOUR CODE\u001b[0m\u001b[0;34m\u001b[0m\u001b[0;34m\u001b[0m\u001b[0m\n"
                    },
                    "execution_count": 2,
                    "metadata": {},
                    "output_type": "execute_result"
                }
            ],
            "source": [
                "%pycat exercise_1_1_template.py"
            ]
        },
        {
            "cell_type": "code",
            "execution_count": 48,
            "metadata": {},
            "outputs": [
                {
                    "name": "stdout",
                    "output_type": "stream",
                    "text": "Overwriting exercise_1_1.py\n"
                }
            ],
            "source": [
                "%%writefile exercise_1_1.py\n",
                "# Assume that the arguments m and n are integers at least equal to 0.\n",
                "\n",
                "def f1(m, n):\n",
                "    if m==0:\n",
                "        return ''\n",
                "    elif m\u003e0:\n",
                "        return ('|' +'_' * n +'|')*m\n",
                "    # REPLACE THE RETURN STATEMENT ABOVE WITH YOUR CODE"
            ]
        },
        {
            "attachments": {},
            "cell_type": "markdown",
            "metadata": {},
            "source": [
                "## Tests"
            ]
        },
        {
            "cell_type": "code",
            "execution_count": 49,
            "metadata": {},
            "outputs": [],
            "source": [
                "%%run_and_test python3 -c \"from exercise_1_1 import f1; print(f1(0, 0))\"\n",
                "\n",
                "'\\n'"
            ]
        },
        {
            "cell_type": "code",
            "execution_count": 44,
            "metadata": {},
            "outputs": [
                {
                    "name": "stdout",
                    "output_type": "stream",
                    "text": "\u001b[1mPASSED\u001b[0m\n\n\u001b[30m  \n\u001b[0m"
                }
            ],
            "source": [
                "%%run_and_test python3 -c \"from exercise_1_1 import f1; print(f1(0, 1))\"\n",
                "\n",
                "'\\n'"
            ]
        },
        {
            "cell_type": "code",
            "execution_count": 50,
            "metadata": {},
            "outputs": [
                {
                    "name": "stdout",
                    "output_type": "stream",
                    "text": "\u001b[1mPASSED\u001b[0m\n\n\u001b[30m  ||\n\u001b[0m"
                }
            ],
            "source": [
                "%%run_and_test python3 -c \"from exercise_1_1 import f1; print(f1(1, 0))\"\n",
                "\n",
                "'||\\n'"
            ]
        },
        {
            "cell_type": "code",
            "execution_count": 51,
            "metadata": {},
            "outputs": [
                {
                    "name": "stdout",
                    "output_type": "stream",
                    "text": "\u001b[1mPASSED\u001b[0m\n\n\u001b[30m  |_|\n\u001b[0m"
                }
            ],
            "source": [
                "%%run_and_test python3 -c \"from exercise_1_1 import f1; print(f1(1, 1))\"\n",
                "\n",
                "'|_|\\n'"
            ]
        },
        {
            "cell_type": "code",
            "execution_count": 52,
            "metadata": {},
            "outputs": [
                {
                    "name": "stdout",
                    "output_type": "stream",
                    "text": "\u001b[1mPASSED\u001b[0m\n\n\u001b[30m  |__||__|\n\u001b[0m"
                }
            ],
            "source": [
                "%%run_and_test python3 -c \"from exercise_1_1 import f1; print(f1(2, 2))\"\n",
                "\n",
                "'|__||__|\\n'"
            ]
        },
        {
            "cell_type": "code",
            "execution_count": 53,
            "metadata": {},
            "outputs": [
                {
                    "name": "stdout",
                    "output_type": "stream",
                    "text": "\u001b[1mPASSED\u001b[0m\n\n\u001b[30m  |__||__||__|\n\u001b[0m"
                }
            ],
            "source": [
                "%%run_and_test python3 -c \"from exercise_1_1 import f1; print(f1(3, 2))\"\n",
                "\n",
                "'|__||__||__|\\n'"
            ]
        },
        {
            "cell_type": "code",
            "execution_count": 54,
            "metadata": {},
            "outputs": [
                {
                    "name": "stdout",
                    "output_type": "stream",
                    "text": "\u001b[1mPASSED\u001b[0m\n\n\u001b[30m  |___||___|\n\u001b[0m"
                }
            ],
            "source": [
                "%%run_and_test python3 -c \"from exercise_1_1 import f1; print(f1(2, 3))\"\n",
                "\n",
                "'|___||___|\\n'"
            ]
        },
        {
            "cell_type": "code",
            "execution_count": 55,
            "metadata": {},
            "outputs": [
                {
                    "name": "stdout",
                    "output_type": "stream",
                    "text": "\u001b[1mPASSED\u001b[0m\n\n\u001b[30m  |____||____||____||____||____||____||____|\n\u001b[0m"
                }
            ],
            "source": [
                "%%run_and_test python3 -c \"from exercise_1_1 import f1; print(f1(7, 4))\"\n",
                "\n",
                "'|____||____||____||____||____||____||____|\\n'"
            ]
        },
        {
            "cell_type": "code",
            "execution_count": 57,
            "metadata": {},
            "outputs": [
                {
                    "name": "stdout",
                    "output_type": "stream",
                    "text": "\u001b[1mPASSED\u001b[0m\n\n\u001b[30m  |_______||_______||_______||_______|\n\u001b[0m"
                }
            ],
            "source": [
                "%%run_and_test python3 -c \"from exercise_1_1 import f1; print(f1(4, 7))\"\n",
                "\n",
                "'|_______||_______||_______||_______|\\n'"
            ]
        },
        {
            "attachments": {},
            "cell_type": "markdown",
            "metadata": {},
            "source": [
                "# Exercise 2"
            ]
        },
        {
            "attachments": {},
            "cell_type": "markdown",
            "metadata": {},
            "source": [
                "## Templates"
            ]
        },
        {
            "cell_type": "code",
            "execution_count": 58,
            "metadata": {},
            "outputs": [
                {
                    "data": {
                        "text/plain": "\u001b[0;31m# Assume that the argument n is an integer at least equal to 0.\u001b[0m\u001b[0;34m\u001b[0m\n\u001b[0;34m\u001b[0m\u001b[0;34m\u001b[0m\n\u001b[0;34m\u001b[0m\u001b[0;32mdef\u001b[0m \u001b[0mf2\u001b[0m\u001b[0;34m(\u001b[0m\u001b[0mn\u001b[0m\u001b[0;34m)\u001b[0m\u001b[0;34m:\u001b[0m\u001b[0;34m\u001b[0m\n\u001b[0;34m\u001b[0m    \u001b[0;32mreturn\u001b[0m \u001b[0;34m''\u001b[0m\u001b[0;34m\u001b[0m\n\u001b[0;34m\u001b[0m    \u001b[0;31m# REPLACE THE RETURN STATEMENT ABOVE WITH YOUR CODE\u001b[0m\u001b[0;34m\u001b[0m\u001b[0;34m\u001b[0m\u001b[0m\n"
                    },
                    "execution_count": 58,
                    "metadata": {},
                    "output_type": "execute_result"
                }
            ],
            "source": [
                "%pycat exercise_1_2_template.py"
            ]
        },
        {
            "cell_type": "code",
            "execution_count": 14,
            "metadata": {},
            "outputs": [
                {
                    "data": {
                        "text/plain": "\u001b[0;31m# Assume that the argument n is an integer at least equal to 0.\u001b[0m\u001b[0;34m\u001b[0m\n\u001b[0;34m\u001b[0m\u001b[0;34m\u001b[0m\n\u001b[0;34m\u001b[0m\u001b[0;32mdef\u001b[0m \u001b[0mf2\u001b[0m\u001b[0;34m(\u001b[0m\u001b[0mn\u001b[0m\u001b[0;34m)\u001b[0m\u001b[0;34m:\u001b[0m\u001b[0;34m\u001b[0m\n\u001b[0;34m\u001b[0m    \u001b[0;32mreturn\u001b[0m \u001b[0;34m''\u001b[0m\u001b[0;34m\u001b[0m\n\u001b[0;34m\u001b[0m    \u001b[0;31m# REPLACE THE RETURN STATEMENT ABOVE WITH YOUR CODE\u001b[0m\u001b[0;34m\u001b[0m\u001b[0;34m\u001b[0m\u001b[0m\n"
                    },
                    "execution_count": 14,
                    "metadata": {},
                    "output_type": "execute_result"
                },
                {
                    "name": "stdout",
                    "output_type": "stream",
                    "text": "Writing exercise_1_2.py\n"
                }
            ],
            "source": [
                "%%writefile exercise_1_2.py\n",
                "# Assume that the argument n is an integer at least equal to 0.\n",
                "\n",
                "def f2(n):\n",
                "    return ''\n",
                "    # REPLACE THE RETURN STATEMENT ABOVE WITH YOUR CODE"
            ]
        },
        {
            "attachments": {},
            "cell_type": "markdown",
            "metadata": {},
            "source": [
                "## Tests"
            ]
        },
        {
            "cell_type": "code",
            "execution_count": 15,
            "metadata": {},
            "outputs": [
                {
                    "name": "stdout",
                    "output_type": "stream",
                    "text": "\u001b[1mPASSED\u001b[0m\n\n\u001b[30m  \n\u001b[0m"
                }
            ],
            "source": [
                "%%run_and_test python3 -c \"from exercise_1_2 import f2; print(f2(0))\"\n",
                "\n",
                "'\\n'"
            ]
        },
        {
            "cell_type": "code",
            "execution_count": 16,
            "metadata": {},
            "outputs": [
                {
                    "name": "stdout",
                    "output_type": "stream",
                    "text": "\u001b[1mFAILED\u001b[0m\n\n\u001b[32m+ 1\n\u001b[0m\u001b[30m  \n\u001b[0m"
                }
            ],
            "source": [
                "%%run_and_test python3 -c \"from exercise_1_2 import f2; print(f2(1))\"\n",
                "\n",
                "'1\\n\\n'"
            ]
        },
        {
            "cell_type": "code",
            "execution_count": 17,
            "metadata": {},
            "outputs": [
                {
                    "name": "stdout",
                    "output_type": "stream",
                    "text": "\u001b[1mFAILED\u001b[0m\n\n\u001b[32m+ 22\n\u001b[0m\u001b[32m+ 22\n\u001b[0m\u001b[30m  \n\u001b[0m"
                }
            ],
            "source": [
                "%%run_and_test python3 -c \"from exercise_1_2 import f2; print(f2(2))\"\n",
                "\n",
                "'''\n",
                "22\\n\n",
                "22\\n\\n\n",
                "'''"
            ]
        },
        {
            "cell_type": "code",
            "execution_count": 18,
            "metadata": {},
            "outputs": [
                {
                    "name": "stdout",
                    "output_type": "stream",
                    "text": "\u001b[1mFAILED\u001b[0m\n\n\u001b[32m+ 333\n\u001b[0m\u001b[32m+ 333\n\u001b[0m\u001b[32m+ 333\n\u001b[0m\u001b[30m  \n\u001b[0m"
                }
            ],
            "source": [
                "%%run_and_test python3 -c \"from exercise_1_2 import f2; print(f2(3))\"\n",
                "\n",
                "'''\n",
                "333\\n\n",
                "333\\n\n",
                "333\\n\\n\n",
                "'''"
            ]
        },
        {
            "cell_type": "code",
            "execution_count": 19,
            "metadata": {},
            "outputs": [
                {
                    "name": "stdout",
                    "output_type": "stream",
                    "text": "\u001b[1mFAILED\u001b[0m\n\n\u001b[32m+ 999999999\n\u001b[0m\u001b[32m+ 999999999\n\u001b[0m\u001b[32m+ 999999999\n\u001b[0m\u001b[32m+ 999999999\n\u001b[0m\u001b[32m+ 999999999\n\u001b[0m\u001b[32m+ 999999999\n\u001b[0m\u001b[32m+ 999999999\n\u001b[0m\u001b[32m+ 999999999\n\u001b[0m\u001b[32m+ 999999999\n\u001b[0m\u001b[30m  \n\u001b[0m"
                }
            ],
            "source": [
                "%%run_and_test python3 -c \"from exercise_1_2 import f2; print(f2(9))\"\n",
                "\n",
                "'''\n",
                "999999999\\n\n",
                "999999999\\n\n",
                "999999999\\n\n",
                "999999999\\n\n",
                "999999999\\n\n",
                "999999999\\n\n",
                "999999999\\n\n",
                "999999999\\n\n",
                "999999999\\n\\n\n",
                "'''"
            ]
        },
        {
            "cell_type": "code",
            "execution_count": 20,
            "metadata": {},
            "outputs": [
                {
                    "name": "stdout",
                    "output_type": "stream",
                    "text": "\u001b[1mFAILED\u001b[0m\n\n\u001b[32m+ 121212121212121212121212\n\u001b[0m\u001b[32m+ 121212121212121212121212\n\u001b[0m\u001b[32m+ 121212121212121212121212\n\u001b[0m\u001b[32m+ 121212121212121212121212\n\u001b[0m\u001b[32m+ 121212121212121212121212\n\u001b[0m\u001b[32m+ 121212121212121212121212\n\u001b[0m\u001b[32m+ 121212121212121212121212\n\u001b[0m\u001b[32m+ 121212121212121212121212\n\u001b[0m\u001b[32m+ 121212121212121212121212\n\u001b[0m\u001b[32m+ 121212121212121212121212\n\u001b[0m\u001b[32m+ 121212121212121212121212\n\u001b[0m\u001b[32m+ 121212121212121212121212\n\u001b[0m\u001b[30m  \n\u001b[0m"
                }
            ],
            "source": [
                "%%run_and_test python3 -c \"from exercise_1_2 import f2; print(f2(12))\"\n",
                "\n",
                "'''\n",
                "121212121212121212121212\\n\n",
                "121212121212121212121212\\n\n",
                "121212121212121212121212\\n\n",
                "121212121212121212121212\\n\n",
                "121212121212121212121212\\n\n",
                "121212121212121212121212\\n\n",
                "121212121212121212121212\\n\n",
                "121212121212121212121212\\n\n",
                "121212121212121212121212\\n\n",
                "121212121212121212121212\\n\n",
                "121212121212121212121212\\n\n",
                "121212121212121212121212\\n\\n\n",
                "'''"
            ]
        },
        {
            "attachments": {},
            "cell_type": "markdown",
            "metadata": {},
            "source": [
                "# Exercise 3"
            ]
        },
        {
            "attachments": {},
            "cell_type": "markdown",
            "metadata": {},
            "source": [
                "## Templates"
            ]
        },
        {
            "cell_type": "code",
            "execution_count": 21,
            "metadata": {},
            "outputs": [
                {
                    "data": {
                        "text/plain": "\u001b[0;31m# Assume that the argument L is a list of integers.\u001b[0m\u001b[0;34m\u001b[0m\n\u001b[0;34m\u001b[0m\u001b[0;31m#\u001b[0m\u001b[0;34m\u001b[0m\n\u001b[0;34m\u001b[0m\u001b[0;31m# Removes from L all integers x such that L is of the form\u001b[0m\u001b[0;34m\u001b[0m\n\u001b[0;34m\u001b[0m\u001b[0;31m# [..., x, x_1, ..., x_n, e]\u001b[0m\u001b[0;34m\u001b[0m\n\u001b[0;34m\u001b[0m\u001b[0;31m# with n \u003e= 0 and x, x_1, ..., x_n all strictly smaller than e.\u001b[0m\u001b[0;34m\u001b[0m\n\u001b[0;34m\u001b[0m\u001b[0;31m#\u001b[0m\u001b[0;34m\u001b[0m\n\u001b[0;34m\u001b[0m\u001b[0;31m# Use only one loop.\u001b[0m\u001b[0;34m\u001b[0m\n\u001b[0;34m\u001b[0m\u001b[0;31m#\u001b[0m\u001b[0;34m\u001b[0m\n\u001b[0;34m\u001b[0m\u001b[0;31m# The output is printed out, not returned.\u001b[0m\u001b[0;34m\u001b[0m\n\u001b[0;34m\u001b[0m\u001b[0;34m\u001b[0m\n\u001b[0;34m\u001b[0m\u001b[0;32mdef\u001b[0m \u001b[0mf3\u001b[0m\u001b[0;34m(\u001b[0m\u001b[0mL\u001b[0m\u001b[0;34m)\u001b[0m\u001b[0;34m:\u001b[0m\u001b[0;34m\u001b[0m\n\u001b[0;34m\u001b[0m    \u001b[0;32mpass\u001b[0m\u001b[0;34m\u001b[0m\n\u001b[0;34m\u001b[0m    \u001b[0;31m# REPLACE THE PASS STATEMENT ABOVE WITH YOUR CODE\u001b[0m\u001b[0;34m\u001b[0m\u001b[0;34m\u001b[0m\u001b[0m\n"
                    },
                    "execution_count": 21,
                    "metadata": {},
                    "output_type": "execute_result"
                }
            ],
            "source": [
                "%pycat exercise_1_3_template.py"
            ]
        },
        {
            "cell_type": "code",
            "execution_count": 22,
            "metadata": {},
            "outputs": [
                {
                    "name": "stdout",
                    "output_type": "stream",
                    "text": "Writing exercise_1_3.py\n"
                }
            ],
            "source": [
                "%%writefile exercise_1_3.py\n",
                "# Assume that the argument L is a list of integers.\n",
                "#\n",
                "# Removes from L all integers x such that L is of the form\n",
                "# [..., x, x_1, ..., x_n, e]\n",
                "# with n \u003e= 0 and x, x_1, ..., x_n all strictly smaller than e.\n",
                "#\n",
                "# Use only one loop.\n",
                "#\n",
                "# The output is printed out, not returned.\n",
                "\n",
                "def f3(L):\n",
                "    pass\n",
                "    # REPLACE THE PASS STATEMENT ABOVE WITH YOUR CODE"
            ]
        },
        {
            "attachments": {},
            "cell_type": "markdown",
            "metadata": {},
            "source": [
                "## Tests"
            ]
        },
        {
            "cell_type": "code",
            "execution_count": 23,
            "metadata": {},
            "outputs": [
                {
                    "name": "stdout",
                    "output_type": "stream",
                    "text": "\u001b[1mFAILED\u001b[0m\n\n\u001b[32m+ []\n\u001b[0m"
                }
            ],
            "source": [
                "%%run_and_test python3 -c \"from exercise_1_3 import f3; f3([])\"\n",
                "\n",
                "'[]\\n'"
            ]
        },
        {
            "cell_type": "code",
            "execution_count": 24,
            "metadata": {},
            "outputs": [
                {
                    "name": "stdout",
                    "output_type": "stream",
                    "text": "\u001b[1mFAILED\u001b[0m\n\n\u001b[32m+ [0]\n\u001b[0m"
                }
            ],
            "source": [
                "%%run_and_test python3 -c \"from exercise_1_3 import f3; f3([0])\"\n",
                "\n",
                "'[0]\\n'"
            ]
        },
        {
            "cell_type": "code",
            "execution_count": 25,
            "metadata": {},
            "outputs": [
                {
                    "name": "stdout",
                    "output_type": "stream",
                    "text": "\u001b[1mFAILED\u001b[0m\n\n\u001b[32m+ [0, 0]\n\u001b[0m"
                }
            ],
            "source": [
                "%%run_and_test python3 -c \"from exercise_1_3 import f3; f3([0, 0])\"\n",
                "\n",
                "'[0, 0]\\n'"
            ]
        },
        {
            "cell_type": "code",
            "execution_count": 26,
            "metadata": {},
            "outputs": [
                {
                    "name": "stdout",
                    "output_type": "stream",
                    "text": "\u001b[1mFAILED\u001b[0m\n\n\u001b[32m+ [1]\n\u001b[0m"
                }
            ],
            "source": [
                "%%run_and_test python3 -c \"from exercise_1_3 import f3; f3([0, 1])\"\n",
                "\n",
                "'[1]\\n'"
            ]
        },
        {
            "cell_type": "code",
            "execution_count": 27,
            "metadata": {},
            "outputs": [
                {
                    "name": "stdout",
                    "output_type": "stream",
                    "text": "\u001b[1mFAILED\u001b[0m\n\n\u001b[32m+ [1, 1]\n\u001b[0m"
                }
            ],
            "source": [
                "%%run_and_test python3 -c \"from exercise_1_3 import f3; f3([0, 1, 0, 0, 1])\"\n",
                "\n",
                "'[1, 1]\\n'"
            ]
        },
        {
            "cell_type": "code",
            "execution_count": 28,
            "metadata": {},
            "outputs": [
                {
                    "name": "stdout",
                    "output_type": "stream",
                    "text": "\u001b[1mFAILED\u001b[0m\n\n\u001b[32m+ [3, 3]\n\u001b[0m"
                }
            ],
            "source": [
                "%%run_and_test python3 -c \"from exercise_1_3 import f3; f3([3, 2, 1, 0, 1, 2, 3])\"\n",
                "\n",
                "'[3, 3]\\n'"
            ]
        },
        {
            "cell_type": "code",
            "execution_count": 29,
            "metadata": {},
            "outputs": [
                {
                    "name": "stdout",
                    "output_type": "stream",
                    "text": "\u001b[1mFAILED\u001b[0m\n\n\u001b[32m+ [6, -5, 3, -2, 5, 1]\n\u001b[0m"
                }
            ],
            "source": [
                "%%run_and_test python3 -c \"from exercise_1_3 import f3; f3([-9, 6, -7, -5, 3, -9, -2, 5, -7, -9, 1])\"\n",
                "\n",
                "'[6, -5, 3, -2, 5, 1]\\n'"
            ]
        },
        {
            "cell_type": "code",
            "execution_count": 30,
            "metadata": {},
            "outputs": [
                {
                    "name": "stdout",
                    "output_type": "stream",
                    "text": "\u001b[1mFAILED\u001b[0m\n\n\u001b[32m+ [4, 9, 6, 8, 5, 8, 7]\n\u001b[0m"
                }
            ],
            "source": [
                "%%run_and_test python3 -c \"from exercise_1_3 import f3; f3([2, 4, 1, 9, 6, 1, 3, 8, 2, 5, 3, 8, 3, 2, 2, 1, 7])\"\n",
                "\n",
                "'[4, 9, 6, 8, 5, 8, 7]\\n'"
            ]
        },
        {
            "cell_type": "code",
            "execution_count": 31,
            "metadata": {},
            "outputs": [
                {
                    "name": "stdout",
                    "output_type": "stream",
                    "text": "\u001b[1mFAILED\u001b[0m\n\n\u001b[32m+ [0, 8, 3, 6, 7, 5, 3, 7, 6]\n\u001b[0m"
                }
            ],
            "source": [
                "%%run_and_test python3 -c \"from exercise_1_3 import f3; f3([2, 0, 4, 8, 4, 3, 6, 7, 5, 3, 7, 4, 2, 6])\"\n",
                "\n",
                "'[0, 8, 3, 6, 7, 5, 3, 7, 6]\\n'"
            ]
        },
        {
            "attachments": {},
            "cell_type": "markdown",
            "metadata": {},
            "source": [
                "# Exercise 4"
            ]
        },
        {
            "attachments": {},
            "cell_type": "markdown",
            "metadata": {},
            "source": [
                "## Templates"
            ]
        },
        {
            "cell_type": "code",
            "execution_count": 32,
            "metadata": {},
            "outputs": [
                {
                    "data": {
                        "text/plain": "\u001b[0;31m# Assume that the argument D is a dictionary whose keys and values\u001b[0m\u001b[0;34m\u001b[0m\n\u001b[0;34m\u001b[0m\u001b[0;31m# are all integers. Assume that the argument n is an integer.\u001b[0m\u001b[0;34m\u001b[0m\n\u001b[0;34m\u001b[0m\u001b[0;31m#\u001b[0m\u001b[0;34m\u001b[0m\n\u001b[0;34m\u001b[0m\u001b[0;31m# Returns the longest strictly increasing list of integers\u001b[0m\u001b[0;34m\u001b[0m\n\u001b[0;34m\u001b[0m\u001b[0;31m# of the form [n, D[n], D[D[n]], D[D[D[n]]], ...]\u001b[0m\u001b[0;34m\u001b[0m\n\u001b[0;34m\u001b[0m\u001b[0;31m# provided n is one of D's keys.\u001b[0m\u001b[0;34m\u001b[0m\n\u001b[0;34m\u001b[0m\u001b[0;34m\u001b[0m\n\u001b[0;34m\u001b[0m\u001b[0;32mdef\u001b[0m \u001b[0mf4\u001b[0m\u001b[0;34m(\u001b[0m\u001b[0mD\u001b[0m\u001b[0;34m,\u001b[0m \u001b[0mn\u001b[0m\u001b[0;34m)\u001b[0m\u001b[0;34m:\u001b[0m\u001b[0;34m\u001b[0m\n\u001b[0;34m\u001b[0m    \u001b[0;32mreturn\u001b[0m \u001b[0;34m[\u001b[0m\u001b[0;34m]\u001b[0m\u001b[0;34m\u001b[0m\n\u001b[0;34m\u001b[0m    \u001b[0;31m# REPLACE THE RETURN STATEMENT ABOVE WITH YOUR CODE\u001b[0m\u001b[0;34m\u001b[0m\u001b[0;34m\u001b[0m\u001b[0m\n"
                    },
                    "execution_count": 32,
                    "metadata": {},
                    "output_type": "execute_result"
                }
            ],
            "source": [
                "%pycat exercise_1_4_template.py"
            ]
        },
        {
            "cell_type": "code",
            "execution_count": 33,
            "metadata": {},
            "outputs": [
                {
                    "name": "stdout",
                    "output_type": "stream",
                    "text": "Writing exercise_1_4.py\n"
                }
            ],
            "source": [
                "%%writefile exercise_1_4.py\n",
                "# Assume that the argument D is a dictionary whose keys and values\n",
                "# are all integers. Assume that the argument n is an integer.\n",
                "#\n",
                "# Returns the longest strictly increasing list of integers\n",
                "# of the form [n, D[n], D[D[n]], D[D[D[n]]], ...]\n",
                "# provided n is one of D's keys.\n",
                "\n",
                "def f4(D, n):\n",
                "    return []\n",
                "    # REPLACE THE RETURN STATEMENT ABOVE WITH YOUR CODE"
            ]
        },
        {
            "attachments": {},
            "cell_type": "markdown",
            "metadata": {},
            "source": [
                "## Tests"
            ]
        },
        {
            "cell_type": "code",
            "execution_count": 34,
            "metadata": {},
            "outputs": [],
            "source": [
                "statements = 'D = {}; from exercise_1_4 import f4; print(f4(D, 0))'"
            ]
        },
        {
            "cell_type": "code",
            "execution_count": 35,
            "metadata": {},
            "outputs": [
                {
                    "name": "stdout",
                    "output_type": "stream",
                    "text": "\u001b[1mPASSED\u001b[0m\n\n\u001b[30m  []\n\u001b[0m"
                }
            ],
            "source": [
                "%%run_and_test python3 -c \"$statements\"\n",
                "\n",
                "'[]\\n'"
            ]
        },
        {
            "cell_type": "code",
            "execution_count": 36,
            "metadata": {},
            "outputs": [],
            "source": [
                "statements = 'D = {0: 0}; from exercise_1_4 import f4; print(f4(D, 0))'"
            ]
        },
        {
            "cell_type": "code",
            "execution_count": 37,
            "metadata": {},
            "outputs": [
                {
                    "name": "stdout",
                    "output_type": "stream",
                    "text": "\u001b[1mFAILED\u001b[0m\n\n\u001b[31m- []\n\u001b[0m\u001b[32m+ [0]\n\u001b[0m\u001b[33m?  +\n\u001b[0m"
                }
            ],
            "source": [
                "%%run_and_test python3 -c \"$statements\"\n",
                "\n",
                "'[0]\\n'"
            ]
        },
        {
            "cell_type": "code",
            "execution_count": 38,
            "metadata": {},
            "outputs": [],
            "source": [
                "statements = 'D = {0: 1}; from exercise_1_4 import f4; print(f4(D, 1))'"
            ]
        },
        {
            "cell_type": "code",
            "execution_count": 39,
            "metadata": {},
            "outputs": [
                {
                    "name": "stdout",
                    "output_type": "stream",
                    "text": "\u001b[1mPASSED\u001b[0m\n\n\u001b[30m  []\n\u001b[0m"
                }
            ],
            "source": [
                "%%run_and_test python3 -c \"$statements\"\n",
                "\n",
                "'[]\\n'"
            ]
        },
        {
            "cell_type": "code",
            "execution_count": 40,
            "metadata": {},
            "outputs": [],
            "source": [
                "statements = 'D = {0: 1}; from exercise_1_4 import f4; print(f4(D, 0))'"
            ]
        },
        {
            "cell_type": "code",
            "execution_count": 41,
            "metadata": {},
            "outputs": [
                {
                    "name": "stdout",
                    "output_type": "stream",
                    "text": "\u001b[1mFAILED\u001b[0m\n\n\u001b[31m- []\n\u001b[0m\u001b[32m+ [0, 1]\n\u001b[0m"
                }
            ],
            "source": [
                "%%run_and_test python3 -c \"$statements\"\n",
                "\n",
                "'[0, 1]\\n'"
            ]
        },
        {
            "cell_type": "code",
            "execution_count": 42,
            "metadata": {},
            "outputs": [],
            "source": [
                "statements = 'D = {0: 1, 5: 6, 1: 5}; '\\\n",
                "             'from exercise_1_4 import f4; print(f4(D, 0))'"
            ]
        },
        {
            "cell_type": "code",
            "execution_count": 43,
            "metadata": {},
            "outputs": [
                {
                    "name": "stdout",
                    "output_type": "stream",
                    "text": "\u001b[1mFAILED\u001b[0m\n\n\u001b[31m- []\n\u001b[0m\u001b[32m+ [0, 1, 5, 6]\n\u001b[0m"
                }
            ],
            "source": [
                "%%run_and_test python3 -c \"$statements\"\n",
                "\n",
                "'[0, 1, 5, 6]\\n'"
            ]
        },
        {
            "cell_type": "code",
            "execution_count": 44,
            "metadata": {},
            "outputs": [],
            "source": [
                "statements = 'D = {12: 6, 7: 11, 3: 7, 11: 12, 0: 3}; '\\\n",
                "             'from exercise_1_4 import f4; print(f4(D, 3))'"
            ]
        },
        {
            "cell_type": "code",
            "execution_count": 45,
            "metadata": {},
            "outputs": [
                {
                    "name": "stdout",
                    "output_type": "stream",
                    "text": "\u001b[1mFAILED\u001b[0m\n\n\u001b[31m- []\n\u001b[0m\u001b[32m+ [3, 7, 11, 12]\n\u001b[0m"
                }
            ],
            "source": [
                "%%run_and_test python3 -c \"$statements\"\n",
                "\n",
                "'[3, 7, 11, 12]\\n'"
            ]
        },
        {
            "cell_type": "code",
            "execution_count": 46,
            "metadata": {},
            "outputs": [],
            "source": [
                "statements = 'D = {1: 4, 8: 9, 9: 10, 5: 6, 4: 5, 6: 7, 7: 8, 0: 1}; '\\\n",
                "             'from exercise_1_4 import f4; print(f4(D, 4))'"
            ]
        },
        {
            "cell_type": "code",
            "execution_count": 47,
            "metadata": {},
            "outputs": [
                {
                    "name": "stdout",
                    "output_type": "stream",
                    "text": "\u001b[1mFAILED\u001b[0m\n\n\u001b[31m- []\n\u001b[0m\u001b[32m+ [4, 5, 6, 7, 8, 9, 10]\n\u001b[0m"
                }
            ],
            "source": [
                "%%run_and_test python3 -c \"$statements\"\n",
                "\n",
                "'[4, 5, 6, 7, 8, 9, 10]\\n'"
            ]
        },
        {
            "attachments": {},
            "cell_type": "markdown",
            "metadata": {},
            "source": [
                "# Exercise 5"
            ]
        },
        {
            "attachments": {},
            "cell_type": "markdown",
            "metadata": {},
            "source": [
                "## Templates"
            ]
        },
        {
            "cell_type": "code",
            "execution_count": 48,
            "metadata": {},
            "outputs": [
                {
                    "data": {
                        "text/plain": "\u001b[0;31m# Assume that the argument filename is the name of a text file\u001b[0m\u001b[0;34m\u001b[0m\n\u001b[0;34m\u001b[0m\u001b[0;31m# that exists in the working directory, and\u001b[0m\u001b[0;34m\u001b[0m\n\u001b[0;34m\u001b[0m\u001b[0;31m# that the file consists of lines of the form\u001b[0m\u001b[0;34m\u001b[0m\n\u001b[0;34m\u001b[0m\u001b[0;31m# first_name,count_in_thousands\u001b[0m\u001b[0;34m\u001b[0m\n\u001b[0;34m\u001b[0m\u001b[0;31m#\u001b[0m\u001b[0;34m\u001b[0m\n\u001b[0;34m\u001b[0m\u001b[0;31m# The output is printed out, not returned.\u001b[0m\u001b[0;34m\u001b[0m\n\u001b[0;34m\u001b[0m\u001b[0;34m\u001b[0m\n\u001b[0;34m\u001b[0m\u001b[0;32mdef\u001b[0m \u001b[0mf5\u001b[0m\u001b[0;34m(\u001b[0m\u001b[0mfilename\u001b[0m\u001b[0;34m)\u001b[0m\u001b[0;34m:\u001b[0m\u001b[0;34m\u001b[0m\n\u001b[0;34m\u001b[0m    \u001b[0;32mpass\u001b[0m\u001b[0;34m\u001b[0m\n\u001b[0;34m\u001b[0m    \u001b[0;31m# REPLACE THE PASS STATEMENT ABOVE WITH YOUR CODE\u001b[0m\u001b[0;34m\u001b[0m\u001b[0;34m\u001b[0m\u001b[0m\n"
                    },
                    "execution_count": 48,
                    "metadata": {},
                    "output_type": "execute_result"
                }
            ],
            "source": [
                "%pycat exercise_1_5_template.py"
            ]
        },
        {
            "cell_type": "code",
            "execution_count": 49,
            "metadata": {},
            "outputs": [
                {
                    "name": "stdout",
                    "output_type": "stream",
                    "text": "Writing exercise_1_5.py\n"
                }
            ],
            "source": [
                "%%writefile exercise_1_5.py\n",
                "# Assume that the argument filename is the name of a text file\n",
                "# that exists in the working directory, and\n",
                "# that the file consists of lines of the form\n",
                "# first_name,count_in_thousands\n",
                "#\n",
                "# The output is printed out, not returned.\n",
                "\n",
                "def f5(filename):\n",
                "    pass\n",
                "    # REPLACE THE PASS STATEMENT ABOVE WITH YOUR CODE"
            ]
        },
        {
            "attachments": {},
            "cell_type": "markdown",
            "metadata": {},
            "source": [
                "## Tests"
            ]
        },
        {
            "cell_type": "code",
            "execution_count": 50,
            "metadata": {},
            "outputs": [],
            "source": [
                "%cat exercise_1_5_1.txt"
            ]
        },
        {
            "cell_type": "code",
            "execution_count": 51,
            "metadata": {},
            "outputs": [
                {
                    "name": "stdout",
                    "output_type": "stream",
                    "text": "\u001b[1mPASSED\u001b[0m\n\n"
                }
            ],
            "source": [
                "%%run_and_test python3 -c \"from exercise_1_5 import f5; f5('exercise_1_5_1.txt')\"\n",
                "\n",
                "''"
            ]
        },
        {
            "cell_type": "code",
            "execution_count": 52,
            "metadata": {},
            "outputs": [
                {
                    "name": "stdout",
                    "output_type": "stream",
                    "text": "Naiomi,72\r\n"
                }
            ],
            "source": [
                "%cat exercise_1_5_2.txt"
            ]
        },
        {
            "cell_type": "code",
            "execution_count": 53,
            "metadata": {},
            "outputs": [
                {
                    "name": "stdout",
                    "output_type": "stream",
                    "text": "\u001b[1mFAILED\u001b[0m\n\n\u001b[32m+ 72000 people named Naiomi\n\u001b[0m"
                }
            ],
            "source": [
                "%%run_and_test python3 -c \"from exercise_1_5 import f5; f5('exercise_1_5_2.txt')\"\n",
                "\n",
                "'72000 people named Naiomi\\n'"
            ]
        },
        {
            "cell_type": "code",
            "execution_count": 54,
            "metadata": {},
            "outputs": [
                {
                    "name": "stdout",
                    "output_type": "stream",
                    "text": "Yaslyn,13\r\nLeena,202\r\nCalan,47\r\nJeronimo,58\r\nRyker,49\r\nDelvin,5\r\n"
                }
            ],
            "source": [
                "%cat exercise_1_5_3.txt"
            ]
        },
        {
            "cell_type": "code",
            "execution_count": 55,
            "metadata": {},
            "outputs": [
                {
                    "name": "stdout",
                    "output_type": "stream",
                    "text": "\u001b[1mFAILED\u001b[0m\n\n\u001b[32m+ 13000 people named Yaslyn\n\u001b[0m\u001b[32m+ 202000 people named Leena\n\u001b[0m\u001b[32m+ 47000 people named Calan\n\u001b[0m\u001b[32m+ 58000 people named Jeronimo\n\u001b[0m\u001b[32m+ 49000 people named Ryker\n\u001b[0m\u001b[32m+ 5000 people named Delvin\n\u001b[0m"
                }
            ],
            "source": [
                "%%run_and_test python3 -c \"from exercise_1_5 import f5; f5('exercise_1_5_3.txt')\"\n",
                "\n",
                "'''\n",
                "13000 people named Yaslyn\\n\n",
                "202000 people named Leena\\n\n",
                "47000 people named Calan\\n\n",
                "58000 people named Jeronimo\\n\n",
                "49000 people named Ryker\\n\n",
                "5000 people named Delvin\\n\n",
                "'''"
            ]
        },
        {
            "cell_type": "code",
            "execution_count": 56,
            "metadata": {},
            "outputs": [
                {
                    "name": "stdout",
                    "output_type": "stream",
                    "text": "Loch,9\r\nJelanie,5\r\nMilena,368\r\nRaycen,5\r\nIlia,11\r\nAela,52\r\nTimber,61\r\nNoah,477\r\nGeorges,16\r\nHappy,7\r\nMaella,8\r\nAnavia,8\r\nEmett,15\r\n"
                }
            ],
            "source": [
                "%cat exercise_1_5_4.txt"
            ]
        },
        {
            "cell_type": "code",
            "execution_count": 57,
            "metadata": {},
            "outputs": [
                {
                    "name": "stdout",
                    "output_type": "stream",
                    "text": "\u001b[1mFAILED\u001b[0m\n\n\u001b[32m+ 9000 people named Loch\n\u001b[0m\u001b[32m+ 5000 people named Jelanie\n\u001b[0m\u001b[32m+ 368000 people named Milena\n\u001b[0m\u001b[32m+ 5000 people named Raycen\n\u001b[0m\u001b[32m+ 11000 people named Ilia\n\u001b[0m\u001b[32m+ 52000 people named Aela\n\u001b[0m\u001b[32m+ 61000 people named Timber\n\u001b[0m\u001b[32m+ 477000 people named Noah\n\u001b[0m\u001b[32m+ 16000 people named Georges\n\u001b[0m\u001b[32m+ 7000 people named Happy\n\u001b[0m\u001b[32m+ 8000 people named Maella\n\u001b[0m\u001b[32m+ 8000 people named Anavia\n\u001b[0m\u001b[32m+ 15000 people named Emett\n\u001b[0m"
                }
            ],
            "source": [
                "%%run_and_test python3 -c \"from exercise_1_5 import f5; f5('exercise_1_5_4.txt')\"\n",
                "\n",
                "'''\n",
                "9000 people named Loch\\n\n",
                "5000 people named Jelanie\\n\n",
                "368000 people named Milena\\n\n",
                "5000 people named Raycen\\n\n",
                "11000 people named Ilia\\n\n",
                "52000 people named Aela\\n\n",
                "61000 people named Timber\\n\n",
                "477000 people named Noah\\n\n",
                "16000 people named Georges\\n\n",
                "7000 people named Happy\\n\n",
                "8000 people named Maella\\n\n",
                "8000 people named Anavia\\n\n",
                "15000 people named Emett\\n\n",
                "'''"
            ]
        },
        {
            "attachments": {},
            "cell_type": "markdown",
            "metadata": {},
            "source": [
                "# Exercise 6"
            ]
        },
        {
            "attachments": {},
            "cell_type": "markdown",
            "metadata": {},
            "source": [
                "## Templates"
            ]
        },
        {
            "cell_type": "code",
            "execution_count": 58,
            "metadata": {},
            "outputs": [],
            "source": [
                "%pycat exercise_1_6_template.py"
            ]
        },
        {
            "cell_type": "code",
            "execution_count": 59,
            "metadata": {},
            "outputs": [
                {
                    "data": {
                        "text/plain": "\u001b[0;31m# Assume that the argument filename is the name of a text file\u001b[0m\u001b[0;34m\u001b[0m\n\u001b[0;34m\u001b[0m\u001b[0;31m# that exists in the working directory, and\u001b[0m\u001b[0;34m\u001b[0m\n\u001b[0;34m\u001b[0m\u001b[0;31m# that the file consists of lines that are either blank\u001b[0m\u001b[0;34m\u001b[0m\n\u001b[0;34m\u001b[0m\u001b[0;31m# or of the form\u001b[0m\u001b[0;34m\u001b[0m\n\u001b[0;34m\u001b[0m\u001b[0;31m#         count symbol\u001b[0m\u001b[0;34m\u001b[0m\n\u001b[0;34m\u001b[0m\u001b[0;31m# with count an integer at least equal to 1,\u001b[0m\u001b[0;34m\u001b[0m\n\u001b[0;34m\u001b[0m\u001b[0;31m# with at least one space between count and symbol,\u001b[0m\u001b[0;34m\u001b[0m\n\u001b[0;34m\u001b[0m\u001b[0;31m# and with possibly spaces before count and after symbol.\u001b[0m\u001b[0;34m\u001b[0m\n\u001b[0;34m\u001b[0m\u001b[0;31m#\u001b[0m\u001b[0;34m\u001b[0m\n\u001b[0;34m\u001b[0m\u001b[0;31m# The output is printed out, not returned.\u001b[0m\u001b[0;34m\u001b[0m\n\u001b[0;34m\u001b[0m\u001b[0;34m\u001b[0m\n\u001b[0;34m\u001b[0m\u001b[0;32mdef\u001b[0m \u001b[0mf6\u001b[0m\u001b[0;34m(\u001b[0m\u001b[0mfilename\u001b[0m\u001b[0;34m)\u001b[0m\u001b[0;34m:\u001b[0m\u001b[0;34m\u001b[0m\n\u001b[0;34m\u001b[0m    \u001b[0;32mpass\u001b[0m\u001b[0;34m\u001b[0m\n\u001b[0;34m\u001b[0m    \u001b[0;31m# REPLACE THE PASS STATEMENT ABOVE WITH YOUR CODE\u001b[0m\u001b[0;34m\u001b[0m\u001b[0;34m\u001b[0m\u001b[0m\n"
                    },
                    "execution_count": 59,
                    "metadata": {},
                    "output_type": "execute_result"
                },
                {
                    "name": "stdout",
                    "output_type": "stream",
                    "text": "Writing exercise_1_6.py\n"
                }
            ],
            "source": [
                "%%writefile exercise_1_6.py\n",
                "# Assume that the argument filename is the name of a text file\n",
                "# that exists in the working directory, and\n",
                "# that the file consists of lines that are either blank\n",
                "# or of the form\n",
                "#         count symbol\n",
                "# with count an integer at least equal to 1,\n",
                "# with at least one space between count and symbol,\n",
                "# and with possibly spaces before count and after symbol.\n",
                "#\n",
                "# The output is printed out, not returned.\n",
                "\n",
                "def f6(filename):\n",
                "    pass\n",
                "    # REPLACE THE PASS STATEMENT ABOVE WITH YOUR CODE"
            ]
        },
        {
            "attachments": {},
            "cell_type": "markdown",
            "metadata": {},
            "source": [
                "## Tests"
            ]
        },
        {
            "cell_type": "code",
            "execution_count": 60,
            "metadata": {},
            "outputs": [
                {
                    "name": "stdout",
                    "output_type": "stream",
                    "text": "\r\n      \r\n          \r\n             \r\n    "
                }
            ],
            "source": [
                "%cat exercise_1_6_1.txt"
            ]
        },
        {
            "cell_type": "code",
            "execution_count": 61,
            "metadata": {},
            "outputs": [
                {
                    "name": "stdout",
                    "output_type": "stream",
                    "text": "\u001b[1mPASSED\u001b[0m\n\n"
                }
            ],
            "source": [
                "%%run_and_test python3 -c \"from exercise_1_6 import f6; f6('exercise_1_6_1.txt')\"\n",
                "\n",
                "''"
            ]
        },
        {
            "cell_type": "code",
            "execution_count": 62,
            "metadata": {},
            "outputs": [
                {
                    "name": "stdout",
                    "output_type": "stream",
                    "text": "\r\n8 |\r\n\r\n           \r\n\r\n"
                }
            ],
            "source": [
                "%cat exercise_1_6_2.txt"
            ]
        },
        {
            "cell_type": "code",
            "execution_count": 63,
            "metadata": {},
            "outputs": [
                {
                    "name": "stdout",
                    "output_type": "stream",
                    "text": "\u001b[1mFAILED\u001b[0m\n\n\u001b[32m+ ||||||||\n\u001b[0m"
                }
            ],
            "source": [
                "%%run_and_test python3 -c \"from exercise_1_6 import f6; f6('exercise_1_6_2.txt')\"\n",
                "\n",
                "'||||||||\\n'"
            ]
        },
        {
            "cell_type": "code",
            "execution_count": 64,
            "metadata": {},
            "outputs": [
                {
                    "name": "stdout",
                    "output_type": "stream",
                    "text": "\r\n 2 \u0026\r\n  12   *   \r\n\r\n\r\n7  +   \r\n  \r\n"
                }
            ],
            "source": [
                "%cat exercise_1_6_3.txt"
            ]
        },
        {
            "cell_type": "code",
            "execution_count": 65,
            "metadata": {},
            "outputs": [
                {
                    "name": "stdout",
                    "output_type": "stream",
                    "text": "\u001b[1mFAILED\u001b[0m\n\n\u001b[32m+ \u0026\u0026\n\u001b[0m\u001b[32m+ ************\n\u001b[0m\u001b[32m+ +++++++\n\u001b[0m"
                }
            ],
            "source": [
                "%%run_and_test python3 -c \"from exercise_1_6 import f6; f6('exercise_1_6_3.txt')\"\n",
                "\n",
                "'''\n",
                "\u0026\u0026\\n\n",
                "************\\n\n",
                "+++++++\\n\n",
                "'''"
            ]
        },
        {
            "cell_type": "code",
            "execution_count": 66,
            "metadata": {},
            "outputs": [
                {
                    "name": "stdout",
                    "output_type": "stream",
                    "text": "\r\n    8  (   \r\n\r\n  7   {\r\n\r\n    12    =    \r\n   1    )\r\n6   ^   \r\n\r\n    13        #\r\n"
                }
            ],
            "source": [
                "%cat exercise_1_6_4.txt"
            ]
        },
        {
            "cell_type": "code",
            "execution_count": 67,
            "metadata": {},
            "outputs": [
                {
                    "name": "stdout",
                    "output_type": "stream",
                    "text": "\u001b[1mFAILED\u001b[0m\n\n\u001b[32m+ ((((((((\n\u001b[0m\u001b[32m+ {{{{{{{\n\u001b[0m\u001b[32m+ ============\n\u001b[0m\u001b[32m+ )\n\u001b[0m\u001b[32m+ ^^^^^^\n\u001b[0m\u001b[32m+ #############\n\u001b[0m"
                }
            ],
            "source": [
                "%%run_and_test python3 -c \"from exercise_1_6 import f6; f6('exercise_1_6_4.txt')\"\n",
                "\n",
                "'''\n",
                "((((((((\\n\n",
                "{{{{{{{\\n\n",
                "============\\n\n",
                ")\\n\n",
                "^^^^^^\\n\n",
                "#############\\n\n",
                "'''"
            ]
        }
    ]
}
