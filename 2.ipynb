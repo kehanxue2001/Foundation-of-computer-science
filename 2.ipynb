{
 "cells": [
  {
   "cell_type": "code",
   "execution_count": 1,
   "id": "038605bc-2a99-4e82-97db-4d4dbba5aef3",
   "metadata": {},
   "outputs": [],
   "source": [
    "L=[1,0 ]"
   ]
  },
  {
   "cell_type": "code",
   "execution_count": 2,
   "id": "562faefb-01c9-4b66-aeac-a2f836ff513e",
   "metadata": {},
   "outputs": [
    {
     "name": "stdout",
     "output_type": "stream",
     "text": [
      "[1, 0]\n"
     ]
    }
   ],
   "source": [
    "print(L)"
   ]
  },
  {
   "cell_type": "code",
   "execution_count": 23,
   "id": "899b313f-6a0c-4776-8151-4c9524ca42c2",
   "metadata": {},
   "outputs": [],
   "source": [
    "TAPE=[0,0,0,0,1,1,1,1,1,0,0]"
   ]
  },
  {
   "cell_type": "code",
   "execution_count": 24,
   "id": "4b4a6b35-c266-47df-a675-77a15cc333d9",
   "metadata": {},
   "outputs": [
    {
     "data": {
      "text/plain": [
       "320"
      ]
     },
     "execution_count": 24,
     "metadata": {},
     "output_type": "execute_result"
    }
   ],
   "source": [
    "80*4"
   ]
  },
  {
   "cell_type": "code",
   "execution_count": 25,
   "id": "40d0697d-c6f1-46fb-8ca0-c83dab736839",
   "metadata": {},
   "outputs": [
    {
     "data": {
      "text/plain": [
       "[0, 0, 0, 1, 1, 1, 1, 1, 1, 1, 0, 0, 0, 0, 0, 0]"
      ]
     },
     "execution_count": 25,
     "metadata": {},
     "output_type": "execute_result"
    }
   ],
   "source": [
    "[0]*3+[1]*7+[0]*6"
   ]
  },
  {
   "cell_type": "code",
   "execution_count": 1,
   "id": "351fc484-569c-465a-888f-c18f2ff99515",
   "metadata": {},
   "outputs": [],
   "source": [
    "tape = [0]*3+[1]*7+[0]*6"
   ]
  },
  {
   "cell_type": "code",
   "execution_count": 5,
   "id": "21ce23e9-1055-4535-ab8e-9b99fd6331fe",
   "metadata": {},
   "outputs": [
    {
     "ename": "NameError",
     "evalue": "name 'tape' is not defined",
     "output_type": "error",
     "traceback": [
      "\u001b[1;31m---------------------------------------------------------------------------\u001b[0m",
      "\u001b[1;31mNameError\u001b[0m                                 Traceback (most recent call last)",
      "Cell \u001b[1;32mIn[5], line 1\u001b[0m\n\u001b[1;32m----> 1\u001b[0m tape\n",
      "\u001b[1;31mNameError\u001b[0m: name 'tape' is not defined"
     ]
    }
   ],
   "source": [
    "tape\n"
   ]
  },
  {
   "cell_type": "code",
   "execution_count": 3,
   "id": "16e03992-9e74-46b8-a125-bb872f351cae",
   "metadata": {},
   "outputs": [],
   "source": [
    "def display_tape():\n",
    "    #display top bun\n",
    "    pass"
   ]
  },
  {
   "cell_type": "code",
   "execution_count": 15,
   "id": "4ca71400-1f3c-4dad-a786-4c364677b1ac",
   "metadata": {},
   "outputs": [
    {
     "data": {
      "text/plain": [
       "set"
      ]
     },
     "execution_count": 15,
     "metadata": {},
     "output_type": "execute_result"
    }
   ],
   "source": [
    "type({1,2})"
   ]
  },
  {
   "cell_type": "code",
   "execution_count": 17,
   "id": "2fe65858-f3d0-4836-b1e3-6d906d165308",
   "metadata": {},
   "outputs": [
    {
     "name": "stdout",
     "output_type": "stream",
     "text": [
      "Help on method randrange in module random:\n",
      "\n",
      "randrange(start, stop=None, step=1) method of random.Random instance\n",
      "    Choose a random item from range(stop) or range(start, stop[, step]).\n",
      "\n",
      "    Roughly equivalent to ``choice(range(start, stop, step))`` but\n",
      "    supports arbitrarily large ranges and is optimized for common cases.\n",
      "\n"
     ]
    }
   ],
   "source": [
    "from random import randrange\n",
    "help(randrange)"
   ]
  },
  {
   "cell_type": "code",
   "execution_count": 3,
   "id": "da5d3f24-f025-4236-9292-e8a6b7bf1f9e",
   "metadata": {},
   "outputs": [
    {
     "data": {
      "text/plain": [
       "['0',\n",
       " '0',\n",
       " '0',\n",
       " '1',\n",
       " '1',\n",
       " '1',\n",
       " '1',\n",
       " '1',\n",
       " '1',\n",
       " '1',\n",
       " '0',\n",
       " '0',\n",
       " '0',\n",
       " '0',\n",
       " '0',\n",
       " '0']"
      ]
     },
     "execution_count": 3,
     "metadata": {},
     "output_type": "execute_result"
    }
   ],
   "source": [
    "[str(e) for e in tape]"
   ]
  },
  {
   "cell_type": "code",
   "execution_count": 4,
   "id": "168d5f24-ecfd-42ec-9907-9077c6fd8842",
   "metadata": {},
   "outputs": [
    {
     "data": {
      "text/plain": [
       "['__add__',\n",
       " '__class__',\n",
       " '__contains__',\n",
       " '__delattr__',\n",
       " '__dir__',\n",
       " '__doc__',\n",
       " '__eq__',\n",
       " '__format__',\n",
       " '__ge__',\n",
       " '__getattribute__',\n",
       " '__getitem__',\n",
       " '__getnewargs__',\n",
       " '__getstate__',\n",
       " '__gt__',\n",
       " '__hash__',\n",
       " '__init__',\n",
       " '__init_subclass__',\n",
       " '__iter__',\n",
       " '__le__',\n",
       " '__len__',\n",
       " '__lt__',\n",
       " '__mod__',\n",
       " '__mul__',\n",
       " '__ne__',\n",
       " '__new__',\n",
       " '__reduce__',\n",
       " '__reduce_ex__',\n",
       " '__repr__',\n",
       " '__rmod__',\n",
       " '__rmul__',\n",
       " '__setattr__',\n",
       " '__sizeof__',\n",
       " '__str__',\n",
       " '__subclasshook__',\n",
       " 'capitalize',\n",
       " 'casefold',\n",
       " 'center',\n",
       " 'count',\n",
       " 'encode',\n",
       " 'endswith',\n",
       " 'expandtabs',\n",
       " 'find',\n",
       " 'format',\n",
       " 'format_map',\n",
       " 'index',\n",
       " 'isalnum',\n",
       " 'isalpha',\n",
       " 'isascii',\n",
       " 'isdecimal',\n",
       " 'isdigit',\n",
       " 'isidentifier',\n",
       " 'islower',\n",
       " 'isnumeric',\n",
       " 'isprintable',\n",
       " 'isspace',\n",
       " 'istitle',\n",
       " 'isupper',\n",
       " 'join',\n",
       " 'ljust',\n",
       " 'lower',\n",
       " 'lstrip',\n",
       " 'maketrans',\n",
       " 'partition',\n",
       " 'removeprefix',\n",
       " 'removesuffix',\n",
       " 'replace',\n",
       " 'rfind',\n",
       " 'rindex',\n",
       " 'rjust',\n",
       " 'rpartition',\n",
       " 'rsplit',\n",
       " 'rstrip',\n",
       " 'split',\n",
       " 'splitlines',\n",
       " 'startswith',\n",
       " 'strip',\n",
       " 'swapcase',\n",
       " 'title',\n",
       " 'translate',\n",
       " 'upper',\n",
       " 'zfill']"
      ]
     },
     "execution_count": 4,
     "metadata": {},
     "output_type": "execute_result"
    }
   ],
   "source": [
    "dir(str)"
   ]
  },
  {
   "cell_type": "code",
   "execution_count": 5,
   "id": "4bee6816-297f-4594-8f50-72cc7a45afcc",
   "metadata": {},
   "outputs": [
    {
     "data": {
      "text/plain": [
       "'0AVB0AVB0AVB1AVB1AVB1AVB1AVB1AVB1AVB1AVB0AVB0AVB0AVB0AVB0AVB0'"
      ]
     },
     "execution_count": 5,
     "metadata": {},
     "output_type": "execute_result"
    }
   ],
   "source": [
    "'AVB'.join([str(e) for e in tape])"
   ]
  },
  {
   "cell_type": "code",
   "execution_count": 6,
   "id": "be7276a3-daab-4f6a-bc2f-1afb7ddd97f9",
   "metadata": {},
   "outputs": [
    {
     "ename": "SyntaxError",
     "evalue": "invalid syntax (572677147.py, line 1)",
     "output_type": "error",
     "traceback": [
      "\u001b[1;36m  Cell \u001b[1;32mIn[6], line 1\u001b[1;36m\u001b[0m\n\u001b[1;33m    '|'.join.[str(e) for e in tape]\u001b[0m\n\u001b[1;37m             ^\u001b[0m\n\u001b[1;31mSyntaxError\u001b[0m\u001b[1;31m:\u001b[0m invalid syntax\n"
     ]
    }
   ],
   "source": [
    "'|'.join.[str(e) for e in tape]"
   ]
  },
  {
   "cell_type": "code",
   "execution_count": 7,
   "id": "0af7f549-99c5-49ea-84ea-b45c35c118e5",
   "metadata": {},
   "outputs": [
    {
     "data": {
      "text/plain": [
       "'0|0|0|1|1|1|1|1|1|1|0|0|0|0|0|0'"
      ]
     },
     "execution_count": 7,
     "metadata": {},
     "output_type": "execute_result"
    }
   ],
   "source": [
    "'|'.join([str(e) for e in tape])"
   ]
  },
  {
   "cell_type": "code",
   "execution_count": 8,
   "id": "32d5e842-150c-4ac7-8f4e-d25f58c76700",
   "metadata": {},
   "outputs": [
    {
     "data": {
      "text/plain": [
       "'|0|0|0|1|1|1|1|1|1|1|0|0|0|0|0|0|'"
      ]
     },
     "execution_count": 8,
     "metadata": {},
     "output_type": "execute_result"
    }
   ],
   "source": [
    "'|'+'|'.join([str(e) for e in tape]) +'|'"
   ]
  },
  {
   "cell_type": "code",
   "execution_count": 9,
   "id": "c600c906-9800-4031-9488-aae37718d771",
   "metadata": {},
   "outputs": [
    {
     "name": "stdout",
     "output_type": "stream",
     "text": [
      "---------------------------------\n"
     ]
    }
   ],
   "source": [
    "def draw_horizontal_line():\n",
    "    # multiplication takes precedence over addition\n",
    "    print('-' * (2 * len(tape) + 1))\n",
    "    \n",
    "draw_horizontal_line()"
   ]
  },
  {
   "cell_type": "code",
   "execution_count": 10,
   "id": "c1d5b70f-61f5-4357-b82b-631788943079",
   "metadata": {},
   "outputs": [
    {
     "name": "stdout",
     "output_type": "stream",
     "text": [
      "---------------------------------\n",
      "---------------------------------\n"
     ]
    }
   ],
   "source": [
    "def display_tape():\n",
    "    draw_horizontal_line()\n",
    "    # Output cell contents, delimited with |'s.\n",
    "    draw_horizontal_line()\n",
    "    \n",
    "display_tape()"
   ]
  },
  {
   "cell_type": "code",
   "execution_count": 11,
   "id": "964cf761-7fba-4488-b5dc-d13a01567a9c",
   "metadata": {},
   "outputs": [
    {
     "name": "stdout",
     "output_type": "stream",
     "text": [
      "---------------------------------\n",
      "---------------------------------\n"
     ]
    }
   ],
   "source": [
    "def display_tape():\n",
    "    draw_horizontal_line()\n",
    "    '|'+'|'.join([str(e) for e in tape]) +'|'\n",
    "    draw_horizontal_line()\n",
    "    \n",
    "display_tape()"
   ]
  },
  {
   "cell_type": "code",
   "execution_count": 12,
   "id": "adc42724-bff9-4f52-bec8-873386d0cdba",
   "metadata": {},
   "outputs": [
    {
     "name": "stdout",
     "output_type": "stream",
     "text": [
      "---------------------------------\n",
      "|0|0|0|1|1|1|1|1|1|1|0|0|0|0|0|0|\n",
      "---------------------------------\n"
     ]
    }
   ],
   "source": [
    "def display_tape():\n",
    "    draw_horizontal_line()\n",
    "    print('|'+'|'.join([str(e) for e in tape]) +'|')\n",
    "    draw_horizontal_line()\n",
    "    \n",
    "display_tape()"
   ]
  },
  {
   "cell_type": "code",
   "execution_count": 13,
   "id": "2b22b922-5ee7-43bf-b9d9-0552d2a3859b",
   "metadata": {},
   "outputs": [
    {
     "data": {
      "text/plain": [
       "<generator object <genexpr> at 0x0000018B064A7E00>"
      ]
     },
     "execution_count": 13,
     "metadata": {},
     "output_type": "execute_result"
    }
   ],
   "source": [
    "(str(e) for e in tape)"
   ]
  },
  {
   "cell_type": "code",
   "execution_count": 14,
   "id": "6d110e46-d1b2-4d76-8491-d9ca573ccf3d",
   "metadata": {},
   "outputs": [
    {
     "name": "stdout",
     "output_type": "stream",
     "text": [
      "---------------------------------\n",
      "|0|0|0|1|1|1|1|1|1|1|0|0|0|0|0|0|\n",
      "---------------------------------\n"
     ]
    }
   ],
   "source": [
    "def display_tape():\n",
    "    draw_horizontal_line()\n",
    "    print('|','|'.join(str(e) for e in tape) ,'|',sep=\"\")\n",
    "    draw_horizontal_line()\n",
    "    \n",
    "display_tape()"
   ]
  },
  {
   "cell_type": "code",
   "execution_count": 15,
   "id": "dc3dc82f-a730-46ee-bf4a-15daaca18109",
   "metadata": {},
   "outputs": [],
   "source": [
    "state='del1'"
   ]
  },
  {
   "cell_type": "code",
   "execution_count": 16,
   "id": "34f3333a-94ef-4956-b209-6a9a2e9a66b7",
   "metadata": {},
   "outputs": [],
   "source": [
    "with open('division_by_2.txt') as file:\n",
    "    file.readlines()"
   ]
  },
  {
   "cell_type": "code",
   "execution_count": 17,
   "id": "d3010105-a63b-4a10-91fe-758182469f6f",
   "metadata": {},
   "outputs": [
    {
     "name": "stdout",
     "output_type": "stream",
     "text": [
      "# Initial state: del1\n",
      "\n",
      "\n",
      "\n",
      "del1 1 del2 0 R\n",
      "\n",
      "del2 1 mov1R 0 R\n",
      "\n",
      "mov1R 1 mov1R 1 R\n",
      "\n",
      "mov1R 0 mov2R 0 R\n",
      "\n",
      "mov2R 1 mov2R 1 R\n",
      "\n",
      "mov2R 0 mov1L 1 L\n",
      "\n",
      "mov1L 1 mov1L 1 L\n",
      "\n",
      "mov1L 0 mov2L 0 L\n",
      "\n",
      "mov2L 1 mov2L 1 L\n",
      "\n",
      "mov2L 0 del1 0 R\n",
      "\n",
      "del1 0 end 0 R\n",
      "\n",
      "del2 0 end 0 R\n",
      "\n"
     ]
    }
   ],
   "source": [
    "with open('division_by_2.txt') as file:\n",
    "    for line in file:\n",
    "        print(line)"
   ]
  },
  {
   "cell_type": "code",
   "execution_count": 18,
   "id": "2afd0fa6-22a3-4bf8-8cd2-94b4b87b45bf",
   "metadata": {},
   "outputs": [
    {
     "name": "stdout",
     "output_type": "stream",
     "text": [
      "# Initial state: del1\n",
      "\n",
      "del1 1 del2 0 R\n",
      "del2 1 mov1R 0 R\n",
      "mov1R 1 mov1R 1 R\n",
      "mov1R 0 mov2R 0 R\n",
      "mov2R 1 mov2R 1 R\n",
      "mov2R 0 mov1L 1 L\n",
      "mov1L 1 mov1L 1 L\n",
      "mov1L 0 mov2L 0 L\n",
      "mov2L 1 mov2L 1 L\n",
      "mov2L 0 del1 0 R\n",
      "del1 0 end 0 R\n",
      "del2 0 end 0 R\n"
     ]
    }
   ],
   "source": [
    "with open('division_by_2.txt') as file:\n",
    "    for line in file:\n",
    "        print(line, end='')"
   ]
  },
  {
   "cell_type": "code",
   "execution_count": 19,
   "id": "04fbbf3f-1815-4003-84fb-47a0d50049a5",
   "metadata": {},
   "outputs": [
    {
     "data": {
      "text/plain": [
       "['__add__',\n",
       " '__class__',\n",
       " '__contains__',\n",
       " '__delattr__',\n",
       " '__dir__',\n",
       " '__doc__',\n",
       " '__eq__',\n",
       " '__format__',\n",
       " '__ge__',\n",
       " '__getattribute__',\n",
       " '__getitem__',\n",
       " '__getnewargs__',\n",
       " '__getstate__',\n",
       " '__gt__',\n",
       " '__hash__',\n",
       " '__init__',\n",
       " '__init_subclass__',\n",
       " '__iter__',\n",
       " '__le__',\n",
       " '__len__',\n",
       " '__lt__',\n",
       " '__mod__',\n",
       " '__mul__',\n",
       " '__ne__',\n",
       " '__new__',\n",
       " '__reduce__',\n",
       " '__reduce_ex__',\n",
       " '__repr__',\n",
       " '__rmod__',\n",
       " '__rmul__',\n",
       " '__setattr__',\n",
       " '__sizeof__',\n",
       " '__str__',\n",
       " '__subclasshook__',\n",
       " 'capitalize',\n",
       " 'casefold',\n",
       " 'center',\n",
       " 'count',\n",
       " 'encode',\n",
       " 'endswith',\n",
       " 'expandtabs',\n",
       " 'find',\n",
       " 'format',\n",
       " 'format_map',\n",
       " 'index',\n",
       " 'isalnum',\n",
       " 'isalpha',\n",
       " 'isascii',\n",
       " 'isdecimal',\n",
       " 'isdigit',\n",
       " 'isidentifier',\n",
       " 'islower',\n",
       " 'isnumeric',\n",
       " 'isprintable',\n",
       " 'isspace',\n",
       " 'istitle',\n",
       " 'isupper',\n",
       " 'join',\n",
       " 'ljust',\n",
       " 'lower',\n",
       " 'lstrip',\n",
       " 'maketrans',\n",
       " 'partition',\n",
       " 'removeprefix',\n",
       " 'removesuffix',\n",
       " 'replace',\n",
       " 'rfind',\n",
       " 'rindex',\n",
       " 'rjust',\n",
       " 'rpartition',\n",
       " 'rsplit',\n",
       " 'rstrip',\n",
       " 'split',\n",
       " 'splitlines',\n",
       " 'startswith',\n",
       " 'strip',\n",
       " 'swapcase',\n",
       " 'title',\n",
       " 'translate',\n",
       " 'upper',\n",
       " 'zfill']"
      ]
     },
     "execution_count": 19,
     "metadata": {},
     "output_type": "execute_result"
    }
   ],
   "source": [
    "dir(str)"
   ]
  },
  {
   "cell_type": "code",
   "execution_count": 20,
   "id": "cb8d4d81-7e63-44f0-aa5c-1a833b007091",
   "metadata": {},
   "outputs": [
    {
     "data": {
      "text/plain": [
       "True"
      ]
     },
     "execution_count": 20,
     "metadata": {},
     "output_type": "execute_result"
    }
   ],
   "source": [
    "'asdf'.startswith('as')"
   ]
  },
  {
   "cell_type": "code",
   "execution_count": 21,
   "id": "90e58dd1-c11a-4f96-b7a3-f3924f28f4d8",
   "metadata": {},
   "outputs": [
    {
     "data": {
      "text/plain": [
       "False"
      ]
     },
     "execution_count": 21,
     "metadata": {},
     "output_type": "execute_result"
    }
   ],
   "source": [
    "'asdf'.startswith('qw')"
   ]
  },
  {
   "cell_type": "code",
   "execution_count": 22,
   "id": "0383e243-0bd9-43a1-960b-dd5d45a6f0f1",
   "metadata": {},
   "outputs": [
    {
     "name": "stdout",
     "output_type": "stream",
     "text": [
      "\n",
      "del1 1 del2 0 R\n",
      "del2 1 mov1R 0 R\n",
      "mov1R 1 mov1R 1 R\n",
      "mov1R 0 mov2R 0 R\n",
      "mov2R 1 mov2R 1 R\n",
      "mov2R 0 mov1L 1 L\n",
      "mov1L 1 mov1L 1 L\n",
      "mov1L 0 mov2L 0 L\n",
      "mov2L 1 mov2L 1 L\n",
      "mov2L 0 del1 0 R\n",
      "del1 0 end 0 R\n",
      "del2 0 end 0 R\n"
     ]
    }
   ],
   "source": [
    "with open('division_by_2.txt') as file:\n",
    "    for line in file:\n",
    "        if not line.startswith('#'):\n",
    "            print(line, end='')"
   ]
  },
  {
   "cell_type": "code",
   "execution_count": 23,
   "id": "f1112c1f-14c0-40e3-9425-ce3d6ea3cbf7",
   "metadata": {},
   "outputs": [
    {
     "data": {
      "text/plain": [
       "False"
      ]
     },
     "execution_count": 23,
     "metadata": {},
     "output_type": "execute_result"
    }
   ],
   "source": [
    "''.isspace()"
   ]
  },
  {
   "cell_type": "code",
   "execution_count": 24,
   "id": "6b34b68d-f506-40fc-92d1-301121b90cc4",
   "metadata": {},
   "outputs": [
    {
     "data": {
      "text/plain": [
       "False"
      ]
     },
     "execution_count": 24,
     "metadata": {},
     "output_type": "execute_result"
    }
   ],
   "source": [
    "'qwdfqwed qw'.isspace()"
   ]
  },
  {
   "cell_type": "code",
   "execution_count": 25,
   "id": "ed06dedd-a5fb-43b4-a47b-8359bb346532",
   "metadata": {},
   "outputs": [
    {
     "name": "stdout",
     "output_type": "stream",
     "text": [
      "del1 1 del2 0 R\n",
      "del2 1 mov1R 0 R\n",
      "mov1R 1 mov1R 1 R\n",
      "mov1R 0 mov2R 0 R\n",
      "mov2R 1 mov2R 1 R\n",
      "mov2R 0 mov1L 1 L\n",
      "mov1L 1 mov1L 1 L\n",
      "mov1L 0 mov2L 0 L\n",
      "mov2L 1 mov2L 1 L\n",
      "mov2L 0 del1 0 R\n",
      "del1 0 end 0 R\n",
      "del2 0 end 0 R\n"
     ]
    }
   ],
   "source": [
    "with open('division_by_2.txt') as file:\n",
    "    for line in file:\n",
    "        if not line.startswith('#') and not line.isspace():\n",
    "            print(line, end='')"
   ]
  },
  {
   "cell_type": "code",
   "execution_count": 26,
   "id": "9cb22d21-81b4-4039-b9c7-c63e65c94ce6",
   "metadata": {},
   "outputs": [
    {
     "name": "stdout",
     "output_type": "stream",
     "text": [
      "del1 1 del2 0 R\n",
      "del2 1 mov1R 0 R\n",
      "mov1R 1 mov1R 1 R\n",
      "mov1R 0 mov2R 0 R\n",
      "mov2R 1 mov2R 1 R\n",
      "mov2R 0 mov1L 1 L\n",
      "mov1L 1 mov1L 1 L\n",
      "mov1L 0 mov2L 0 L\n",
      "mov2L 1 mov2L 1 L\n",
      "mov2L 0 del1 0 R\n",
      "del1 0 end 0 R\n",
      "del2 0 end 0 R\n"
     ]
    }
   ],
   "source": [
    "with open('division_by_2.txt') as file:\n",
    "    for line in file:\n",
    "        if line.startswith('#') or line.isspace():\n",
    "            continue\n",
    "        print(line, end='')"
   ]
  },
  {
   "cell_type": "code",
   "execution_count": 27,
   "id": "2fa1313c-b44d-4b30-ae1c-4c27d3411aa2",
   "metadata": {},
   "outputs": [
    {
     "data": {
      "text/plain": [
       "['del1', '1', 'del2', '0', 'R']"
      ]
     },
     "execution_count": 27,
     "metadata": {},
     "output_type": "execute_result"
    }
   ],
   "source": [
    "'del1 1 del2 0 R'.split()"
   ]
  },
  {
   "cell_type": "code",
   "execution_count": 28,
   "id": "894fb285-eebb-477d-850a-b5640625d9cf",
   "metadata": {},
   "outputs": [
    {
     "name": "stdout",
     "output_type": "stream",
     "text": [
      "['del1', '1', 'del2', '0', 'R']\n",
      "['del2', '1', 'mov1R', '0', 'R']\n",
      "['mov1R', '1', 'mov1R', '1', 'R']\n",
      "['mov1R', '0', 'mov2R', '0', 'R']\n",
      "['mov2R', '1', 'mov2R', '1', 'R']\n",
      "['mov2R', '0', 'mov1L', '1', 'L']\n",
      "['mov1L', '1', 'mov1L', '1', 'L']\n",
      "['mov1L', '0', 'mov2L', '0', 'L']\n",
      "['mov2L', '1', 'mov2L', '1', 'L']\n",
      "['mov2L', '0', 'del1', '0', 'R']\n",
      "['del1', '0', 'end', '0', 'R']\n",
      "['del2', '0', 'end', '0', 'R']\n"
     ]
    }
   ],
   "source": [
    "with open('division_by_2.txt') as file:\n",
    "    for line in file:\n",
    "        if line.startswith('#') or line.isspace():\n",
    "            continue\n",
    "        print(line.split())"
   ]
  },
  {
   "cell_type": "code",
   "execution_count": 29,
   "id": "8d67fe0b-392d-4bf9-ab37-829963711393",
   "metadata": {},
   "outputs": [],
   "source": [
    "D = {}"
   ]
  },
  {
   "cell_type": "code",
   "execution_count": 30,
   "id": "96aade9a-92cc-4e38-ae54-21731bd57d1f",
   "metadata": {},
   "outputs": [
    {
     "ename": "SyntaxError",
     "evalue": "invalid syntax (1996964236.py, line 1)",
     "output_type": "error",
     "traceback": [
      "\u001b[1;36m  Cell \u001b[1;32mIn[30], line 1\u001b[1;36m\u001b[0m\n\u001b[1;33m    D{1} = 'one'\u001b[0m\n\u001b[1;37m     ^\u001b[0m\n\u001b[1;31mSyntaxError\u001b[0m\u001b[1;31m:\u001b[0m invalid syntax\n"
     ]
    }
   ],
   "source": [
    "D{1} = 'one'\n",
    "D"
   ]
  },
  {
   "cell_type": "code",
   "execution_count": 31,
   "id": "1ef6b3e1-fee9-4f89-b475-3737a6a93792",
   "metadata": {},
   "outputs": [
    {
     "data": {
      "text/plain": [
       "{1: 'one'}"
      ]
     },
     "execution_count": 31,
     "metadata": {},
     "output_type": "execute_result"
    }
   ],
   "source": [
    "D[1] = 'one'\n",
    "D"
   ]
  },
  {
   "cell_type": "code",
   "execution_count": 32,
   "id": "28c50647-f423-4cc5-be34-676827db96f0",
   "metadata": {},
   "outputs": [
    {
     "ename": "TypeError",
     "evalue": "unhashable type: 'list'",
     "output_type": "error",
     "traceback": [
      "\u001b[1;31m---------------------------------------------------------------------------\u001b[0m",
      "\u001b[1;31mTypeError\u001b[0m                                 Traceback (most recent call last)",
      "Cell \u001b[1;32mIn[32], line 1\u001b[0m\n\u001b[1;32m----> 1\u001b[0m D\u001b[38;5;241m=\u001b[39m{[\u001b[38;5;124m'\u001b[39m\u001b[38;5;124mdel1\u001b[39m\u001b[38;5;124m'\u001b[39m,\u001b[38;5;124m'\u001b[39m\u001b[38;5;124m0\u001b[39m\u001b[38;5;124m'\u001b[39m]}\n",
      "\u001b[1;31mTypeError\u001b[0m: unhashable type: 'list'"
     ]
    }
   ],
   "source": [
    "D={['del1','0']}"
   ]
  },
  {
   "cell_type": "code",
   "execution_count": null,
   "id": "204a4237-39c1-43b7-bd61-2ff7139ae833",
   "metadata": {},
   "outputs": [],
   "source": [
    "D={('del1','0'): ['del2','0','R']}"
   ]
  },
  {
   "cell_type": "code",
   "execution_count": null,
   "id": "136bd77a-b184-4269-baf3-07b3d7ac6a90",
   "metadata": {},
   "outputs": [],
   "source": [
    "D={('del1',0): ['del2',0,'R']}"
   ]
  },
  {
   "cell_type": "code",
   "execution_count": null,
   "id": "2799a626-5db3-4ffa-b2cd-b1801afeb12c",
   "metadata": {},
   "outputs": [],
   "source": [
    "D={('del1',0): ['del2',0,'R'],\n",
    "    ('del2',1):('move1R',0,'R')  \n",
    "  }"
   ]
  },
  {
   "cell_type": "code",
   "execution_count": null,
   "id": "c2480466-5eb9-4cd0-b675-c07bd4c64907",
   "metadata": {},
   "outputs": [],
   "source": [
    "D"
   ]
  },
  {
   "cell_type": "code",
   "execution_count": 33,
   "id": "0caaed18-70b7-462a-82d4-18d70aa9b349",
   "metadata": {},
   "outputs": [
    {
     "data": {
      "text/plain": [
       "{('del1', 1): ('del2', 0, 'R'),\n",
       " ('del2', 1): ('mov1R', 0, 'R'),\n",
       " ('mov1R', 1): ('mov1R', 1, 'R'),\n",
       " ('mov1R', 0): ('mov2R', 0, 'R'),\n",
       " ('mov2R', 1): ('mov2R', 1, 'R'),\n",
       " ('mov2R', 0): ('mov1L', 1, 'L'),\n",
       " ('mov1L', 1): ('mov1L', 1, 'L'),\n",
       " ('mov1L', 0): ('mov2L', 0, 'L'),\n",
       " ('mov2L', 1): ('mov2L', 1, 'L'),\n",
       " ('mov2L', 0): ('del1', 0, 'R'),\n",
       " ('del1', 0): ('end', 0, 'R'),\n",
       " ('del2', 0): ('end', 0, 'R')}"
      ]
     },
     "execution_count": 33,
     "metadata": {},
     "output_type": "execute_result"
    }
   ],
   "source": [
    "TM_program = {}\n",
    "with open('division_by_2.txt') as file:\n",
    "    for line in file:\n",
    "        if line.startswith('#') or line.isspace():\n",
    "            continue\n",
    "        instruction = line.split()\n",
    "        TM_program [instruction[0],int(instruction[1])] =instruction[2],int(instruction[3]) , instruction[4]\n",
    "TM_program"
   ]
  },
  {
   "cell_type": "code",
   "execution_count": 34,
   "id": "760efc2c-1a6f-4982-8190-f25111803fde",
   "metadata": {},
   "outputs": [],
   "source": [
    "L = 'del1 1 del2 0 R'.split()"
   ]
  },
  {
   "cell_type": "code",
   "execution_count": 35,
   "id": "a793e618-6059-4687-96e3-7638bb8bca4d",
   "metadata": {},
   "outputs": [
    {
     "data": {
      "text/plain": [
       "'del1'"
      ]
     },
     "execution_count": 35,
     "metadata": {},
     "output_type": "execute_result"
    }
   ],
   "source": [
    "L[0]"
   ]
  },
  {
   "cell_type": "code",
   "execution_count": 36,
   "id": "e6ad52e3-e57f-41c5-bcd6-e357793aaa11",
   "metadata": {},
   "outputs": [],
   "source": [
    "[a,b,c,d,e] = 'del1 1 del2 0 R'.split()"
   ]
  },
  {
   "cell_type": "code",
   "execution_count": 37,
   "id": "dc231e9f-c0e5-452d-83d2-f15cc77a78cc",
   "metadata": {},
   "outputs": [
    {
     "data": {
      "text/plain": [
       "'del1'"
      ]
     },
     "execution_count": 37,
     "metadata": {},
     "output_type": "execute_result"
    }
   ],
   "source": [
    "a"
   ]
  },
  {
   "cell_type": "code",
   "execution_count": 38,
   "id": "85d6d413-fe53-465b-b504-26e4ac87adf3",
   "metadata": {},
   "outputs": [],
   "source": [
    "(a,b,c,d,e) = 'del1 1 del2 0 R'.split()"
   ]
  },
  {
   "cell_type": "code",
   "execution_count": 39,
   "id": "0195e89e-e605-46be-9f9f-dbcb89eb7858",
   "metadata": {},
   "outputs": [
    {
     "data": {
      "text/plain": [
       "'R'"
      ]
     },
     "execution_count": 39,
     "metadata": {},
     "output_type": "execute_result"
    }
   ],
   "source": [
    "a\n",
    "e\n"
   ]
  },
  {
   "cell_type": "code",
   "execution_count": 40,
   "id": "ed7d27ac-0be8-4dd9-9be3-651c4c784c50",
   "metadata": {},
   "outputs": [
    {
     "data": {
      "text/plain": [
       "'del1'"
      ]
     },
     "execution_count": 40,
     "metadata": {},
     "output_type": "execute_result"
    }
   ],
   "source": [
    "a"
   ]
  },
  {
   "cell_type": "code",
   "execution_count": 41,
   "id": "d2e5f934-f2b9-4f17-89c2-bf84de625cef",
   "metadata": {},
   "outputs": [],
   "source": [
    "a,b,c,d,e = 'del1 1 del2 0 R'.split()"
   ]
  },
  {
   "cell_type": "code",
   "execution_count": 42,
   "id": "7f09e340-f4d0-4076-8dd7-fd72055cc996",
   "metadata": {},
   "outputs": [
    {
     "data": {
      "text/plain": [
       "'del1'"
      ]
     },
     "execution_count": 42,
     "metadata": {},
     "output_type": "execute_result"
    }
   ],
   "source": [
    "a\n"
   ]
  },
  {
   "cell_type": "code",
   "execution_count": 43,
   "id": "56e39169-e868-452b-8c8b-7999fd0c02e0",
   "metadata": {},
   "outputs": [
    {
     "data": {
      "text/plain": [
       "{('del1', 1): ('del2', 0, 'R'),\n",
       " ('del2', 1): ('mov1R', 0, 'R'),\n",
       " ('mov1R', 1): ('mov1R', 1, 'R'),\n",
       " ('mov1R', 0): ('mov2R', 0, 'R'),\n",
       " ('mov2R', 1): ('mov2R', 1, 'R'),\n",
       " ('mov2R', 0): ('mov1L', 1, 'L'),\n",
       " ('mov1L', 1): ('mov1L', 1, 'L'),\n",
       " ('mov1L', 0): ('mov2L', 0, 'L'),\n",
       " ('mov2L', 1): ('mov2L', 1, 'L'),\n",
       " ('mov2L', 0): ('del1', 0, 'R'),\n",
       " ('del1', 0): ('end', 0, 'R'),\n",
       " ('del2', 0): ('end', 0, 'R')}"
      ]
     },
     "execution_count": 43,
     "metadata": {},
     "output_type": "execute_result"
    }
   ],
   "source": [
    "TM_program = {}\n",
    "with open('division_by_2.txt') as file:\n",
    "    for line in file:\n",
    "        if line.startswith('#') or line.isspace():\n",
    "            continue\n",
    "        instruction = line.split()\n",
    "        TM_program [instruction[0],int(instruction[1])] =instruction[2],int(instruction[3]) , instruction[4]\n",
    "TM_program"
   ]
  },
  {
   "cell_type": "code",
   "execution_count": 44,
   "id": "2be198df-c2cc-4da2-8abf-5a217953ec2f",
   "metadata": {},
   "outputs": [
    {
     "data": {
      "text/plain": [
       "{('del1', 1): ('del2', 0, 'R'),\n",
       " ('del2', 1): ('mov1R', 0, 'R'),\n",
       " ('mov1R', 1): ('mov1R', 1, 'R'),\n",
       " ('mov1R', 0): ('mov2R', 0, 'R'),\n",
       " ('mov2R', 1): ('mov2R', 1, 'R'),\n",
       " ('mov2R', 0): ('mov1L', 1, 'L'),\n",
       " ('mov1L', 1): ('mov1L', 1, 'L'),\n",
       " ('mov1L', 0): ('mov2L', 0, 'L'),\n",
       " ('mov2L', 1): ('mov2L', 1, 'L'),\n",
       " ('mov2L', 0): ('del1', 0, 'R'),\n",
       " ('del1', 0): ('end', 0, 'R'),\n",
       " ('del2', 0): ('end', 0, 'R')}"
      ]
     },
     "execution_count": 44,
     "metadata": {},
     "output_type": "execute_result"
    }
   ],
   "source": [
    "TM_program = {}\n",
    "with open('division_by_2.txt') as file:\n",
    "    for line in file:\n",
    "        if line.startswith('#') or line.isspace():\n",
    "            continue\n",
    "        current_state,current_bit,next_state,next_bit, direction =\\\n",
    "                                                        line.split()\n",
    "        TM_program [current_state,int(current_bit)] =next_state,int(next_bit),direction\n",
    "TM_program"
   ]
  },
  {
   "cell_type": "code",
   "execution_count": 45,
   "id": "a5c152fd-e7e6-4a9f-a7c2-8d2e9b62d71a",
   "metadata": {},
   "outputs": [
    {
     "data": {
      "text/plain": [
       "[0, 0, 0, 1, 1, 1, 1, 1, 1, 1, 0, 0, 0, 0, 0, 0]"
      ]
     },
     "execution_count": 45,
     "metadata": {},
     "output_type": "execute_result"
    }
   ],
   "source": [
    "tape"
   ]
  },
  {
   "cell_type": "code",
   "execution_count": 46,
   "id": "9f402fcb-491e-49ad-ac25-f8e3c1734207",
   "metadata": {},
   "outputs": [],
   "source": [
    "current_state='del1'\n",
    "current_bit = 1\n",
    "current_position = tape.index(1)"
   ]
  },
  {
   "cell_type": "code",
   "execution_count": 52,
   "id": "26d19cfa-7bff-4096-933c-d73312eb62cf",
   "metadata": {},
   "outputs": [
    {
     "data": {
      "text/plain": [
       "3"
      ]
     },
     "execution_count": 52,
     "metadata": {},
     "output_type": "execute_result"
    }
   ],
   "source": [
    "current_position"
   ]
  },
  {
   "cell_type": "code",
   "execution_count": 57,
   "id": "1a932d52-8596-4a21-92ca-eb2e64b24d14",
   "metadata": {},
   "outputs": [],
   "source": [
    "def display_current_config():\n",
    "    display_tape()\n",
    "    print(' ' *2*current_position,current_state)"
   ]
  },
  {
   "cell_type": "code",
   "execution_count": 58,
   "id": "e5aa5c59-c7de-4a35-a45b-fd22a0c92186",
   "metadata": {},
   "outputs": [
    {
     "name": "stdout",
     "output_type": "stream",
     "text": [
      "---------------------------------\n",
      "|0|0|0|1|1|1|1|1|1|1|0|0|0|0|0|0|\n",
      "---------------------------------\n",
      "       del1\n"
     ]
    }
   ],
   "source": [
    "display_current_config()"
   ]
  },
  {
   "cell_type": "code",
   "execution_count": 119,
   "id": "ba860510-b2d2-455a-8f5f-ef3ed7faafcd",
   "metadata": {},
   "outputs": [
    {
     "data": {
      "text/plain": [
       "{('del1', 1): ('del2', 0, 'R'),\n",
       " ('del2', 1): ('mov1R', 0, 'R'),\n",
       " ('mov1R', 1): ('mov1R', 1, 'R'),\n",
       " ('mov1R', 0): ('mov2R', 0, 'R'),\n",
       " ('mov2R', 1): ('mov2R', 1, 'R'),\n",
       " ('mov2R', 0): ('mov1L', 1, 'L'),\n",
       " ('mov1L', 1): ('mov1L', 1, 'L'),\n",
       " ('mov1L', 0): ('mov2L', 0, 'L'),\n",
       " ('mov2L', 1): ('mov2L', 1, 'L'),\n",
       " ('mov2L', 0): ('del1', 0, 'R'),\n",
       " ('del1', 0): ('end', 0, 'R'),\n",
       " ('del2', 0): ('end', 0, 'R')}"
      ]
     },
     "execution_count": 119,
     "metadata": {},
     "output_type": "execute_result"
    }
   ],
   "source": [
    "TM_program"
   ]
  },
  {
   "cell_type": "code",
   "execution_count": 120,
   "id": "a372242b-c0e2-418a-8c06-e2c980952320",
   "metadata": {},
   "outputs": [
    {
     "data": {
      "text/plain": [
       "('del1', 1)"
      ]
     },
     "execution_count": 120,
     "metadata": {},
     "output_type": "execute_result"
    }
   ],
   "source": [
    "(current_state,current_bit)"
   ]
  },
  {
   "cell_type": "code",
   "execution_count": 121,
   "id": "7e63d0ea-cf9d-4190-ab05-d66e1d17ffb6",
   "metadata": {},
   "outputs": [
    {
     "data": {
      "text/plain": [
       "True"
      ]
     },
     "execution_count": 121,
     "metadata": {},
     "output_type": "execute_result"
    }
   ],
   "source": [
    "(current_state,current_bit) in TM_program.keys()"
   ]
  },
  {
   "cell_type": "code",
   "execution_count": 59,
   "id": "e93aac0c-4b59-4a7c-bf7b-8b19fde1e5f4",
   "metadata": {},
   "outputs": [],
   "source": [
    "new_state,new_bit,direction = TM_program[current_state,current_bit]"
   ]
  },
  {
   "cell_type": "code",
   "execution_count": 60,
   "id": "4c32aa7d-8ba7-4c7e-84b2-498f19251a58",
   "metadata": {},
   "outputs": [
    {
     "data": {
      "text/plain": [
       "('del2', 0, 'R')"
      ]
     },
     "execution_count": 60,
     "metadata": {},
     "output_type": "execute_result"
    }
   ],
   "source": [
    "new_state,new_bit,direction"
   ]
  },
  {
   "cell_type": "code",
   "execution_count": 61,
   "id": "131f6b1a-dfbf-4dc2-a04a-c5e7300e8b55",
   "metadata": {},
   "outputs": [
    {
     "data": {
      "text/plain": [
       "'del2'"
      ]
     },
     "execution_count": 61,
     "metadata": {},
     "output_type": "execute_result"
    }
   ],
   "source": [
    "current_state = new_state\n",
    "current_state"
   ]
  },
  {
   "cell_type": "code",
   "execution_count": 71,
   "id": "ae98d19e-829c-4314-ac24-72d5579053ea",
   "metadata": {},
   "outputs": [
    {
     "data": {
      "text/plain": [
       "3"
      ]
     },
     "execution_count": 71,
     "metadata": {},
     "output_type": "execute_result"
    }
   ],
   "source": [
    "tape[current_position] = new_bit\n",
    "tape[current_position]\n",
    "current_position"
   ]
  },
  {
   "cell_type": "code",
   "execution_count": 126,
   "id": "6e7dcd65-9ad8-4ad3-8f52-72ff92a34be1",
   "metadata": {},
   "outputs": [
    {
     "data": {
      "text/plain": [
       "3"
      ]
     },
     "execution_count": 126,
     "metadata": {},
     "output_type": "execute_result"
    }
   ],
   "source": [
    "x = 3 if True else 4\n",
    "x"
   ]
  },
  {
   "cell_type": "code",
   "execution_count": 127,
   "id": "aa464318-ec57-40e6-b447-1a8b98eb6774",
   "metadata": {},
   "outputs": [
    {
     "data": {
      "text/plain": [
       "4"
      ]
     },
     "execution_count": 127,
     "metadata": {},
     "output_type": "execute_result"
    }
   ],
   "source": [
    "x = 3 if 2 in[3,5] else 4\n",
    "x"
   ]
  },
  {
   "cell_type": "code",
   "execution_count": 128,
   "id": "a582c278-76f9-4b34-85d1-f4d88c152a8f",
   "metadata": {},
   "outputs": [],
   "source": [
    "current_position = current_position+1 if direction =='R' \\\n",
    "                                        else current_position - 1"
   ]
  },
  {
   "cell_type": "code",
   "execution_count": 129,
   "id": "32f8c7bb-9a90-4d08-b0f0-72d2b345890e",
   "metadata": {},
   "outputs": [
    {
     "data": {
      "text/plain": [
       "4"
      ]
     },
     "execution_count": 129,
     "metadata": {},
     "output_type": "execute_result"
    }
   ],
   "source": [
    "current_position"
   ]
  },
  {
   "cell_type": "code",
   "execution_count": 131,
   "id": "2d719886-85be-46ca-96a2-2f8fc90af311",
   "metadata": {},
   "outputs": [
    {
     "name": "stdout",
     "output_type": "stream",
     "text": [
      "---------------------------------\n",
      "|0|0|0|1|1|1|1|1|1|1|0|0|0|0|0|0|\n",
      "---------------------------------\n",
      "       del1\n",
      "---------------------------------\n",
      "|0|0|0|0|1|1|1|1|1|1|0|0|0|0|0|0|\n",
      "---------------------------------\n",
      "         del2\n",
      "---------------------------------\n",
      "|0|0|0|0|0|1|1|1|1|1|0|0|0|0|0|0|\n",
      "---------------------------------\n",
      "           mov1R\n",
      "---------------------------------\n",
      "|0|0|0|0|0|1|1|1|1|1|0|0|0|0|0|0|\n",
      "---------------------------------\n",
      "             mov1R\n",
      "---------------------------------\n",
      "|0|0|0|0|0|1|1|1|1|1|0|0|0|0|0|0|\n",
      "---------------------------------\n",
      "               mov1R\n",
      "---------------------------------\n",
      "|0|0|0|0|0|1|1|1|1|1|0|0|0|0|0|0|\n",
      "---------------------------------\n",
      "                 mov1R\n",
      "---------------------------------\n",
      "|0|0|0|0|0|1|1|1|1|1|0|0|0|0|0|0|\n",
      "---------------------------------\n",
      "                   mov1R\n",
      "---------------------------------\n",
      "|0|0|0|0|0|1|1|1|1|1|0|0|0|0|0|0|\n",
      "---------------------------------\n",
      "                     mov1R\n",
      "---------------------------------\n",
      "|0|0|0|0|0|1|1|1|1|1|0|0|0|0|0|0|\n",
      "---------------------------------\n",
      "                       mov2R\n",
      "---------------------------------\n",
      "|0|0|0|0|0|1|1|1|1|1|0|1|0|0|0|0|\n",
      "---------------------------------\n",
      "                     mov1L\n",
      "---------------------------------\n",
      "|0|0|0|0|0|1|1|1|1|1|0|1|0|0|0|0|\n",
      "---------------------------------\n",
      "                   mov2L\n",
      "---------------------------------\n",
      "|0|0|0|0|0|1|1|1|1|1|0|1|0|0|0|0|\n",
      "---------------------------------\n",
      "                 mov2L\n",
      "---------------------------------\n",
      "|0|0|0|0|0|1|1|1|1|1|0|1|0|0|0|0|\n",
      "---------------------------------\n",
      "               mov2L\n",
      "---------------------------------\n",
      "|0|0|0|0|0|1|1|1|1|1|0|1|0|0|0|0|\n",
      "---------------------------------\n",
      "             mov2L\n",
      "---------------------------------\n",
      "|0|0|0|0|0|1|1|1|1|1|0|1|0|0|0|0|\n",
      "---------------------------------\n",
      "           mov2L\n",
      "---------------------------------\n",
      "|0|0|0|0|0|1|1|1|1|1|0|1|0|0|0|0|\n",
      "---------------------------------\n",
      "         mov2L\n",
      "---------------------------------\n",
      "|0|0|0|0|0|1|1|1|1|1|0|1|0|0|0|0|\n",
      "---------------------------------\n",
      "           del1\n",
      "---------------------------------\n",
      "|0|0|0|0|0|0|1|1|1|1|0|1|0|0|0|0|\n",
      "---------------------------------\n",
      "             del2\n",
      "---------------------------------\n",
      "|0|0|0|0|0|0|0|1|1|1|0|1|0|0|0|0|\n",
      "---------------------------------\n",
      "               mov1R\n",
      "---------------------------------\n",
      "|0|0|0|0|0|0|0|1|1|1|0|1|0|0|0|0|\n",
      "---------------------------------\n",
      "                 mov1R\n",
      "---------------------------------\n",
      "|0|0|0|0|0|0|0|1|1|1|0|1|0|0|0|0|\n",
      "---------------------------------\n",
      "                   mov1R\n",
      "---------------------------------\n",
      "|0|0|0|0|0|0|0|1|1|1|0|1|0|0|0|0|\n",
      "---------------------------------\n",
      "                     mov1R\n",
      "---------------------------------\n",
      "|0|0|0|0|0|0|0|1|1|1|0|1|0|0|0|0|\n",
      "---------------------------------\n",
      "                       mov2R\n",
      "---------------------------------\n",
      "|0|0|0|0|0|0|0|1|1|1|0|1|0|0|0|0|\n",
      "---------------------------------\n",
      "                         mov2R\n",
      "---------------------------------\n",
      "|0|0|0|0|0|0|0|1|1|1|0|1|1|0|0|0|\n",
      "---------------------------------\n",
      "                       mov1L\n",
      "---------------------------------\n",
      "|0|0|0|0|0|0|0|1|1|1|0|1|1|0|0|0|\n",
      "---------------------------------\n",
      "                     mov1L\n",
      "---------------------------------\n",
      "|0|0|0|0|0|0|0|1|1|1|0|1|1|0|0|0|\n",
      "---------------------------------\n",
      "                   mov2L\n",
      "---------------------------------\n",
      "|0|0|0|0|0|0|0|1|1|1|0|1|1|0|0|0|\n",
      "---------------------------------\n",
      "                 mov2L\n",
      "---------------------------------\n",
      "|0|0|0|0|0|0|0|1|1|1|0|1|1|0|0|0|\n",
      "---------------------------------\n",
      "               mov2L\n",
      "---------------------------------\n",
      "|0|0|0|0|0|0|0|1|1|1|0|1|1|0|0|0|\n",
      "---------------------------------\n",
      "             mov2L\n",
      "---------------------------------\n",
      "|0|0|0|0|0|0|0|1|1|1|0|1|1|0|0|0|\n",
      "---------------------------------\n",
      "               del1\n",
      "---------------------------------\n",
      "|0|0|0|0|0|0|0|0|1|1|0|1|1|0|0|0|\n",
      "---------------------------------\n",
      "                 del2\n",
      "---------------------------------\n",
      "|0|0|0|0|0|0|0|0|0|1|0|1|1|0|0|0|\n",
      "---------------------------------\n",
      "                   mov1R\n",
      "---------------------------------\n",
      "|0|0|0|0|0|0|0|0|0|1|0|1|1|0|0|0|\n",
      "---------------------------------\n",
      "                     mov1R\n",
      "---------------------------------\n",
      "|0|0|0|0|0|0|0|0|0|1|0|1|1|0|0|0|\n",
      "---------------------------------\n",
      "                       mov2R\n",
      "---------------------------------\n",
      "|0|0|0|0|0|0|0|0|0|1|0|1|1|0|0|0|\n",
      "---------------------------------\n",
      "                         mov2R\n",
      "---------------------------------\n",
      "|0|0|0|0|0|0|0|0|0|1|0|1|1|0|0|0|\n",
      "---------------------------------\n",
      "                           mov2R\n",
      "---------------------------------\n",
      "|0|0|0|0|0|0|0|0|0|1|0|1|1|1|0|0|\n",
      "---------------------------------\n",
      "                         mov1L\n",
      "---------------------------------\n",
      "|0|0|0|0|0|0|0|0|0|1|0|1|1|1|0|0|\n",
      "---------------------------------\n",
      "                       mov1L\n",
      "---------------------------------\n",
      "|0|0|0|0|0|0|0|0|0|1|0|1|1|1|0|0|\n",
      "---------------------------------\n",
      "                     mov1L\n",
      "---------------------------------\n",
      "|0|0|0|0|0|0|0|0|0|1|0|1|1|1|0|0|\n",
      "---------------------------------\n",
      "                   mov2L\n",
      "---------------------------------\n",
      "|0|0|0|0|0|0|0|0|0|1|0|1|1|1|0|0|\n",
      "---------------------------------\n",
      "                 mov2L\n",
      "---------------------------------\n",
      "|0|0|0|0|0|0|0|0|0|1|0|1|1|1|0|0|\n",
      "---------------------------------\n",
      "                   del1\n",
      "---------------------------------\n",
      "|0|0|0|0|0|0|0|0|0|0|0|1|1|1|0|0|\n",
      "---------------------------------\n",
      "                     del2\n",
      "---------------------------------\n",
      "|0|0|0|0|0|0|0|0|0|0|0|1|1|1|0|0|\n",
      "---------------------------------\n",
      "                       end\n"
     ]
    }
   ],
   "source": [
    "tape = [0]*3+[1]*7+[0]*6\n",
    "current_state='del1'\n",
    "current_position = tape.index(1)\n",
    "current_bit = 1\n",
    "display_current_config()\n",
    "while(current_state,current_bit) in TM_program:\n",
    "    new_state,new_bit,direction = TM_program[current_state,current_bit]\n",
    "    current_state=new_state\n",
    "    tape[current_position] = new_bit\n",
    "    current_position = current_position+1 if direction =='R' \\\n",
    "                                        else current_position - 1\n",
    "    current_bit=tape[current_position]\n",
    "    display_current_config()"
   ]
  },
  {
   "cell_type": "code",
   "execution_count": 132,
   "id": "c1fb157e-423c-4b08-b107-997bd3bac839",
   "metadata": {},
   "outputs": [
    {
     "name": "stdin",
     "output_type": "stream",
     "text": [
      "how many time do you want to play 45\n"
     ]
    },
    {
     "data": {
      "text/plain": [
       "'45'"
      ]
     },
     "execution_count": 132,
     "metadata": {},
     "output_type": "execute_result"
    }
   ],
   "source": [
    "input('how many time do you want to play')"
   ]
  },
  {
   "cell_type": "code",
   "execution_count": 133,
   "id": "4e63430f-1108-4e29-8264-b8e803d6b0a2",
   "metadata": {},
   "outputs": [
    {
     "name": "stdin",
     "output_type": "stream",
     "text": [
      "how many time do you want to play 12\n"
     ]
    },
    {
     "data": {
      "text/plain": [
       "12"
      ]
     },
     "execution_count": 133,
     "metadata": {},
     "output_type": "execute_result"
    }
   ],
   "source": [
    "nb_of_games = input('how many time do you want to play')\n",
    "int(nb_of_games)"
   ]
  },
  {
   "cell_type": "code",
   "execution_count": 134,
   "id": "995ed417-21c1-4dcc-9f88-b5c49e02a33b",
   "metadata": {},
   "outputs": [
    {
     "name": "stdin",
     "output_type": "stream",
     "text": [
      "how many time do you want to play 34\n"
     ]
    },
    {
     "data": {
      "text/plain": [
       "34"
      ]
     },
     "execution_count": 134,
     "metadata": {},
     "output_type": "execute_result"
    }
   ],
   "source": [
    "nb_of_games = int(input('how many time do you want to play'))\n",
    "nb_of_games"
   ]
  },
  {
   "cell_type": "code",
   "execution_count": 136,
   "id": "d89b6c89-556b-41ac-b953-0a9c43fb2f2c",
   "metadata": {},
   "outputs": [
    {
     "name": "stdin",
     "output_type": "stream",
     "text": [
      "how many time do you want to play ten\n"
     ]
    },
    {
     "ename": "ValueError",
     "evalue": "invalid literal for int() with base 10: 'ten'",
     "output_type": "error",
     "traceback": [
      "\u001b[1;31m---------------------------------------------------------------------------\u001b[0m",
      "\u001b[1;31mValueError\u001b[0m                                Traceback (most recent call last)",
      "Cell \u001b[1;32mIn[136], line 1\u001b[0m\n\u001b[1;32m----> 1\u001b[0m nb_of_games \u001b[38;5;241m=\u001b[39m \u001b[38;5;28mint\u001b[39m(\u001b[38;5;28minput\u001b[39m(\u001b[38;5;124m'\u001b[39m\u001b[38;5;124mhow many time do you want to play\u001b[39m\u001b[38;5;124m'\u001b[39m))\n\u001b[0;32m      2\u001b[0m nb_of_games\n",
      "\u001b[1;31mValueError\u001b[0m: invalid literal for int() with base 10: 'ten'"
     ]
    }
   ],
   "source": [
    "nb_of_games = int(input('how many time do you want to play'))\n",
    "nb_of_games\n"
   ]
  },
  {
   "cell_type": "code",
   "execution_count": 138,
   "id": "9e45cf3b-86e6-4d6b-9ade-c96f5dc951d5",
   "metadata": {},
   "outputs": [
    {
     "name": "stdin",
     "output_type": "stream",
     "text": [
      "how many time do you want to play ten\n"
     ]
    },
    {
     "name": "stdout",
     "output_type": "stream",
     "text": [
      "badbadbad\n"
     ]
    }
   ],
   "source": [
    "try:\n",
    "    nb_of_games = int(input('how many time do you want to play'))\n",
    "except ValueError:\n",
    "    print('badbadbad')\n",
    "    "
   ]
  },
  {
   "cell_type": "code",
   "execution_count": 141,
   "id": "e49687ae-0b90-4caa-a283-94ee04018b51",
   "metadata": {},
   "outputs": [
    {
     "name": "stdin",
     "output_type": "stream",
     "text": [
      "how many time do you want to play qwe\n"
     ]
    },
    {
     "name": "stdout",
     "output_type": "stream",
     "text": [
      "badbadbad\n"
     ]
    },
    {
     "name": "stdin",
     "output_type": "stream",
     "text": [
      "how many time do you want to play qwe\n"
     ]
    },
    {
     "name": "stdout",
     "output_type": "stream",
     "text": [
      "badbadbad\n"
     ]
    },
    {
     "name": "stdin",
     "output_type": "stream",
     "text": [
      "how many time do you want to play qwe\n"
     ]
    },
    {
     "name": "stdout",
     "output_type": "stream",
     "text": [
      "badbadbad\n"
     ]
    },
    {
     "name": "stdin",
     "output_type": "stream",
     "text": [
      "how many time do you want to play weg\n"
     ]
    },
    {
     "name": "stdout",
     "output_type": "stream",
     "text": [
      "badbadbad\n"
     ]
    },
    {
     "name": "stdin",
     "output_type": "stream",
     "text": [
      "how many time do you want to play wef\n"
     ]
    },
    {
     "name": "stdout",
     "output_type": "stream",
     "text": [
      "badbadbad\n"
     ]
    },
    {
     "name": "stdin",
     "output_type": "stream",
     "text": [
      "how many time do you want to play 12\n",
      "how many time do you want to play 12\n"
     ]
    },
    {
     "ename": "KeyboardInterrupt",
     "evalue": "Interrupted by user",
     "output_type": "error",
     "traceback": [
      "\u001b[1;31m---------------------------------------------------------------------------\u001b[0m",
      "\u001b[1;31mKeyboardInterrupt\u001b[0m                         Traceback (most recent call last)",
      "Cell \u001b[1;32mIn[141], line 3\u001b[0m\n\u001b[0;32m      1\u001b[0m \u001b[38;5;28;01mwhile\u001b[39;00m \u001b[38;5;28;01mTrue\u001b[39;00m:\n\u001b[0;32m      2\u001b[0m     \u001b[38;5;28;01mtry\u001b[39;00m:\n\u001b[1;32m----> 3\u001b[0m         nb_of_games \u001b[38;5;241m=\u001b[39m \u001b[38;5;28mint\u001b[39m(\u001b[38;5;28minput\u001b[39m(\u001b[38;5;124m'\u001b[39m\u001b[38;5;124mhow many time do you want to play\u001b[39m\u001b[38;5;124m'\u001b[39m))\n\u001b[0;32m      4\u001b[0m     \u001b[38;5;28;01mexcept\u001b[39;00m \u001b[38;5;167;01mValueError\u001b[39;00m:\n\u001b[0;32m      5\u001b[0m         \u001b[38;5;28mprint\u001b[39m(\u001b[38;5;124m'\u001b[39m\u001b[38;5;124mbadbadbad\u001b[39m\u001b[38;5;124m'\u001b[39m)\n",
      "File \u001b[1;32mD:\\anaconda3\\envs\\myenv\\Lib\\site-packages\\ipykernel\\kernelbase.py:1282\u001b[0m, in \u001b[0;36mKernel.raw_input\u001b[1;34m(self, prompt)\u001b[0m\n\u001b[0;32m   1280\u001b[0m     msg \u001b[38;5;241m=\u001b[39m \u001b[38;5;124m\"\u001b[39m\u001b[38;5;124mraw_input was called, but this frontend does not support input requests.\u001b[39m\u001b[38;5;124m\"\u001b[39m\n\u001b[0;32m   1281\u001b[0m     \u001b[38;5;28;01mraise\u001b[39;00m StdinNotImplementedError(msg)\n\u001b[1;32m-> 1282\u001b[0m \u001b[38;5;28;01mreturn\u001b[39;00m \u001b[38;5;28mself\u001b[39m\u001b[38;5;241m.\u001b[39m_input_request(\n\u001b[0;32m   1283\u001b[0m     \u001b[38;5;28mstr\u001b[39m(prompt),\n\u001b[0;32m   1284\u001b[0m     \u001b[38;5;28mself\u001b[39m\u001b[38;5;241m.\u001b[39m_parent_ident[\u001b[38;5;124m\"\u001b[39m\u001b[38;5;124mshell\u001b[39m\u001b[38;5;124m\"\u001b[39m],\n\u001b[0;32m   1285\u001b[0m     \u001b[38;5;28mself\u001b[39m\u001b[38;5;241m.\u001b[39mget_parent(\u001b[38;5;124m\"\u001b[39m\u001b[38;5;124mshell\u001b[39m\u001b[38;5;124m\"\u001b[39m),\n\u001b[0;32m   1286\u001b[0m     password\u001b[38;5;241m=\u001b[39m\u001b[38;5;28;01mFalse\u001b[39;00m,\n\u001b[0;32m   1287\u001b[0m )\n",
      "File \u001b[1;32mD:\\anaconda3\\envs\\myenv\\Lib\\site-packages\\ipykernel\\kernelbase.py:1325\u001b[0m, in \u001b[0;36mKernel._input_request\u001b[1;34m(self, prompt, ident, parent, password)\u001b[0m\n\u001b[0;32m   1322\u001b[0m \u001b[38;5;28;01mexcept\u001b[39;00m \u001b[38;5;167;01mKeyboardInterrupt\u001b[39;00m:\n\u001b[0;32m   1323\u001b[0m     \u001b[38;5;66;03m# re-raise KeyboardInterrupt, to truncate traceback\u001b[39;00m\n\u001b[0;32m   1324\u001b[0m     msg \u001b[38;5;241m=\u001b[39m \u001b[38;5;124m\"\u001b[39m\u001b[38;5;124mInterrupted by user\u001b[39m\u001b[38;5;124m\"\u001b[39m\n\u001b[1;32m-> 1325\u001b[0m     \u001b[38;5;28;01mraise\u001b[39;00m \u001b[38;5;167;01mKeyboardInterrupt\u001b[39;00m(msg) \u001b[38;5;28;01mfrom\u001b[39;00m \u001b[38;5;28;01mNone\u001b[39;00m\n\u001b[0;32m   1326\u001b[0m \u001b[38;5;28;01mexcept\u001b[39;00m \u001b[38;5;167;01mException\u001b[39;00m:\n\u001b[0;32m   1327\u001b[0m     \u001b[38;5;28mself\u001b[39m\u001b[38;5;241m.\u001b[39mlog\u001b[38;5;241m.\u001b[39mwarning(\u001b[38;5;124m\"\u001b[39m\u001b[38;5;124mInvalid Message:\u001b[39m\u001b[38;5;124m\"\u001b[39m, exc_info\u001b[38;5;241m=\u001b[39m\u001b[38;5;28;01mTrue\u001b[39;00m)\n",
      "\u001b[1;31mKeyboardInterrupt\u001b[0m: Interrupted by user"
     ]
    }
   ],
   "source": [
    "while True:\n",
    "    try:\n",
    "        nb_of_games = int(input('how many time do you want to play'))\n",
    "    except ValueError:\n",
    "        print('badbadbad')\n",
    "    "
   ]
  },
  {
   "cell_type": "code",
   "execution_count": 143,
   "id": "a0454695-93c3-41ed-be4b-105398e6d627",
   "metadata": {},
   "outputs": [
    {
     "name": "stdin",
     "output_type": "stream",
     "text": [
      "how many time do you want to play -123\n"
     ]
    }
   ],
   "source": [
    "while True:\n",
    "    try:\n",
    "        nb_of_games = int(input('how many time do you want to play'))\n",
    "        break\n",
    "    except ValueError:\n",
    "        print('badbadbad')"
   ]
  },
  {
   "cell_type": "code",
   "execution_count": 145,
   "id": "1ced1f04-0bcd-4242-9d03-a60199dcdfc7",
   "metadata": {},
   "outputs": [
    {
     "name": "stdin",
     "output_type": "stream",
     "text": [
      "how many time do you want to play 123\n"
     ]
    }
   ],
   "source": [
    "while True:\n",
    "    try:\n",
    "        nb_of_games = int(input('how many time do you want to play'))\n",
    "        if nb_of_games <1:\n",
    "            raise ValueError\n",
    "        break\n",
    "    except ValueError:\n",
    "        print('badbadbad')"
   ]
  },
  {
   "cell_type": "code",
   "execution_count": 146,
   "id": "f723de30-46dd-49e6-9d8b-3d2a75a477d5",
   "metadata": {},
   "outputs": [
    {
     "name": "stdout",
     "output_type": "stream",
     "text": [
      "Help on method_descriptor:\n",
      "\n",
      "istitle(self, /) unbound builtins.str method\n",
      "    Return True if the string is a title-cased string, False otherwise.\n",
      "\n",
      "    In a title-cased string, upper- and title-case characters may only\n",
      "    follow uncased characters and lowercase characters only cased ones.\n",
      "\n"
     ]
    }
   ],
   "source": [
    "help(str.istitle)"
   ]
  },
  {
   "cell_type": "code",
   "execution_count": 148,
   "id": "b002eff3-e82b-4d5f-bab6-c09d1352a6a7",
   "metadata": {},
   "outputs": [
    {
     "data": {
      "text/plain": [
       "True"
      ]
     },
     "execution_count": 148,
     "metadata": {},
     "output_type": "execute_result"
    }
   ],
   "source": [
    "'comp9021'.istitle()\n",
    "'Comp9021'.istitle()"
   ]
  },
  {
   "cell_type": "code",
   "execution_count": 149,
   "id": "c06a638e-59fb-4528-905e-ddd024331f8a",
   "metadata": {},
   "outputs": [
    {
     "data": {
      "text/plain": [
       "False"
      ]
     },
     "execution_count": 149,
     "metadata": {},
     "output_type": "execute_result"
    }
   ],
   "source": [
    "'9021comp'.istitle()"
   ]
  },
  {
   "cell_type": "code",
   "execution_count": 150,
   "id": "a1870618-0d68-4b05-8dd4-fdbb789d707c",
   "metadata": {},
   "outputs": [
    {
     "data": {
      "text/plain": [
       "True"
      ]
     },
     "execution_count": 150,
     "metadata": {},
     "output_type": "execute_result"
    }
   ],
   "source": [
    "'Yes'.istitle()"
   ]
  },
  {
   "cell_type": "code",
   "execution_count": 157,
   "id": "ddc589fd-e012-4422-b2ac-e2b7b2290c8a",
   "metadata": {},
   "outputs": [
    {
     "name": "stdin",
     "output_type": "stream",
     "text": [
      "do you want to switch? no\n"
     ]
    }
   ],
   "source": [
    "while True:\n",
    "    try:\n",
    "        switch_or_not = input('do you want to switch?')\n",
    "        if switch_or_not.istitle():\n",
    "            switch_or_not = switch_or_not.lower()\n",
    "            print(switch_or_not)\n",
    "        break\n",
    "    except ValueError:\n",
    "        print('badbadbad')"
   ]
  },
  {
   "cell_type": "code",
   "execution_count": 153,
   "id": "e9686acd-4838-4d5f-b262-3bb7b24a81af",
   "metadata": {},
   "outputs": [
    {
     "name": "stdout",
     "output_type": "stream",
     "text": [
      "yes\n"
     ]
    }
   ],
   "source": [
    "if 'yes' in ['yes','y']:\n",
    "    print('yes')"
   ]
  },
  {
   "cell_type": "code",
   "execution_count": 155,
   "id": "545909fc-f15c-47ac-9ce7-92b19eab4f8b",
   "metadata": {},
   "outputs": [
    {
     "data": {
      "text/plain": [
       "dict"
      ]
     },
     "execution_count": 155,
     "metadata": {},
     "output_type": "execute_result"
    }
   ],
   "source": [
    "type({})"
   ]
  },
  {
   "cell_type": "code",
   "execution_count": 156,
   "id": "c1d52218-31a3-4d09-a087-99ed6281d83c",
   "metadata": {},
   "outputs": [
    {
     "data": {
      "text/plain": [
       "set"
      ]
     },
     "execution_count": 156,
     "metadata": {},
     "output_type": "execute_result"
    }
   ],
   "source": [
    "type({2})"
   ]
  },
  {
   "cell_type": "code",
   "execution_count": 163,
   "id": "46f2a5b6-a4cd-42e0-be68-0c3f30ad585b",
   "metadata": {},
   "outputs": [
    {
     "name": "stdin",
     "output_type": "stream",
     "text": [
      "do you want to switch? yes\n"
     ]
    },
    {
     "name": "stdout",
     "output_type": "stream",
     "text": [
      "ok,you want to switch!\n"
     ]
    }
   ],
   "source": [
    "while True:\n",
    "    switch_or_not = input('do you want to switch?')\n",
    "    if switch_or_not.istitle():\n",
    "        switch_or_not = switch_or_not.lower()\n",
    "    if switch_or_not in {'yes','y'}:\n",
    "        print('ok,you want to switch!')\n",
    "        switch=True\n",
    "        break\n",
    "    elif switch_or_not in {'no','n'}:\n",
    "        print('ok,you do not want to switch!')\n",
    "        switch=False\n",
    "        break\n",
    "    else:\n",
    "        print('badbadbad,try again')\n"
   ]
  },
  {
   "cell_type": "code",
   "execution_count": 165,
   "id": "266b1cea-418f-4545-b5d7-b6efb4ed77a8",
   "metadata": {},
   "outputs": [],
   "source": [
    "def set_simulation():\n",
    "    while True:\n",
    "        try:\n",
    "            nb_of_games = int(input('how many time do you want to play'))\n",
    "            if nb_of_games <1:\n",
    "                raise ValueError\n",
    "            break\n",
    "        except ValueError:\n",
    "            print('badbadbad')\n",
    "    while True:\n",
    "        switch_or_not = input('do you want to switch?')\n",
    "        if switch_or_not.istitle():\n",
    "            switch_or_not = switch_or_not.lower()\n",
    "        if switch_or_not in {'yes','y'}:\n",
    "            print('ok,you want to switch!')\n",
    "            switch=True\n",
    "            break\n",
    "        elif switch_or_not in {'no','n'}:\n",
    "            print('ok,you do not want to switch!')\n",
    "            switch=False\n",
    "            break\n",
    "        else:\n",
    "            print('badbadbad,try again')"
   ]
  },
  {
   "cell_type": "code",
   "execution_count": 166,
   "id": "b8ddedbf-da05-4772-befa-01a03eeba771",
   "metadata": {},
   "outputs": [
    {
     "name": "stdin",
     "output_type": "stream",
     "text": [
      "how many time do you want to play 2\n",
      "do you want to switch? 1\n"
     ]
    },
    {
     "name": "stdout",
     "output_type": "stream",
     "text": [
      "badbadbad,try again\n"
     ]
    },
    {
     "name": "stdin",
     "output_type": "stream",
     "text": [
      "do you want to switch? yes\n"
     ]
    },
    {
     "name": "stdout",
     "output_type": "stream",
     "text": [
      "ok,you want to switch!\n"
     ]
    }
   ],
   "source": [
    "set_simulation()"
   ]
  },
  {
   "cell_type": "code",
   "execution_count": 167,
   "id": "5126547b-aa15-48ef-8b8f-33881962d967",
   "metadata": {},
   "outputs": [
    {
     "data": {
      "text/plain": [
       "123"
      ]
     },
     "execution_count": 167,
     "metadata": {},
     "output_type": "execute_result"
    }
   ],
   "source": [
    "nb_of_games"
   ]
  },
  {
   "cell_type": "code",
   "execution_count": 168,
   "id": "175a92fa-6db7-433b-b787-b72baf5cc8a3",
   "metadata": {},
   "outputs": [],
   "source": [
    "def set_simulation():\n",
    "    while True:\n",
    "        try:\n",
    "            nb_of_games = int(input('how many time do you want to play'))\n",
    "            if nb_of_games <1:\n",
    "                raise ValueError\n",
    "            break\n",
    "        except ValueError:\n",
    "            print('badbadbad')\n",
    "    while True:\n",
    "        switch_or_not = input('do you want to switch?')\n",
    "        if switch_or_not.istitle():\n",
    "            switch_or_not = switch_or_not.lower()\n",
    "        if switch_or_not in {'yes','y'}:\n",
    "            print('ok,you want to switch!')\n",
    "            switch=True\n",
    "            break\n",
    "        elif switch_or_not in {'no','n'}:\n",
    "            print('ok,you do not want to switch!')\n",
    "            switch=False\n",
    "            break\n",
    "        else:\n",
    "            print('badbadbad,try again')\n",
    "    return (nb_of_games,switch)"
   ]
  },
  {
   "cell_type": "code",
   "execution_count": 169,
   "id": "7dc42619-e7d9-459b-ad89-3763afc80027",
   "metadata": {},
   "outputs": [
    {
     "name": "stdin",
     "output_type": "stream",
     "text": [
      "how many time do you want to play 4\n",
      "do you want to switch? n\n"
     ]
    },
    {
     "name": "stdout",
     "output_type": "stream",
     "text": [
      "ok,you do not want to switch!\n"
     ]
    },
    {
     "data": {
      "text/plain": [
       "(4, False)"
      ]
     },
     "execution_count": 169,
     "metadata": {},
     "output_type": "execute_result"
    }
   ],
   "source": [
    "set_simulation()"
   ]
  },
  {
   "cell_type": "code",
   "execution_count": 1,
   "id": "ff6e6f94-d645-4d25-99af-13127b80af8d",
   "metadata": {},
   "outputs": [],
   "source": [
    "def set_simulation():\n",
    "    while True:\n",
    "        try:\n",
    "            nb_of_games = int(input('how many time do you want to play'))\n",
    "            if nb_of_games <1:\n",
    "                raise ValueError\n",
    "            break\n",
    "        except ValueError:\n",
    "            print('badbadbad')\n",
    "    while True:\n",
    "        switch_or_not = input('do you want to switch?')\n",
    "        if switch_or_not.istitle():\n",
    "            switch_or_not = switch_or_not.lower()\n",
    "        if switch_or_not in {'yes','y'}:\n",
    "            print('ok,you want to switch!')\n",
    "            switch=True\n",
    "            break\n",
    "        elif switch_or_not in {'no','n'}:\n",
    "            print('ok,you do not want to switch!')\n",
    "            switch=False\n",
    "            break\n",
    "        else:\n",
    "            print('badbadbad,try again')\n",
    "    return nb_of_games,switch"
   ]
  },
  {
   "cell_type": "code",
   "execution_count": 172,
   "id": "b2147093-d9c8-418b-baf5-833e0cf47cb7",
   "metadata": {},
   "outputs": [
    {
     "name": "stdin",
     "output_type": "stream",
     "text": [
      "how many time do you want to play 6\n",
      "do you want to switch? n\n"
     ]
    },
    {
     "name": "stdout",
     "output_type": "stream",
     "text": [
      "ok,you do not want to switch!\n"
     ]
    }
   ],
   "source": [
    "nb_of_games,switch=set_simulation()"
   ]
  },
  {
   "cell_type": "code",
   "execution_count": 173,
   "id": "fae58cee-bf17-46a7-b4a0-73f2c0d730a3",
   "metadata": {},
   "outputs": [
    {
     "data": {
      "text/plain": [
       "(6, False)"
      ]
     },
     "execution_count": 173,
     "metadata": {},
     "output_type": "execute_result"
    }
   ],
   "source": [
    "nb_of_games,switch"
   ]
  },
  {
   "cell_type": "code",
   "execution_count": 193,
   "id": "6e5966ae-38d7-42d4-9d51-6f64362c90ae",
   "metadata": {},
   "outputs": [],
   "source": [
    "doors = ['A','B','C']"
   ]
  },
  {
   "cell_type": "code",
   "execution_count": 175,
   "id": "fe33f361-307e-4a36-b129-897cb2e4881a",
   "metadata": {},
   "outputs": [],
   "source": [
    "from random import choice"
   ]
  },
  {
   "cell_type": "code",
   "execution_count": 177,
   "id": "dbe73575-17c7-40ca-aee4-72db2bb4b485",
   "metadata": {},
   "outputs": [
    {
     "data": {
      "text/plain": [
       "'B'"
      ]
     },
     "execution_count": 177,
     "metadata": {},
     "output_type": "execute_result"
    }
   ],
   "source": [
    "choice(doors)\n",
    "choice(doors)\n",
    "choice(doors)\n",
    "choice(doors)\n",
    "choice(doors)"
   ]
  },
  {
   "cell_type": "code",
   "execution_count": 178,
   "id": "dafb5f51-39aa-4cc3-85f9-4bf4b4c88770",
   "metadata": {},
   "outputs": [
    {
     "data": {
      "text/plain": [
       "'C'"
      ]
     },
     "execution_count": 178,
     "metadata": {},
     "output_type": "execute_result"
    }
   ],
   "source": [
    "choice(doors)\n"
   ]
  },
  {
   "cell_type": "code",
   "execution_count": 186,
   "id": "3f7871f2-27d8-411a-b8cf-727b494841de",
   "metadata": {},
   "outputs": [
    {
     "data": {
      "text/plain": [
       "'B'"
      ]
     },
     "execution_count": 186,
     "metadata": {},
     "output_type": "execute_result"
    }
   ],
   "source": [
    "winning_door= choice(doors)\n",
    "winning_door"
   ]
  },
  {
   "cell_type": "code",
   "execution_count": 194,
   "id": "c2888995-b8b6-404c-9537-6552beb2f385",
   "metadata": {},
   "outputs": [
    {
     "data": {
      "text/plain": [
       "'A'"
      ]
     },
     "execution_count": 194,
     "metadata": {},
     "output_type": "execute_result"
    }
   ],
   "source": [
    "first_choice=choice(doors)\n",
    "first_choice\n"
   ]
  },
  {
   "cell_type": "code",
   "execution_count": 195,
   "id": "c25ac613-3057-461c-98b1-dff8197d6999",
   "metadata": {},
   "outputs": [
    {
     "data": {
      "text/plain": [
       "['B', 'C']"
      ]
     },
     "execution_count": 195,
     "metadata": {},
     "output_type": "execute_result"
    }
   ],
   "source": [
    "doors.remove(first_choice)\n",
    "doors"
   ]
  },
  {
   "cell_type": "code",
   "execution_count": 196,
   "id": "c22d28e1-8375-401c-9226-ec99a2bb7918",
   "metadata": {},
   "outputs": [
    {
     "data": {
      "text/plain": [
       "['A', 'C']"
      ]
     },
     "execution_count": 196,
     "metadata": {},
     "output_type": "execute_result"
    }
   ],
   "source": [
    "doors = ['A','B','C']\n",
    "first_choice=choice(doors)\n",
    "first_choice\n",
    "doors.remove(first_choice)\n",
    "doors"
   ]
  },
  {
   "cell_type": "code",
   "execution_count": 201,
   "id": "77f6e27f-e878-456d-bdfc-846a291b7b7c",
   "metadata": {},
   "outputs": [
    {
     "data": {
      "text/plain": [
       "['A', 'B']"
      ]
     },
     "execution_count": 201,
     "metadata": {},
     "output_type": "execute_result"
    }
   ],
   "source": [
    "from random import randrange\n",
    "doors = ['A','B','C']\n",
    "first_choice=randrange(len(doors))\n",
    "first_choice\n",
    "doors[first_choice]\n",
    "doors.pop(first_choice)\n",
    "doors"
   ]
  },
  {
   "cell_type": "code",
   "execution_count": 203,
   "id": "2c4288d7-edd6-4fdb-a406-724f36adba4c",
   "metadata": {},
   "outputs": [
    {
     "data": {
      "text/plain": [
       "['A', 'B']"
      ]
     },
     "execution_count": 203,
     "metadata": {},
     "output_type": "execute_result"
    }
   ],
   "source": [
    "from random import randrange\n",
    "doors = ['A','B','C']\n",
    "winning_door= choice(doors)\n",
    "winning_door\n",
    "first_choice=doors.pop(randrange(len(doors)))\n",
    "first_choice\n",
    "doors"
   ]
  },
  {
   "cell_type": "code",
   "execution_count": 4,
   "id": "f567cf7a-5efa-4172-979d-b68c3610a3ff",
   "metadata": {},
   "outputs": [],
   "source": [
    "from random import randrange"
   ]
  },
  {
   "cell_type": "code",
   "execution_count": 211,
   "id": "c02d6340-7f42-400b-ac81-eeb6cc5fff2d",
   "metadata": {},
   "outputs": [
    {
     "name": "stdout",
     "output_type": "stream",
     "text": [
      "wining door B\n"
     ]
    },
    {
     "data": {
      "text/plain": [
       "('C', 'A', 'C')"
      ]
     },
     "execution_count": 211,
     "metadata": {},
     "output_type": "execute_result"
    }
   ],
   "source": [
    "switch = False\n",
    "doors = ['A','B','C']\n",
    "winning_door= choice(doors)\n",
    "print('wining door',winning_door)\n",
    "first_choice=doors.pop(randrange(len(doors)))\n",
    "if first_choice==winning_door:\n",
    "    door_opened = doors.pop(randrange(2))\n",
    "    if not switch:\n",
    "        second_choice = first_choice\n",
    "    else:\n",
    "        second_choice = doors[0]\n",
    "else:\n",
    "    doors.remove(winning_door)\n",
    "    door_opened = doors[0]\n",
    "    if not switch:\n",
    "        second_choice = first_choice\n",
    "    else:\n",
    "        second_choice = winning_door\n",
    "first_choice,door_opened,second_choice"
   ]
  },
  {
   "cell_type": "code",
   "execution_count": 212,
   "id": "b4f0efed-13b9-4313-8711-ba7b7ba0ba96",
   "metadata": {},
   "outputs": [
    {
     "name": "stdin",
     "output_type": "stream",
     "text": [
      "how many time do you want to play 12\n",
      "do you want to switch? 12\n"
     ]
    },
    {
     "name": "stdout",
     "output_type": "stream",
     "text": [
      "badbadbad,try again\n"
     ]
    },
    {
     "name": "stdin",
     "output_type": "stream",
     "text": [
      "do you want to switch? 12\n"
     ]
    },
    {
     "name": "stdout",
     "output_type": "stream",
     "text": [
      "badbadbad,try again\n"
     ]
    },
    {
     "name": "stdin",
     "output_type": "stream",
     "text": [
      "do you want to switch? y\n"
     ]
    },
    {
     "name": "stdout",
     "output_type": "stream",
     "text": [
      "ok,you want to switch!\n"
     ]
    }
   ],
   "source": [
    "nb_of_games,switch=set_simulation()"
   ]
  },
  {
   "cell_type": "code",
   "execution_count": 213,
   "id": "df280f10-c98f-45d7-8736-8327c2f5cf72",
   "metadata": {},
   "outputs": [
    {
     "name": "stdout",
     "output_type": "stream",
     "text": [
      "wining door A\n"
     ]
    },
    {
     "data": {
      "text/plain": [
       "('C', 'B', 'C')"
      ]
     },
     "execution_count": 213,
     "metadata": {},
     "output_type": "execute_result"
    }
   ],
   "source": [
    "switch = False\n",
    "doors = ['A','B','C']\n",
    "winning_door= choice(doors)\n",
    "print('wining door',winning_door)\n",
    "first_choice=doors.pop(randrange(len(doors)))\n",
    "if first_choice==winning_door:\n",
    "    door_opened = doors.pop(randrange(2))\n",
    "    if switch:\n",
    "        second_choice = doors[0]\n",
    "else:\n",
    "    doors.remove(winning_door)\n",
    "    door_opened = doors[0]\n",
    "    if switch:\n",
    "        second_choice = winning_door\n",
    "first_choice,door_opened,second_choice"
   ]
  },
  {
   "cell_type": "code",
   "execution_count": 5,
   "id": "e7b5eadc-5958-4b32-945b-66ffa73e96ba",
   "metadata": {},
   "outputs": [],
   "source": [
    "from random import choice\n",
    "from random import randrange"
   ]
  },
  {
   "cell_type": "code",
   "execution_count": 12,
   "id": "e67f78d0-3e7a-45d9-bd65-a2dfdacfc20c",
   "metadata": {},
   "outputs": [],
   "source": [
    "def simulate():\n",
    "    nb_of_games,switch= set_simulation()\n",
    "    nb_of_win = 0\n",
    "    for i in range(nb_of_games):\n",
    "        doors = ['A','B','C']\n",
    "        winning_door= choice(doors)\n",
    "        first_choice=doors.pop(randrange(len(doors)))\n",
    "        second_choice=first_choice\n",
    "        if first_choice==winning_door:\n",
    "            door_opened = doors.pop(randrange(2))\n",
    "            if switch:\n",
    "                second_choice = doors[0]\n",
    "            else:\n",
    "                nb_of_win +=1\n",
    "        else:\n",
    "            doors.remove(winning_door)\n",
    "            door_opened = doors[0]\n",
    "            if switch:\n",
    "                second_choice = winning_door\n",
    "                nb_of_win += 1\n",
    "        print('not know to contestant,but know to host,winning door is',winning_door)\n",
    "        print(\"contestant's first choice\",first_choice)\n",
    "        print(\"door opened\",door_opened)\n",
    "        print(\"contestant's second choice\",second_choice)\n",
    "    print(\"chance of winning:\",f'{nb_of_win / nb_of_games * 100:.2f}%')\n",
    "    "
   ]
  },
  {
   "cell_type": "code",
   "execution_count": 14,
   "id": "d6db84ad-bf2b-43f8-881f-7dd357c0fc33",
   "metadata": {},
   "outputs": [
    {
     "name": "stdin",
     "output_type": "stream",
     "text": [
      "how many time do you want to play 10\n",
      "do you want to switch? y\n"
     ]
    },
    {
     "name": "stdout",
     "output_type": "stream",
     "text": [
      "ok,you want to switch!\n",
      "not know to contestant,but know to host,winning door is B\n",
      "contestant's first choice C\n",
      "door opened A\n",
      "contestant's second choice B\n",
      "not know to contestant,but know to host,winning door is B\n",
      "contestant's first choice A\n",
      "door opened C\n",
      "contestant's second choice B\n",
      "not know to contestant,but know to host,winning door is B\n",
      "contestant's first choice C\n",
      "door opened A\n",
      "contestant's second choice B\n",
      "not know to contestant,but know to host,winning door is A\n",
      "contestant's first choice B\n",
      "door opened C\n",
      "contestant's second choice A\n",
      "not know to contestant,but know to host,winning door is A\n",
      "contestant's first choice A\n",
      "door opened B\n",
      "contestant's second choice C\n",
      "not know to contestant,but know to host,winning door is A\n",
      "contestant's first choice C\n",
      "door opened B\n",
      "contestant's second choice A\n",
      "not know to contestant,but know to host,winning door is C\n",
      "contestant's first choice B\n",
      "door opened A\n",
      "contestant's second choice C\n",
      "not know to contestant,but know to host,winning door is C\n",
      "contestant's first choice B\n",
      "door opened A\n",
      "contestant's second choice C\n",
      "not know to contestant,but know to host,winning door is C\n",
      "contestant's first choice C\n",
      "door opened B\n",
      "contestant's second choice A\n",
      "not know to contestant,but know to host,winning door is C\n",
      "contestant's first choice B\n",
      "door opened A\n",
      "contestant's second choice C\n",
      "chance of winning: 80.00%\n"
     ]
    }
   ],
   "source": [
    "simulate()"
   ]
  },
  {
   "cell_type": "code",
   "execution_count": 15,
   "id": "f0604f4c-bcb6-48fa-9662-dcb7195579b4",
   "metadata": {},
   "outputs": [],
   "source": [
    "def f(a,b,c,d):\n",
    "    print(a,b,c,d)"
   ]
  },
  {
   "cell_type": "code",
   "execution_count": 16,
   "id": "00a5a28b-4417-441a-956d-3a414b63c53f",
   "metadata": {},
   "outputs": [
    {
     "name": "stdout",
     "output_type": "stream",
     "text": [
      "1 4 8 2\n"
     ]
    }
   ],
   "source": [
    "f(1,4,8,2)"
   ]
  },
  {
   "cell_type": "code",
   "execution_count": 17,
   "id": "5e593c70-76e5-4536-87d6-872016f01e50",
   "metadata": {},
   "outputs": [],
   "source": [
    "def f(a,b,c=10,d=100):\n",
    "    print(a,b,c,d)"
   ]
  },
  {
   "cell_type": "code",
   "execution_count": 18,
   "id": "9a284088-2db4-443f-a977-2939987b9ff1",
   "metadata": {},
   "outputs": [
    {
     "name": "stdout",
     "output_type": "stream",
     "text": [
      "1 2 10 100\n"
     ]
    }
   ],
   "source": [
    "f(1,2)"
   ]
  },
  {
   "cell_type": "code",
   "execution_count": 20,
   "id": "ad95e0cd-a3b2-4293-a3b7-08c1d8106ccc",
   "metadata": {},
   "outputs": [
    {
     "name": "stdout",
     "output_type": "stream",
     "text": [
      "1 4 6 100\n"
     ]
    }
   ],
   "source": [
    "f(1,4,6)"
   ]
  },
  {
   "cell_type": "code",
   "execution_count": 24,
   "id": "c341cb4e-0ca0-4ba7-8a7e-32a7d11f453b",
   "metadata": {},
   "outputs": [],
   "source": [
    "def simulate(number_of_games_details=5):\n",
    "    nb_of_games,switch= set_simulation()\n",
    "    nb_of_win = 0\n",
    "    for i in range(nb_of_games):\n",
    "        doors = ['A','B','C']\n",
    "        winning_door= choice(doors)\n",
    "        first_choice=doors.pop(randrange(len(doors)))\n",
    "        second_choice=first_choice\n",
    "        if first_choice==winning_door:\n",
    "            door_opened = doors.pop(randrange(2))\n",
    "            if switch:\n",
    "                second_choice = doors[0]\n",
    "            else:\n",
    "                nb_of_win +=1\n",
    "        else:\n",
    "            doors.remove(winning_door)\n",
    "            door_opened = doors[0]\n",
    "            if switch:\n",
    "                second_choice = winning_door\n",
    "                nb_of_win += 1\n",
    "        if i<number_of_games_details:\n",
    "            print('not know to contestant,but know to host,winning door is',winning_door)\n",
    "            print(\"contestant's first choice\",first_choice)\n",
    "            print(\"door opened\",door_opened)\n",
    "            print(\"contestant's second choice\",second_choice)\n",
    "        elif i==number_of_game_details:\n",
    "            print('\\n...')\n",
    "    print(\"chance of winning:\",f'{nb_of_win / nb_of_games * 100:.2f}%')\n",
    "    "
   ]
  },
  {
   "cell_type": "code",
   "execution_count": 27,
   "id": "2fb3ff8a-eae2-4b66-95d1-ccb05cb6efb7",
   "metadata": {},
   "outputs": [
    {
     "name": "stdin",
     "output_type": "stream",
     "text": [
      "how many time do you want to play 10\n",
      "do you want to switch? y\n"
     ]
    },
    {
     "name": "stdout",
     "output_type": "stream",
     "text": [
      "ok,you want to switch!\n",
      "not know to contestant,but know to host,winning door is B\n",
      "contestant's first choice A\n",
      "door opened C\n",
      "contestant's second choice B\n",
      "not know to contestant,but know to host,winning door is A\n",
      "contestant's first choice B\n",
      "door opened C\n",
      "contestant's second choice A\n",
      "not know to contestant,but know to host,winning door is B\n",
      "contestant's first choice A\n",
      "door opened C\n",
      "contestant's second choice B\n",
      "not know to contestant,but know to host,winning door is B\n",
      "contestant's first choice C\n",
      "door opened A\n",
      "contestant's second choice B\n",
      "not know to contestant,but know to host,winning door is B\n",
      "contestant's first choice C\n",
      "door opened A\n",
      "contestant's second choice B\n",
      "not know to contestant,but know to host,winning door is C\n",
      "contestant's first choice B\n",
      "door opened A\n",
      "contestant's second choice C\n",
      "not know to contestant,but know to host,winning door is C\n",
      "contestant's first choice C\n",
      "door opened A\n",
      "contestant's second choice B\n",
      "not know to contestant,but know to host,winning door is B\n",
      "contestant's first choice B\n",
      "door opened A\n",
      "contestant's second choice C\n",
      "not know to contestant,but know to host,winning door is A\n",
      "contestant's first choice A\n",
      "door opened B\n",
      "contestant's second choice C\n",
      "not know to contestant,but know to host,winning door is C\n",
      "contestant's first choice A\n",
      "door opened B\n",
      "contestant's second choice C\n",
      "chance of winning: 70.00%\n"
     ]
    }
   ],
   "source": [
    "simulate(10_000)"
   ]
  },
  {
   "cell_type": "code",
   "execution_count": 17,
   "id": "ba7db207-b185-4519-9e07-64507f019f8d",
   "metadata": {},
   "outputs": [
    {
     "name": "stdout",
     "output_type": "stream",
     "text": [
      "0\n"
     ]
    }
   ],
   "source": [
    "M=[0]\n",
    "\n",
    "for i in range(len(M)):\n",
    "    print(i)"
   ]
  },
  {
   "cell_type": "code",
   "execution_count": 23,
   "id": "00cc37cf-5a1c-4bb0-a6e9-bc15eb6591bb",
   "metadata": {},
   "outputs": [
    {
     "name": "stdout",
     "output_type": "stream",
     "text": [
      "\n"
     ]
    }
   ],
   "source": [
    "L=[8, 9, 2, 6, 4, 5, 3, 1, 10, 7]\n",
    "M=[0]\n",
    "try:\n",
    "    for i in range(len(L)):\n",
    "        for j in range(len(L)):\n",
    "            if M[i]<L[j]:\n",
    "                M.append(L[j])\n",
    "                break\n",
    "    print(M)\n",
    "except IndexError:\n",
    "    print('')"
   ]
  },
  {
   "cell_type": "code",
   "execution_count": 26,
   "id": "30641466-66da-4868-8b53-87e344aed5aa",
   "metadata": {},
   "outputs": [
    {
     "data": {
      "text/plain": [
       "[10, 12, 14]"
      ]
     },
     "execution_count": 26,
     "metadata": {},
     "output_type": "execute_result"
    }
   ],
   "source": [
    "def find_greedy_increasing(lst):\n",
    "    current = lst[0]\n",
    "    sequence = [current]\n",
    "    for num in lst:\n",
    "        if num > current:\n",
    "            sequence.append(num)\n",
    "            current = num  # 更新当前末尾\n",
    "    return sequence\n",
    "find_greedy_increasing([10, 12, 9, 14, 1, 2, 11, 3, 4, 6, 8, 5, 13, 7])"
   ]
  },
  {
   "cell_type": "code",
   "execution_count": null,
   "id": "5a508a6f-0b69-4b35-8093-a7afa6ee0689",
   "metadata": {},
   "outputs": [],
   "source": []
  }
 ],
 "metadata": {
  "kernelspec": {
   "display_name": "Python (myenv)",
   "language": "python",
   "name": "myenv"
  },
  "language_info": {
   "codemirror_mode": {
    "name": "ipython",
    "version": 3
   },
   "file_extension": ".py",
   "mimetype": "text/x-python",
   "name": "python",
   "nbconvert_exporter": "python",
   "pygments_lexer": "ipython3",
   "version": "3.12.8"
  }
 },
 "nbformat": 4,
 "nbformat_minor": 5
}
