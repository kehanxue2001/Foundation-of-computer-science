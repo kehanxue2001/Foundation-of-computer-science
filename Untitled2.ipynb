{
 "cells": [
  {
   "cell_type": "code",
   "execution_count": 15,
   "id": "5c3958fd-913d-43b4-8c55-03344288a765",
   "metadata": {},
   "outputs": [
    {
     "name": "stdin",
     "output_type": "stream",
     "text": [
      "Feed the seed with an integer:  7\n",
      "How many elements do you want to generate?  2\n"
     ]
    },
    {
     "name": "stdout",
     "output_type": "stream",
     "text": [
      "\n",
      "The list is: [10, 4]\n",
      "\n",
      "\n",
      "There is 1 element between 0 and 4.\n",
      "\n",
      "There is no element between 5 and 9.\n",
      "\n",
      "There is 1 element between 10 and 14.\n",
      "\n",
      "There is no element between 15 and 19.\n"
     ]
    }
   ],
   "source": [
    "from random import seed, randrange\n",
    "import sys\n",
    "\n",
    "\n",
    "# Prompts the user for an integer to provide as argument to the\n",
    "# seed() function.\n",
    "try:\n",
    "    arg_for_seed = int(input('Feed the seed with an integer: '))\n",
    "except ValueError:\n",
    "    print('Input is not an integer, giving up.')\n",
    "    sys.exit()   \n",
    "# Prompts the user a strictly positive number, nb_of_elements.\n",
    "try:\n",
    "    nb_of_elements = int(input('How many elements do you want to generate? '))\n",
    "except ValueError:\n",
    "    print('Input is not an integer, giving up.')\n",
    "    sys.exit()\n",
    "if nb_of_elements <= 0:\n",
    "    print('Input should be strictly positive, giving up.')\n",
    "    sys.exit()\n",
    "seed(arg_for_seed)\n",
    "# Generates a list of nb_of_elements random integers between 0 and 99.\n",
    "L = [randrange(20) for _ in range(nb_of_elements)]\n",
    "# Prints out the list.\n",
    "print('\\nThe list is:' , L)\n",
    "print()\n",
    "\n",
    "remainders = [0] * 4\n",
    "for e in L:\n",
    "    if  e < 5 :\n",
    "        remainders[0] += 1\n",
    "    elif e < 10 :\n",
    "        remainders[1] += 1\n",
    "    elif e < 15 :\n",
    "        remainders[2] += 1 \n",
    "    elif e < 20 :\n",
    "        remainders[3] += 1 \n",
    "\n",
    "for i in range(4):\n",
    "    if remainders[i] == 0:\n",
    "        print('\\nThere is no element', end=' ')\n",
    "    elif remainders[i] == 1:\n",
    "        print('\\nThere is 1 element', end=' ')\n",
    "    else:\n",
    "        print(f'\\nThere are', remainders[i], 'elements', end=' ')\n",
    "    print('between', i*5 , 'and' ,i*5+4 ,  end='.\\n')\n"
   ]
  },
  {
   "cell_type": "code",
   "execution_count": null,
   "id": "2a46ad38-b8d4-4c66-b2f5-224bc9d1cff9",
   "metadata": {},
   "outputs": [],
   "source": []
  }
 ],
 "metadata": {
  "kernelspec": {
   "display_name": "Python 3 (ipykernel)",
   "language": "python",
   "name": "python3"
  },
  "language_info": {
   "codemirror_mode": {
    "name": "ipython",
    "version": 3
   },
   "file_extension": ".py",
   "mimetype": "text/x-python",
   "name": "python",
   "nbconvert_exporter": "python",
   "pygments_lexer": "ipython3",
   "version": "3.12.7"
  }
 },
 "nbformat": 4,
 "nbformat_minor": 5
}
