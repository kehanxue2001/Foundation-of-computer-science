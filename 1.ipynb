{
 "cells": [
  {
   "cell_type": "code",
   "execution_count": null,
   "id": "f3dee358-e3a3-49fa-a36d-d11c6d9e042a",
   "metadata": {},
   "outputs": [],
   "source": [
    "def frieze(n):\n",
    "    print('\\\\  /'*(n+1))\n",
    "    print(' \\\\/','..\\\\/'*n,sep='')\n",
    "    print(' ||','  ||'*n,sep='')\n",
    "    print('/',' '*(2+4*n),'\\\\',sep='')\n",
    "    pass"
   ]
  },
  {
   "cell_type": "code",
   "execution_count": null,
   "id": "9a73627d-5e7f-4adb-ab76-7e1014ccfc78",
   "metadata": {},
   "outputs": [],
   "source": [
    "frieze(1)"
   ]
  },
  {
   "cell_type": "code",
   "execution_count": 3,
   "id": "6980b47d-0327-4783-b089-0da036953d2a",
   "metadata": {},
   "outputs": [
    {
     "name": "stdout",
     "output_type": "stream",
     "text": [
      "\\  /\\  /\\  /\n",
      " \\/..\\/..\\/\n",
      " ||  ||  ||\n",
      "/          \\\n"
     ]
    }
   ],
   "source": [
    "frieze(2)"
   ]
  },
  {
   "cell_type": "code",
   "execution_count": 4,
   "id": "260fbe92-5ddc-4d91-8312-c79f58bff1b7",
   "metadata": {},
   "outputs": [
    {
     "name": "stdout",
     "output_type": "stream",
     "text": [
      "\\  /\\  /\\  /\\  /\n",
      " \\/..\\/..\\/..\\/\n",
      " ||  ||  ||  ||\n",
      "/              \\\n"
     ]
    }
   ],
   "source": [
    "frieze(3)"
   ]
  },
  {
   "cell_type": "code",
   "execution_count": 5,
   "id": "ced833ed-01e8-44af-93b9-39ac73e70207",
   "metadata": {},
   "outputs": [
    {
     "name": "stdout",
     "output_type": "stream",
     "text": [
      "\\  /\\  /\\  /\\  /\\  /\n",
      " \\/..\\/..\\/..\\/..\\/\n",
      " ||  ||  ||  ||  ||\n",
      "/                  \\\n"
     ]
    }
   ],
   "source": [
    "frieze(4)"
   ]
  },
  {
   "cell_type": "code",
   "execution_count": 6,
   "id": "75402311-2887-4ce9-a42f-8fe720f9fdac",
   "metadata": {},
   "outputs": [
    {
     "name": "stdout",
     "output_type": "stream",
     "text": [
      "\\  /\\  /\\  /\\  /\\  /\\  /\n",
      " \\/..\\/..\\/..\\/..\\/..\\/\n",
      " ||  ||  ||  ||  ||  ||\n",
      "/                      \\\n"
     ]
    }
   ],
   "source": [
    "frieze(5)"
   ]
  },
  {
   "cell_type": "code",
   "execution_count": 7,
   "id": "9f97a21c-09ce-42d1-ac35-33928cbb1554",
   "metadata": {},
   "outputs": [
    {
     "name": "stdout",
     "output_type": "stream",
     "text": [
      "\\  /\\  /\\  /\\  /\\  /\\  /\\  /\n",
      " \\/..\\/..\\/..\\/..\\/..\\/..\\/\n",
      " ||  ||  ||  ||  ||  ||  ||\n",
      "/                          \\\n"
     ]
    }
   ],
   "source": [
    "frieze(6)"
   ]
  },
  {
   "cell_type": "code",
   "execution_count": null,
   "id": "b0da04e9-e9dc-487b-bb00-f19471e3988b",
   "metadata": {},
   "outputs": [],
   "source": [
    "D = {0: 1, 5: 6, 1: 5}"
   ]
  },
  {
   "cell_type": "code",
   "execution_count": null,
   "id": "f045af8d-cc26-4eed-8a2a-d10c21e14c75",
   "metadata": {},
   "outputs": [],
   "source": [
    "D[0]"
   ]
  },
  {
   "cell_type": "code",
   "execution_count": null,
   "id": "abdae4f1-337c-4440-bdde-2373f64f6bac",
   "metadata": {},
   "outputs": [],
   "source": [
    "D[1]"
   ]
  },
  {
   "cell_type": "code",
   "execution_count": 4,
   "id": "3d382986-2864-438b-8128-b01afbed6ab9",
   "metadata": {},
   "outputs": [
    {
     "ename": "KeyError",
     "evalue": "2",
     "output_type": "error",
     "traceback": [
      "\u001b[1;31m---------------------------------------------------------------------------\u001b[0m",
      "\u001b[1;31mKeyError\u001b[0m                                  Traceback (most recent call last)",
      "Cell \u001b[1;32mIn[4], line 1\u001b[0m\n\u001b[1;32m----> 1\u001b[0m D[\u001b[38;5;241m2\u001b[39m]\n",
      "\u001b[1;31mKeyError\u001b[0m: 2"
     ]
    }
   ],
   "source": [
    "D[2]"
   ]
  },
  {
   "cell_type": "code",
   "execution_count": 5,
   "id": "61826477-46d7-4883-99ba-e4a1dfc383d2",
   "metadata": {},
   "outputs": [
    {
     "data": {
      "text/plain": [
       "6"
      ]
     },
     "execution_count": 5,
     "metadata": {},
     "output_type": "execute_result"
    }
   ],
   "source": [
    "D[5]"
   ]
  },
  {
   "cell_type": "code",
   "execution_count": 1,
   "id": "e3e925f2-eb7e-4171-96f3-14c25a5ab257",
   "metadata": {},
   "outputs": [],
   "source": [
    "L=[1,2,3,4,5]"
   ]
  },
  {
   "cell_type": "code",
   "execution_count": 2,
   "id": "b5930a5d-855d-4946-b32e-6deea22f1073",
   "metadata": {},
   "outputs": [
    {
     "data": {
      "text/plain": [
       "5"
      ]
     },
     "execution_count": 2,
     "metadata": {},
     "output_type": "execute_result"
    }
   ],
   "source": [
    "len(L)"
   ]
  },
  {
   "cell_type": "code",
   "execution_count": 3,
   "id": "2653e696-03df-45cc-a7e0-790b5b9623f5",
   "metadata": {},
   "outputs": [
    {
     "data": {
      "text/plain": [
       "int"
      ]
     },
     "execution_count": 3,
     "metadata": {},
     "output_type": "execute_result"
    }
   ],
   "source": [
    "type(len(L))"
   ]
  },
  {
   "cell_type": "code",
   "execution_count": 4,
   "id": "3a08e5dd-6efb-45b2-8ad9-4e7b62d1d034",
   "metadata": {},
   "outputs": [
    {
     "data": {
      "text/plain": [
       "range"
      ]
     },
     "execution_count": 4,
     "metadata": {},
     "output_type": "execute_result"
    }
   ],
   "source": [
    "range"
   ]
  },
  {
   "cell_type": "code",
   "execution_count": 3,
   "id": "c9c48430-b4a7-47b5-9c66-bf3df5d5040e",
   "metadata": {},
   "outputs": [],
   "source": [
    "def g(L):\n",
    "    D={}\n",
    "    a=0\n",
    "    count=0\n",
    "    N=L\n",
    "    while len(N)>0:\n",
    "        count+=1\n",
    "        current = L[0]\n",
    "        M = [0,current]\n",
    "        for i in L:\n",
    "            if i > current:\n",
    "                M.append(i)\n",
    "                current = i\n",
    "                N.remove(i)\n",
    "        L=N\n",
    "        D[count]=M\n",
    "\n",
    "    return D"
   ]
  },
  {
   "cell_type": "code",
   "execution_count": 4,
   "id": "1e53a916-8796-4af9-9342-2aca51409b60",
   "metadata": {},
   "outputs": [
    {
     "ename": "KeyboardInterrupt",
     "evalue": "",
     "output_type": "error",
     "traceback": [
      "\u001b[1;31m---------------------------------------------------------------------------\u001b[0m",
      "\u001b[1;31mKeyboardInterrupt\u001b[0m                         Traceback (most recent call last)",
      "Cell \u001b[1;32mIn[4], line 1\u001b[0m\n\u001b[1;32m----> 1\u001b[0m g([\u001b[38;5;241m1\u001b[39m,\u001b[38;5;241m2\u001b[39m,\u001b[38;5;241m4\u001b[39m,\u001b[38;5;241m3\u001b[39m])\n",
      "Cell \u001b[1;32mIn[3], line 11\u001b[0m, in \u001b[0;36mg\u001b[1;34m(L)\u001b[0m\n\u001b[0;32m      9\u001b[0m M \u001b[38;5;241m=\u001b[39m [\u001b[38;5;241m0\u001b[39m,current]\n\u001b[0;32m     10\u001b[0m \u001b[38;5;28;01mfor\u001b[39;00m i \u001b[38;5;129;01min\u001b[39;00m L:\n\u001b[1;32m---> 11\u001b[0m     \u001b[38;5;28;01mif\u001b[39;00m i \u001b[38;5;241m>\u001b[39m current:\n\u001b[0;32m     12\u001b[0m         M\u001b[38;5;241m.\u001b[39mappend(i)\n\u001b[0;32m     13\u001b[0m         current \u001b[38;5;241m=\u001b[39m i\n",
      "\u001b[1;31mKeyboardInterrupt\u001b[0m: "
     ]
    }
   ],
   "source": [
    "g([1,2,4,3])"
   ]
  },
  {
   "cell_type": "code",
   "execution_count": 29,
   "id": "057bc7fe-d168-462a-b603-827975762695",
   "metadata": {},
   "outputs": [
    {
     "name": "stdout",
     "output_type": "stream",
     "text": [
      "{1: [1, 2, 4, 3]}\n"
     ]
    }
   ],
   "source": [
    "L=[1,2,4,3]\n",
    "D={}\n",
    "D[1]=L\n",
    "\n",
    "\n",
    "print(D)"
   ]
  },
  {
   "cell_type": "code",
   "execution_count": null,
   "id": "1615c0f8-74a1-4455-bba1-921b8fc94c78",
   "metadata": {},
   "outputs": [],
   "source": []
  },
  {
   "cell_type": "code",
   "execution_count": 7,
   "id": "b16a6abc-a34f-48fe-9a52-860ed8e037f3",
   "metadata": {},
   "outputs": [
    {
     "name": "stdout",
     "output_type": "stream",
     "text": [
      "{1: [0, 10, 12, 14], 2: [0, 9, 11, 13], 3: [0, 1, 2, 3, 4, 6, 8], 4: [0, 4, 8], 5: [0, 5, 7]}\n"
     ]
    }
   ],
   "source": [
    "L=[10, 12, 9, 14, 1, 2, 11, 3, 4, 6, 8, 5, 13, 7]\n",
    "D={}\n",
    "count=0\n",
    "while L!=[]:\n",
    "    current=0\n",
    "    M=[0]\n",
    "    N=L.copy()\n",
    "    for i in L:\n",
    "        if current<i:\n",
    "            M.append(i)\n",
    "            current=i\n",
    "    count+=1\n",
    "    D[count]=M\n",
    "    for i in range(len(L)):\n",
    "        if L[i%len(L)] in M:\n",
    "            L.remove(L[i%len(L)])\n",
    "\n",
    "\n",
    "print(D)\n"
   ]
  },
  {
   "cell_type": "code",
   "execution_count": null,
   "id": "23e86303-651c-4c29-80c8-b54c668582c8",
   "metadata": {},
   "outputs": [],
   "source": [
    " {1: [0, 10, 12, 14], 2: [0, 9, 11, 13], 3: [0, 1, 2, 3, 4, 6, 8], 4: [0, 5, 7]}\n",
    "{1: [0, 8, 9, 10], 2: [0, 2, 6, 7], 3: [0, 4, 5], 4: [0, 3], 5: [0, 1]}\n",
    "[2,6,4,5,3,1,7]"
   ]
  },
  {
   "cell_type": "code",
   "execution_count": null,
   "id": "6f85b31a-9b54-4dbb-8e59-ae477bc53219",
   "metadata": {},
   "outputs": [],
   "source": [
    "L=[5, 3, 2, 1, 6, 4]\n",
    "M=[0,5,6]\n",
    "for item in L:\n",
    "    if item in M:\n",
    "        L.remove(item)\n",
    "print(L)"
   ]
  },
  {
   "cell_type": "code",
   "execution_count": 8,
   "id": "6cb16f08-d7a4-49a2-9e64-fb14e6c59dcd",
   "metadata": {},
   "outputs": [
    {
     "ename": "NameError",
     "evalue": "name 'pop' is not defined",
     "output_type": "error",
     "traceback": [
      "\u001b[1;31m---------------------------------------------------------------------------\u001b[0m",
      "\u001b[1;31mNameError\u001b[0m                                 Traceback (most recent call last)",
      "Cell \u001b[1;32mIn[8], line 1\u001b[0m\n\u001b[1;32m----> 1\u001b[0m help(pop)\n",
      "\u001b[1;31mNameError\u001b[0m: name 'pop' is not defined"
     ]
    }
   ],
   "source": [
    "help(pop)"
   ]
  },
  {
   "cell_type": "code",
   "execution_count": 61,
   "id": "bf4bb017-30e9-4b18-9ccf-ce7f6f91ca4e",
   "metadata": {},
   "outputs": [
    {
     "name": "stdout",
     "output_type": "stream",
     "text": [
      "8\n",
      "10\n"
     ]
    },
    {
     "ename": "IndexError",
     "evalue": "list index out of range",
     "output_type": "error",
     "traceback": [
      "\u001b[1;31m---------------------------------------------------------------------------\u001b[0m",
      "\u001b[1;31mIndexError\u001b[0m                                Traceback (most recent call last)",
      "Cell \u001b[1;32mIn[61], line 5\u001b[0m\n\u001b[0;32m      3\u001b[0m N\u001b[38;5;241m=\u001b[39mL\n\u001b[0;32m      4\u001b[0m \u001b[38;5;28;01mfor\u001b[39;00m i \u001b[38;5;129;01min\u001b[39;00m \u001b[38;5;28mrange\u001b[39m(\u001b[38;5;28mlen\u001b[39m(L)):\n\u001b[1;32m----> 5\u001b[0m     \u001b[38;5;28;01mif\u001b[39;00m L[i] \u001b[38;5;129;01min\u001b[39;00m M:\n\u001b[0;32m      6\u001b[0m         \u001b[38;5;28mprint\u001b[39m(L[i])\n\u001b[0;32m      7\u001b[0m         L\u001b[38;5;241m.\u001b[39mpop(i)\n",
      "\u001b[1;31mIndexError\u001b[0m: list index out of range"
     ]
    }
   ],
   "source": [
    "L=[8, 9, 2, 6, 4, 5, 3, 1, 10, 7]\n",
    "M=[0, 8, 9, 10]\n",
    "N=L\n",
    "for i in range(len(L)):\n",
    "    try:\n",
    "        if L[i] in M:\n",
    "            print(L[i])\n",
    "            L.pop(i)\n",
    "    \n",
    "print(N)\n",
    "print(L)"
   ]
  },
  {
   "cell_type": "code",
   "execution_count": 5,
   "id": "895d04b1-b1cb-45ad-931c-7d814ad54209",
   "metadata": {},
   "outputs": [
    {
     "name": "stdout",
     "output_type": "stream",
     "text": [
      "1 2 3 7\n"
     ]
    }
   ],
   "source": [
    "def f(a,b,c=5,d=7):\n",
    "    print(a,b,c,d)\n",
    "f(1,2,3)"
   ]
  },
  {
   "cell_type": "code",
   "execution_count": 35,
   "id": "99d50fb5-fa13-417e-a69d-9f431fe533c1",
   "metadata": {},
   "outputs": [],
   "source": [
    "def g(L):\n",
    "    D={}\n",
    "    count=0\n",
    "    while L:\n",
    "        M=[0]\n",
    "        current=0\n",
    "        N=L[:]\n",
    "        for i in range(len(L)):\n",
    "            if L[i]>current:\n",
    "                M.append(L[i])\n",
    "                current=L[i]\n",
    "        count+=1\n",
    "        D[count]=M\n",
    "        for i in N:\n",
    "            if i in M:\n",
    "                L.remove(i)\n",
    "    return D"
   ]
  },
  {
   "cell_type": "code",
   "execution_count": 36,
   "id": "11751d27-7396-4c7a-b76d-ccb7c1b0d295",
   "metadata": {},
   "outputs": [
    {
     "data": {
      "text/plain": [
       "{1: [0, 8, 9, 10], 2: [0, 2, 6, 7], 3: [0, 4, 5], 4: [0, 3], 5: [0, 1]}"
      ]
     },
     "execution_count": 36,
     "metadata": {},
     "output_type": "execute_result"
    }
   ],
   "source": [
    "L=[8, 9, 2, 6, 4, 5, 3, 1, 10, 7]\n",
    "g(L)"
   ]
  },
  {
   "cell_type": "code",
   "execution_count": 37,
   "id": "12f619d1-d1ac-4609-bdbc-8e8e6e204c63",
   "metadata": {},
   "outputs": [
    {
     "data": {
      "text/plain": [
       "{1: [0, 10, 12, 14], 2: [0, 9, 11, 13], 3: [0, 1, 2, 3, 4, 6, 8], 4: [0, 5, 7]}"
      ]
     },
     "execution_count": 37,
     "metadata": {},
     "output_type": "execute_result"
    }
   ],
   "source": [
    "L=[10, 12, 9, 14, 1, 2, 11, 3, 4, 6, 8, 5, 13, 7]\n",
    "g(L)\n",
    "        "
   ]
  },
  {
   "cell_type": "code",
   "execution_count": null,
   "id": "cf4396f4-72c6-45ea-8bf4-c0da76ca21cf",
   "metadata": {},
   "outputs": [],
   "source": [
    " {1: [0, 10, 12, 14], 2: [0, 9, 11, 13], 3: [0, 1, 2, 3, 4, 6, 8], 4: [0, 5, 7]}"
   ]
  },
  {
   "cell_type": "code",
   "execution_count": 5,
   "id": "0e18cfad-692d-4064-b0bd-37b728e92e17",
   "metadata": {},
   "outputs": [
    {
     "name": "stdout",
     "output_type": "stream",
     "text": [
      "-5\n"
     ]
    }
   ],
   "source": [
    "L=[]\n",
    "L.append(-1)\n",
    "L.append(-2)\n",
    "L.append(-3)\n",
    "L.append(-4)\n",
    "L.append(-5)\n",
    "L.append(-4)\n",
    "b= sorted(L)[0]\n",
    "print(b)"
   ]
  },
  {
   "cell_type": "code",
   "execution_count": 3,
   "id": "10353060-62a7-4a0e-8b56-1bde530b50b1",
   "metadata": {},
   "outputs": [
    {
     "data": {
      "text/plain": [
       "[0,\n",
       " 1,\n",
       " 2,\n",
       " 3,\n",
       " 4,\n",
       " 5,\n",
       " 6,\n",
       " 7,\n",
       " 8,\n",
       " 9,\n",
       " 10,\n",
       " 11,\n",
       " 12,\n",
       " 13,\n",
       " 14,\n",
       " 15,\n",
       " 17,\n",
       " 18,\n",
       " 19,\n",
       " 20,\n",
       " 21,\n",
       " 22,\n",
       " 23,\n",
       " 24,\n",
       " 25,\n",
       " 26,\n",
       " 27,\n",
       " 28,\n",
       " 29,\n",
       " 30,\n",
       " 31,\n",
       " 32,\n",
       " 33,\n",
       " 34,\n",
       " 35,\n",
       " 37,\n",
       " 38,\n",
       " 39,\n",
       " 40,\n",
       " 41,\n",
       " 42,\n",
       " 43,\n",
       " 44,\n",
       " 45,\n",
       " 46,\n",
       " 47,\n",
       " 48,\n",
       " 49,\n",
       " 50,\n",
       " 51]"
      ]
     },
     "execution_count": 3,
     "metadata": {},
     "output_type": "execute_result"
    }
   ],
   "source": [
    "from random import seed, shuffle\n",
    "cards = sorted(set(range(52)) - {16, 36})\n",
    "cards"
   ]
  },
  {
   "cell_type": "code",
   "execution_count": 8,
   "id": "03632d78-dd17-4eb8-a772-fc6d8870b340",
   "metadata": {},
   "outputs": [
    {
     "name": "stdout",
     "output_type": "stream",
     "text": [
      "49\n",
      "43\n",
      "30\n",
      "22\n"
     ]
    }
   ],
   "source": [
    "from random import seed, randint\n",
    "\n",
    "seed(41) \n",
    "print(randint(1, 100))  # 81\n",
    "print(randint(1, 100))  # 14\n",
    "print(randint(1, 100))  # 81\n",
    "print(randint(1, 100))"
   ]
  },
  {
   "cell_type": "code",
   "execution_count": 13,
   "id": "c5c3326e-f1ad-4757-8bd4-d41cddbcc5ab",
   "metadata": {},
   "outputs": [
    {
     "data": {
      "text/plain": [
       "52"
      ]
     },
     "execution_count": 13,
     "metadata": {},
     "output_type": "execute_result"
    }
   ],
   "source": [
    "cards = list(range(52))\n",
    "seed(678)\n",
    "shuffle(cards)\n",
    "len(cards)"
   ]
  },
  {
   "cell_type": "code",
   "execution_count": null,
   "id": "3a335a18-5c6a-4cfc-bed1-2393750d56f2",
   "metadata": {},
   "outputs": [],
   "source": []
  }
 ],
 "metadata": {
  "kernelspec": {
   "display_name": "Python 3 (ipykernel)",
   "language": "python",
   "name": "python3"
  },
  "language_info": {
   "codemirror_mode": {
    "name": "ipython",
    "version": 3
   },
   "file_extension": ".py",
   "mimetype": "text/x-python",
   "name": "python",
   "nbconvert_exporter": "python",
   "pygments_lexer": "ipython3",
   "version": "3.12.7"
  }
 },
 "nbformat": 4,
 "nbformat_minor": 5
}
