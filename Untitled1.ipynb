{
 "cells": [
  {
   "cell_type": "code",
   "execution_count": 1,
   "id": "8da76169-46e2-4d3b-acbc-fd54e34dd08e",
   "metadata": {},
   "outputs": [
    {
     "name": "stdout",
     "output_type": "stream",
     "text": [
      "你的用户site-packages目录：\n",
      "C:\\Users\\薛可涵\\AppData\\Roaming\\Python\\Python312\\site-packages\n"
     ]
    }
   ],
   "source": [
    "# 在任何Python终端中运行此代码获取用户site-packages路径\n",
    "import site\n",
    "print(\"你的用户site-packages目录：\")\n",
    "print(site.USER_SITE)"
   ]
  },
  {
   "cell_type": "code",
   "execution_count": 2,
   "id": "f56eba17-7546-4e41-ad52-98025c46d28a",
   "metadata": {},
   "outputs": [
    {
     "ename": "SyntaxError",
     "evalue": "invalid syntax (2492226924.py, line 1)",
     "output_type": "error",
     "traceback": [
      "\u001b[1;36m  Cell \u001b[1;32mIn[2], line 1\u001b[1;36m\u001b[0m\n\u001b[1;33m    python -c \"import sys; print(f'{sys.version_info.major}.{sys.version_info.minor}')\"\u001b[0m\n\u001b[1;37m              ^\u001b[0m\n\u001b[1;31mSyntaxError\u001b[0m\u001b[1;31m:\u001b[0m invalid syntax\n"
     ]
    }
   ],
   "source": [
    "python -c \"import sys; print(f'{sys.version_info.major}.{sys.version_info.minor}')\""
   ]
  },
  {
   "cell_type": "code",
   "execution_count": 3,
   "id": "e699b368-209c-4712-9c7e-5fc88c3f91a8",
   "metadata": {},
   "outputs": [
    {
     "name": "stdout",
     "output_type": "stream",
     "text": [
      "系统路径包含：\n",
      "C:\\Users\\薛可涵\n",
      "D:\\anaconda3\\python312.zip\n",
      "D:\\anaconda3\\DLLs\n",
      "D:\\anaconda3\\Lib\n",
      "D:\\anaconda3\n",
      "\n",
      "C:\\Users\\薛可涵\\AppData\\Roaming\\Python\\Python312\\site-packages\n",
      "D:\\anaconda3\\Lib\\site-packages\n",
      "D:\\anaconda3\\Lib\\site-packages\\win32\n",
      "D:\\anaconda3\\Lib\\site-packages\\win32\\lib\n",
      "D:\\anaconda3\\Lib\\site-packages\\Pythonwin\n",
      "D:\\anaconda3\\Lib\\site-packages\\setuptools\\_vendor\n",
      "\n",
      "文件位置验证：\n",
      "C:\\Users\\薛可涵\\AppData\\Roaming\\Python\\Python312\\site-packages\\run_and_test.py\n"
     ]
    }
   ],
   "source": [
    "# 在Jupyter Notebook中运行\n",
    "import sys\n",
    "import run_and_test  # 不应该报错\n",
    "\n",
    "print(\"系统路径包含：\")\n",
    "print('\\n'.join(sys.path))\n",
    "\n",
    "print(\"\\n文件位置验证：\")\n",
    "print(run_and_test.__file__)  # 应显示正确的部署路径"
   ]
  },
  {
   "cell_type": "code",
   "execution_count": null,
   "id": "e3f78f0a-a254-467c-8a8c-a30834799603",
   "metadata": {},
   "outputs": [],
   "source": []
  }
 ],
 "metadata": {
  "kernelspec": {
   "display_name": "Python 3 (ipykernel)",
   "language": "python",
   "name": "python3"
  },
  "language_info": {
   "codemirror_mode": {
    "name": "ipython",
    "version": 3
   },
   "file_extension": ".py",
   "mimetype": "text/x-python",
   "name": "python",
   "nbconvert_exporter": "python",
   "pygments_lexer": "ipython3",
   "version": "3.12.7"
  }
 },
 "nbformat": 4,
 "nbformat_minor": 5
}
