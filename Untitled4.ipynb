{
 "cells": [
  {
   "cell_type": "code",
   "execution_count": 1,
   "id": "5a744932-ac22-4689-a62b-b15c2647f729",
   "metadata": {},
   "outputs": [
    {
     "data": {
      "text/plain": [
       "111111111"
      ]
     },
     "execution_count": 1,
     "metadata": {},
     "output_type": "execute_result"
    }
   ],
   "source": [
    "int('111111111')"
   ]
  },
  {
   "cell_type": "code",
   "execution_count": 3,
   "id": "655b9cf8-e621-440e-808d-60ae55e11d21",
   "metadata": {},
   "outputs": [
    {
     "data": {
      "text/plain": [
       "255"
      ]
     },
     "execution_count": 3,
     "metadata": {},
     "output_type": "execute_result"
    }
   ],
   "source": [
    "int('11111111',2)"
   ]
  },
  {
   "cell_type": "code",
   "execution_count": 4,
   "id": "59c2282a-b00b-451d-8058-729b1e007888",
   "metadata": {},
   "outputs": [
    {
     "data": {
      "text/plain": [
       "255"
      ]
     },
     "execution_count": 4,
     "metadata": {},
     "output_type": "execute_result"
    }
   ],
   "source": [
    "0b11111111"
   ]
  },
  {
   "cell_type": "code",
   "execution_count": 5,
   "id": "146fd23f-352d-48c4-b6d0-a88e2345003e",
   "metadata": {},
   "outputs": [
    {
     "data": {
      "text/plain": [
       "18"
      ]
     },
     "execution_count": 5,
     "metadata": {},
     "output_type": "execute_result"
    }
   ],
   "source": [
    "0b10010"
   ]
  },
  {
   "cell_type": "code",
   "execution_count": 6,
   "id": "54102ff6-9722-4d99-9418-74f64002542b",
   "metadata": {},
   "outputs": [
    {
     "data": {
      "text/plain": [
       "459"
      ]
     },
     "execution_count": 6,
     "metadata": {},
     "output_type": "execute_result"
    }
   ],
   "source": [
    "0o713"
   ]
  },
  {
   "cell_type": "code",
   "execution_count": 8,
   "id": "84e07b5c-25a6-4cac-9f67-12ab8c075432",
   "metadata": {},
   "outputs": [
    {
     "data": {
      "text/plain": [
       "459"
      ]
     },
     "execution_count": 8,
     "metadata": {},
     "output_type": "execute_result"
    }
   ],
   "source": [
    "3+1*8+7*8**2"
   ]
  },
  {
   "cell_type": "code",
   "execution_count": 9,
   "id": "05d58d47-4064-4afa-bdbf-1c1639ceddde",
   "metadata": {},
   "outputs": [
    {
     "data": {
      "text/plain": [
       "708"
      ]
     },
     "execution_count": 9,
     "metadata": {},
     "output_type": "execute_result"
    }
   ],
   "source": [
    "0x2c4"
   ]
  },
  {
   "cell_type": "code",
   "execution_count": 10,
   "id": "d0a40b59-2352-4217-aeef-9fb26ea23c2d",
   "metadata": {},
   "outputs": [
    {
     "data": {
      "text/plain": [
       "708"
      ]
     },
     "execution_count": 10,
     "metadata": {},
     "output_type": "execute_result"
    }
   ],
   "source": [
    "4+12*16+2*16**2"
   ]
  },
  {
   "cell_type": "code",
   "execution_count": 11,
   "id": "eb38bfd8-2537-4d26-aca7-f89ca09d8744",
   "metadata": {},
   "outputs": [
    {
     "data": {
      "text/plain": [
       "123"
      ]
     },
     "execution_count": 11,
     "metadata": {},
     "output_type": "execute_result"
    }
   ],
   "source": [
    "int('123')"
   ]
  },
  {
   "cell_type": "code",
   "execution_count": 12,
   "id": "99ef0b9e-2191-4e35-951e-c83826d5f328",
   "metadata": {},
   "outputs": [
    {
     "data": {
      "text/plain": [
       "459"
      ]
     },
     "execution_count": 12,
     "metadata": {},
     "output_type": "execute_result"
    }
   ],
   "source": [
    "int('713',8)"
   ]
  },
  {
   "cell_type": "code",
   "execution_count": 13,
   "id": "c0f4320f-a997-411b-9302-7e697fc68fab",
   "metadata": {},
   "outputs": [
    {
     "ename": "TypeError",
     "evalue": "int() can't convert non-string with explicit base",
     "output_type": "error",
     "traceback": [
      "\u001b[1;31m---------------------------------------------------------------------------\u001b[0m",
      "\u001b[1;31mTypeError\u001b[0m                                 Traceback (most recent call last)",
      "Cell \u001b[1;32mIn[13], line 1\u001b[0m\n\u001b[1;32m----> 1\u001b[0m \u001b[38;5;28mint\u001b[39m(\u001b[38;5;241m713\u001b[39m,\u001b[38;5;241m8\u001b[39m)\n",
      "\u001b[1;31mTypeError\u001b[0m: int() can't convert non-string with explicit base"
     ]
    }
   ],
   "source": [
    "int(713,8)"
   ]
  },
  {
   "cell_type": "code",
   "execution_count": 14,
   "id": "15cf5cf6-90af-4483-96a2-2376598603fa",
   "metadata": {},
   "outputs": [
    {
     "data": {
      "text/plain": [
       "'90'"
      ]
     },
     "execution_count": 14,
     "metadata": {},
     "output_type": "execute_result"
    }
   ],
   "source": [
    "f'{90}'"
   ]
  },
  {
   "cell_type": "code",
   "execution_count": 15,
   "id": "64a7a59a-ac8d-439b-bfc7-f8aa7787e91d",
   "metadata": {},
   "outputs": [
    {
     "data": {
      "text/plain": [
       "'10010'"
      ]
     },
     "execution_count": 15,
     "metadata": {},
     "output_type": "execute_result"
    }
   ],
   "source": [
    "f'{10010}'"
   ]
  },
  {
   "cell_type": "code",
   "execution_count": 17,
   "id": "b78a0be6-fe57-4c8b-a063-fc000f7ec5c2",
   "metadata": {},
   "outputs": [
    {
     "data": {
      "text/plain": [
       "'1010'"
      ]
     },
     "execution_count": 17,
     "metadata": {},
     "output_type": "execute_result"
    }
   ],
   "source": [
    "f'{10:b}'"
   ]
  },
  {
   "cell_type": "code",
   "execution_count": 18,
   "id": "582232dd-ad3e-456e-ad32-080188149555",
   "metadata": {},
   "outputs": [
    {
     "data": {
      "text/plain": [
       "'00001010'"
      ]
     },
     "execution_count": 18,
     "metadata": {},
     "output_type": "execute_result"
    }
   ],
   "source": [
    "f'{10:08b}'"
   ]
  },
  {
   "cell_type": "code",
   "execution_count": 23,
   "id": "6861f2e3-bcac-40f6-81e8-98537a7fb7bf",
   "metadata": {},
   "outputs": [
    {
     "data": {
      "text/plain": [
       "'01011010'"
      ]
     },
     "execution_count": 23,
     "metadata": {},
     "output_type": "execute_result"
    }
   ],
   "source": [
    "f'{90:08b}'"
   ]
  },
  {
   "cell_type": "raw",
   "id": "f45feff4-fc0c-44f7-bd30-d04a2cba6e89",
   "metadata": {},
   "source": [
    "a = 10"
   ]
  },
  {
   "cell_type": "code",
   "execution_count": 37,
   "id": "2b671ba2-7129-4005-b4d5-4cdbc24af38c",
   "metadata": {},
   "outputs": [
    {
     "data": {
      "text/plain": [
       "'01011010'"
      ]
     },
     "execution_count": 37,
     "metadata": {},
     "output_type": "execute_result"
    }
   ],
   "source": [
    "\n",
    "f'{a:08b}'"
   ]
  },
  {
   "cell_type": "code",
   "execution_count": 32,
   "id": "f534af4e-a1d5-43c3-9426-f838214cca0a",
   "metadata": {},
   "outputs": [
    {
     "data": {
      "text/plain": [
       "'01011010'"
      ]
     },
     "execution_count": 32,
     "metadata": {},
     "output_type": "execute_result"
    }
   ],
   "source": [
    "rule_nb=90\n",
    "f'{rule_nb:08b}'"
   ]
  },
  {
   "cell_type": "code",
   "execution_count": 39,
   "id": "27c542b2-6792-4d9d-bb2c-f2a3fcbdce46",
   "metadata": {},
   "outputs": [
    {
     "data": {
      "text/plain": [
       "[0, 1, 0, 1, 1, 0, 1, 0]"
      ]
     },
     "execution_count": 39,
     "metadata": {},
     "output_type": "execute_result"
    }
   ],
   "source": [
    "rule_values=[int(e) for e in f'{rule_nb:08b}']\n",
    "rule_values"
   ]
  },
  {
   "cell_type": "code",
   "execution_count": 41,
   "id": "35b0dcd7-c3c4-4ce5-9c75-865cb3a6080d",
   "metadata": {},
   "outputs": [],
   "source": [
    "rules={}"
   ]
  },
  {
   "cell_type": "code",
   "execution_count": 48,
   "id": "5f835bbf-bddd-4889-919c-7441fa23bb33",
   "metadata": {},
   "outputs": [],
   "source": [
    "reues={}\n",
    "rules={(tuple(int(b) for b in f'{i:03b}')) : rule_values[i] for i in range(8)}"
   ]
  },
  {
   "cell_type": "code",
   "execution_count": 49,
   "id": "6d59a25f-e9e8-4c73-9515-3901a742902e",
   "metadata": {},
   "outputs": [
    {
     "data": {
      "text/plain": [
       "{(0, 0, 0): 0,\n",
       " (0, 0, 1): 1,\n",
       " (0, 1, 0): 0,\n",
       " (0, 1, 1): 1,\n",
       " (1, 0, 0): 1,\n",
       " (1, 0, 1): 0,\n",
       " (1, 1, 0): 1,\n",
       " (1, 1, 1): 0}"
      ]
     },
     "execution_count": 49,
     "metadata": {},
     "output_type": "execute_result"
    }
   ],
   "source": [
    "rules"
   ]
  },
  {
   "cell_type": "code",
   "execution_count": 50,
   "id": "bbff02cd-885a-4f10-9a10-4555857c0432",
   "metadata": {},
   "outputs": [
    {
     "data": {
      "text/plain": [
       "'100111'"
      ]
     },
     "execution_count": 50,
     "metadata": {},
     "output_type": "execute_result"
    }
   ],
   "source": [
    "f'{39:b}'"
   ]
  },
  {
   "cell_type": "code",
   "execution_count": 54,
   "id": "321488e8-bc04-4c74-af10-ede7d5bcccf4",
   "metadata": {},
   "outputs": [
    {
     "data": {
      "text/plain": [
       "'10011'"
      ]
     },
     "execution_count": 54,
     "metadata": {},
     "output_type": "execute_result"
    }
   ],
   "source": [
    "f'{19:b}'"
   ]
  },
  {
   "cell_type": "code",
   "execution_count": 52,
   "id": "6f133264-d6bf-4b5c-8b78-586fec1a3f5b",
   "metadata": {},
   "outputs": [
    {
     "data": {
      "text/plain": [
       "(4, 7)"
      ]
     },
     "execution_count": 52,
     "metadata": {},
     "output_type": "execute_result"
    }
   ],
   "source": [
    "39//8,39%8"
   ]
  },
  {
   "cell_type": "code",
   "execution_count": 53,
   "id": "88c7aa58-22f9-4057-94e1-294dbc06a2c5",
   "metadata": {},
   "outputs": [
    {
     "data": {
      "text/plain": [
       "('100', '111')"
      ]
     },
     "execution_count": 53,
     "metadata": {},
     "output_type": "execute_result"
    }
   ],
   "source": [
    "f'{4:b}',f'{7:b}'"
   ]
  },
  {
   "cell_type": "code",
   "execution_count": 58,
   "id": "682d5138-86e0-4b76-b939-dca03955da92",
   "metadata": {},
   "outputs": [],
   "source": [
    "for i in range(8):\n",
    "    {i//4,i//2%2,i%2}"
   ]
  },
  {
   "cell_type": "code",
   "execution_count": 6,
   "id": "83c73b1e-4ed5-45b5-b1c3-250b4ede09fc",
   "metadata": {},
   "outputs": [
    {
     "name": "stdout",
     "output_type": "stream",
     "text": [
      "Sentences!\n"
     ]
    }
   ],
   "source": [
    "text = \"  NOW we have TWO SENTENCES!   here is the second one.  \"\n",
    "a=text.split()\n",
    "print(a[4].title())"
   ]
  },
  {
   "cell_type": "code",
   "execution_count": 7,
   "id": "72c491b5-1b2c-4e0a-a58a-c1f86918fcee",
   "metadata": {},
   "outputs": [
    {
     "ename": "SyntaxError",
     "evalue": "invalid syntax (1488028248.py, line 3)",
     "output_type": "error",
     "traceback": [
      "\u001b[1;36m  Cell \u001b[1;32mIn[7], line 3\u001b[1;36m\u001b[0m\n\u001b[1;33m    for i in range(len(a):\u001b[0m\n\u001b[1;37m                         ^\u001b[0m\n\u001b[1;31mSyntaxError\u001b[0m\u001b[1;31m:\u001b[0m invalid syntax\n"
     ]
    }
   ],
   "source": [
    "def f2(text):\n",
    "    a=text.split()\n",
    "    for i in range(len(a):\n",
    "        if i==0 or a[i][-1] in '.!?':\n",
    "            a[i]=a[i].title()\n",
    "        else:\n",
    "            a[i]=a[i].lower()\n",
    "    return ' '.join(a)"
   ]
  },
  {
   "cell_type": "code",
   "execution_count": null,
   "id": "ee5b97e7-accd-4495-948d-a76355bfdbb1",
   "metadata": {},
   "outputs": [],
   "source": []
  }
 ],
 "metadata": {
  "kernelspec": {
   "display_name": "Python 3 (ipykernel)",
   "language": "python",
   "name": "python3"
  },
  "language_info": {
   "codemirror_mode": {
    "name": "ipython",
    "version": 3
   },
   "file_extension": ".py",
   "mimetype": "text/x-python",
   "name": "python",
   "nbconvert_exporter": "python",
   "pygments_lexer": "ipython3",
   "version": "3.12.7"
  }
 },
 "nbformat": 4,
 "nbformat_minor": 5
}
